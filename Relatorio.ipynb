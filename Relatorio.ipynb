{
 "cells": [
  {
   "cell_type": "markdown",
   "metadata": {},
   "source": [
    "# Projeto - Séries Temporais\n",
    "## Residência em Ciência de Dados - SAMSUNG/UFPE\n",
    "\n",
    "### Alunos:\n",
    "- Lucas Couri (lncc2)\n",
    "- Mariama Oliveira (mcso)"
   ]
  },
  {
   "cell_type": "markdown",
   "metadata": {},
   "source": [
    "# Bibliotecas"
   ]
  },
  {
   "cell_type": "code",
   "execution_count": 96,
   "metadata": {},
   "outputs": [],
   "source": [
    "#import statsmodels.api as sm\n",
    "import statsmodels.tsa.api as tsa\n",
    "#from statsmodels.tsa.ar_model import AutoReg\n",
    "from statsmodels.tsa.arima.model import ARIMA\n",
    "from statsmodels.graphics.tsaplots import plot_acf, plot_pacf\n",
    "from sklearn.metrics import mean_absolute_error, mean_absolute_percentage_error, mean_squared_error, r2_score\n",
    "# import pmdarima as pm\n",
    "import pandas as pd\n",
    "import numpy as np\n",
    "import matplotlib.pyplot as plt\n",
    "import warnings\n",
    "warnings.filterwarnings(\"ignore\", category=Warning)\n",
    "#import matplotlib as mpl\n",
    "#import seaborn as sns\n",
    "from sklearn.model_selection import cross_val_score, train_test_split\n",
    "from sklearn.model_selection import GridSearchCV, TimeSeriesSplit\n",
    "from sklearn.model_selection import learning_curve\n",
    "from sklearn.neighbors import KNeighborsRegressor\n",
    "\n",
    "#mpl.rcParams['figure.figsize'] = [10, 5]\n",
    "\n",
    "results = {}"
   ]
  },
  {
   "cell_type": "markdown",
   "metadata": {},
   "source": [
    "Utilizamos o dataset disponível no Kaggle sobre as temperaturas médias em Delhi (https://www.kaggle.com/datasets/mahirkukreja/delhi-weather-data). O dataset já era dividido em train e test, portanto, juntamos os dois datasets para depois separar em train e test da forma desejada."
   ]
  },
  {
   "cell_type": "code",
   "execution_count": 97,
   "metadata": {},
   "outputs": [],
   "source": [
    "#https://www.kaggle.com/datasets/mahirkukreja/delhi-weather-data\n",
    "df = pd.read_csv(\"temp_delhi.csv\")"
   ]
  },
  {
   "cell_type": "code",
   "execution_count": 98,
   "metadata": {},
   "outputs": [],
   "source": [
    "df = df[[\"date\", \"meantemp\"]]\n",
    "df['date'] = pd.to_datetime(df['date'], format='%m/%d/%Y')\n",
    "df.set_index(df['date'], inplace=True) \n",
    "df = df.drop('date', 1)\n"
   ]
  },
  {
   "cell_type": "code",
   "execution_count": null,
   "metadata": {},
   "outputs": [],
   "source": [
    "df.shape"
   ]
  },
  {
   "cell_type": "code",
   "execution_count": null,
   "metadata": {},
   "outputs": [],
   "source": [
    "df.tail()"
   ]
  },
  {
   "cell_type": "markdown",
   "metadata": {},
   "source": [
    "Separando dados em treino, teste e validação. Vale notar que para os modelos lineares utilizaremos apenas treino (75%) e teste (25%), enquanto que para os modelos de machine learning utilizaremos treino (50%), validação (25%) e teste (25%)."
   ]
  },
  {
   "cell_type": "code",
   "execution_count": null,
   "metadata": {},
   "outputs": [],
   "source": [
    "df_train = df.iloc[:int(len(df) * 0.75)]\n",
    "df_test = df.iloc[int(len(df) * 0.75):]\n",
    "\n",
    "#df_train2 = df.iloc[:int(len(df) * 0.5)]\n",
    "#df_valid2 = df.iloc[int(len(df) * 0.5):int(len(df) * 0.75)]\n",
    "#df_test2 = df.iloc[int(len(df) * 0.75):]"
   ]
  },
  {
   "cell_type": "markdown",
   "metadata": {},
   "source": [
    "#### Funções de apoio"
   ]
  },
  {
   "cell_type": "markdown",
   "metadata": {},
   "source": [
    "Algumas funções construídas para exibir e salvar as métricas de cada modelo e plotar os gráficos de ajuste e predição."
   ]
  },
  {
   "cell_type": "code",
   "execution_count": 99,
   "metadata": {},
   "outputs": [],
   "source": [
    "def show_metrics(y_test,prediction, results, name):\n",
    "    print(f'{name} - model Results')\n",
    "    print('r2' , r2_score(prediction, y_test))\n",
    "    print('mse' ,mean_squared_error(prediction, y_test))\n",
    "    print('mae', mean_absolute_error(prediction, y_test))\n",
    "    print('mape', mean_absolute_percentage_error(prediction, y_test))\n",
    "    metrics = {'r2':r2_score(prediction, y_test), \\\n",
    "                    'mse': mean_squared_error(prediction, y_test), \n",
    "                    'mae': mean_absolute_error(prediction, y_test),\n",
    "                    'mape': mean_absolute_percentage_error(prediction, y_test)}\n",
    "    results[name] = metrics\n",
    "    return metrics\n",
    "    \n",
    "\n",
    "def graf_ajuste(pred, train, titulo):\n",
    "    #Previsão do treino\n",
    "    fig, ax = plt.subplots()\n",
    "    ax.plot(pred, label='pred')\n",
    "    ax.plot(train, label='true')\n",
    "    plt.title(titulo)\n",
    "    plt.legend()\n",
    "\n",
    "def graf_pred(fc, train, test, titulo, SVR=False):\n",
    "    \n",
    "    fc_series = pd.Series(fc, index=test.index[1:])\n",
    "\n",
    "    #if(SVR==True):\n",
    "    #    fc = fitted\n",
    "    #    fc_series = pd.Series(fc, index=test.index[1:])\n",
    "    #else:\n",
    "        #fitted2 = fitted.apply(test)\n",
    "        #fc = fitted2.predict(start='2016-03-28', end='2017-04-24')  # 95% conf\n",
    "        #fc_series = pd.Series(fc, index=test.index)\n",
    "\n",
    "    # Plot\n",
    "    #plt.figure(figsize=(12,5), dpi=100)\n",
    "    plt.plot(train, label='Treino')\n",
    "    plt.plot(test, label='Teste')\n",
    "    plt.plot(fc_series, label='Predição')\n",
    "    plt.title(titulo)\n",
    "    plt.legend(loc='upper left', fontsize=8)\n",
    "    plt.show()"
   ]
  },
  {
   "cell_type": "markdown",
   "metadata": {},
   "source": [
    "## Plot"
   ]
  },
  {
   "cell_type": "markdown",
   "metadata": {},
   "source": [
    "Plotando a série temporal da temperatura média de Delhi"
   ]
  },
  {
   "cell_type": "code",
   "execution_count": null,
   "metadata": {},
   "outputs": [],
   "source": [
    "df.plot()\n",
    "plt.title(\"Temperatura Média - Delhi\")\n",
    "plt.xlabel(\"Data\")\n",
    "plt.ylabel(\"Temperatura\")\n",
    "plt.rcParams[\"figure.figsize\"] = (15,10)\n",
    "plt.show()"
   ]
  },
  {
   "cell_type": "markdown",
   "metadata": {},
   "source": [
    "## Decomposição"
   ]
  },
  {
   "cell_type": "markdown",
   "metadata": {},
   "source": [
    "Através da decomposição verificamos que há tendência e sazonalidade, portanto a série não deve ser estacionária, vamos verificar a seguir."
   ]
  },
  {
   "cell_type": "code",
   "execution_count": null,
   "metadata": {},
   "outputs": [],
   "source": [
    "from pylab import rcParams\n",
    "rcParams['figure.figsize'] = 6, 4\n",
    "df_decomp = tsa.seasonal_decompose(df, period=365)\n",
    "df_decomp.plot()"
   ]
  },
  {
   "cell_type": "markdown",
   "metadata": {},
   "source": [
    "## Autocorrelação e Estacionariedade"
   ]
  },
  {
   "cell_type": "markdown",
   "metadata": {},
   "source": [
    "Como a função de auto correlação abaixo não decai  para zero, suspeitamos de que a série não seja estacionária. Vamos verificar a seguir por meio de um teste de hipótese."
   ]
  },
  {
   "cell_type": "code",
   "execution_count": null,
   "metadata": {},
   "outputs": [],
   "source": [
    "plot_acf(df)"
   ]
  },
  {
   "cell_type": "code",
   "execution_count": null,
   "metadata": {},
   "outputs": [],
   "source": [
    "plot_pacf(df)"
   ]
  },
  {
   "cell_type": "markdown",
   "metadata": {},
   "source": [
    "Considerando um nível de confiança de 0,05 verificamos que o teste de Dickey-Fuller nos leva a não rejeitar a hipótese nula de não estacionariedade, visto que o p-valor = 0,149 (>0,05). Portanto, temos evidências que a série não é estacionária."
   ]
  },
  {
   "cell_type": "code",
   "execution_count": null,
   "metadata": {},
   "outputs": [],
   "source": [
    "test, pvalue, lags, obs, critic, ic = tsa.stattools.adfuller(df)\n",
    "print(pvalue)\n",
    "print(lags)"
   ]
  },
  {
   "cell_type": "markdown",
   "metadata": {},
   "source": [
    "## Diferenciação"
   ]
  },
  {
   "cell_type": "code",
   "execution_count": null,
   "metadata": {},
   "outputs": [],
   "source": [
    "df.diff().plot()\n",
    "plt.title(\"Série diferenciada\")\n",
    "plt.xlabel(\"Data\")\n",
    "plt.ylabel(\"Temperatura\")\n",
    "plt.rcParams[\"figure.figsize\"] = (15,10)\n",
    "plt.show()"
   ]
  },
  {
   "cell_type": "markdown",
   "metadata": {},
   "source": [
    "Após diferenciar a série aparenta ser estacionária, vamos verificar com o teste de Dickey-Fuller."
   ]
  },
  {
   "cell_type": "code",
   "execution_count": null,
   "metadata": {},
   "outputs": [],
   "source": [
    "df.diff().plot.hist()\n",
    "plt.title(\"Histograma da série diferenciada\")\n",
    "plt.ylabel(\"Frequência\")\n",
    "plt.rcParams[\"figure.figsize\"] = (15,10)\n",
    "plt.show()"
   ]
  },
  {
   "cell_type": "code",
   "execution_count": null,
   "metadata": {},
   "outputs": [],
   "source": [
    "dfd1 = df.diff().dropna()"
   ]
  },
  {
   "cell_type": "markdown",
   "metadata": {},
   "source": [
    "Como o p-valor<0,05 então decidimos rejeitar a hipótese nula de não estacionariedade à um nível de confiança de 0,05. Portanto, após diferenciar uma vez a série temos evidências para acreditar que a série se tornou estacionária."
   ]
  },
  {
   "cell_type": "code",
   "execution_count": null,
   "metadata": {},
   "outputs": [],
   "source": [
    "test, pvalue, lags, obs, critic, ic = tsa.stattools.adfuller(dfd1)\n",
    "print(pvalue)\n",
    "print(lags)"
   ]
  },
  {
   "cell_type": "markdown",
   "metadata": {},
   "source": [
    "## Autocorrelação da série diferenciada"
   ]
  },
  {
   "cell_type": "markdown",
   "metadata": {},
   "source": [
    "### Correlação"
   ]
  },
  {
   "cell_type": "markdown",
   "metadata": {},
   "source": [
    "Correlação com série diferenciada"
   ]
  },
  {
   "cell_type": "code",
   "execution_count": null,
   "metadata": {},
   "outputs": [],
   "source": [
    "dfd1.corrwith(dfd1.shift(1))"
   ]
  },
  {
   "cell_type": "code",
   "execution_count": null,
   "metadata": {},
   "outputs": [],
   "source": [
    "plot_acf(dfd1)"
   ]
  },
  {
   "cell_type": "markdown",
   "metadata": {},
   "source": [
    "Verificamos a partir do comportamento da função de autocorrelação acima que os lags são significantes até o lag 3, e a partir dele se tornam não significativos. "
   ]
  },
  {
   "cell_type": "markdown",
   "metadata": {},
   "source": [
    "## Autocorrelação Parcial"
   ]
  },
  {
   "cell_type": "markdown",
   "metadata": {},
   "source": [
    "Correlação Parcial com série diferenciada"
   ]
  },
  {
   "cell_type": "code",
   "execution_count": null,
   "metadata": {},
   "outputs": [],
   "source": [
    "plot_pacf(dfd1)"
   ]
  },
  {
   "cell_type": "markdown",
   "metadata": {},
   "source": [
    "Verificamos a partir da função de autocorrelação parcial acima que a partir do lag5 os lags se tornam não significativos. Analisando de forma mais conservadora é possível argumentar que o lag5 está bem próximo do limite."
   ]
  },
  {
   "cell_type": "markdown",
   "metadata": {},
   "source": [
    "### ARIMA"
   ]
  },
  {
   "cell_type": "code",
   "execution_count": null,
   "metadata": {},
   "outputs": [],
   "source": [
    "df_train.index = pd.DatetimeIndex(df_train.index.values, freq=df_train.index.inferred_freq)\n",
    "#df_train.head()"
   ]
  },
  {
   "cell_type": "markdown",
   "metadata": {},
   "source": [
    "Função para realizar o ajuste dos modelos ARIMA"
   ]
  },
  {
   "cell_type": "code",
   "execution_count": null,
   "metadata": {},
   "outputs": [],
   "source": [
    "def perform_arima(p,d,q,data):\n",
    "    arima_model = ARIMA(data, order=(p,d,q))\n",
    "    res_arima = arima_model.fit()\n",
    "    print(res_arima.summary())\n",
    "    res_arima.plot_diagnostics()\n",
    "    return res_arima\n"
   ]
  },
  {
   "cell_type": "markdown",
   "metadata": {},
   "source": [
    "#### ARIMA (5,1,3)"
   ]
  },
  {
   "cell_type": "markdown",
   "metadata": {},
   "source": [
    "A partir da analise dos gráficos da função de autocorrelação e autocorrelação parcial decidimos ajustar um ARIMA (5,1,3) visto que a série se torna estacionária após uma diferenciação, há decaimento após lag 3 do gráfico de autocorrelação e também há um corte após o lag 5 do gráfico de autocorrelação parcial."
   ]
  },
  {
   "cell_type": "code",
   "execution_count": null,
   "metadata": {},
   "outputs": [],
   "source": [
    "res_arima_1 = perform_arima(5,1,3,df_train)"
   ]
  },
  {
   "cell_type": "code",
   "execution_count": null,
   "metadata": {},
   "outputs": [],
   "source": [
    "res_arima_1_test = res_arima_1.apply(df_test)\n",
    "fc = res_arima_1_test.predict(start='2016-03-28', end='2017-04-24')\n",
    "graf_pred(fc, df_train, df_test, 'Delhi - ARIMA (5,1,3) - Predição')"
   ]
  },
  {
   "cell_type": "code",
   "execution_count": null,
   "metadata": {},
   "outputs": [],
   "source": [
    "show_metrics(df_test[1:], fc, results, 'ARIMA(5,1,3)')"
   ]
  },
  {
   "cell_type": "markdown",
   "metadata": {},
   "source": [
    "A partir do diagnóstico verificamos que os resíduos aparentam ser ruído branco (como deve ser em um bom ajuste)."
   ]
  },
  {
   "cell_type": "markdown",
   "metadata": {},
   "source": [
    "#### ARIMA (4,1,3)"
   ]
  },
  {
   "cell_type": "markdown",
   "metadata": {},
   "source": [
    "Também decidimos testar o ARIMA (4,1,3) visto que, com um olhar mais conservador, o corte na função de autocorrelação parcial pode ser visto como no lag 4."
   ]
  },
  {
   "cell_type": "code",
   "execution_count": null,
   "metadata": {},
   "outputs": [],
   "source": [
    "res_arima_2 = perform_arima(4,1,3,df_train)"
   ]
  },
  {
   "cell_type": "markdown",
   "metadata": {},
   "source": [
    "A partir do diagnóstico verificamos que os resíduos aparentam ser ruído branco (como deve ser em um bom ajuste)."
   ]
  },
  {
   "cell_type": "code",
   "execution_count": null,
   "metadata": {},
   "outputs": [],
   "source": [
    "graf_ajuste(res_arima_2.predict(), df_train, 'Delhi - ARIMA (4,1,3) - Treino')"
   ]
  },
  {
   "cell_type": "code",
   "execution_count": null,
   "metadata": {},
   "outputs": [],
   "source": [
    "res_arima_2_test = res_arima_2.apply(df_test)\n",
    "fc = res_arima_2_test.predict(start='2016-03-28', end='2017-04-24')\n",
    "graf_pred(fc, df_train, df_test, 'Delhi - ARIMA (4,1,3) - Predição')"
   ]
  },
  {
   "cell_type": "code",
   "execution_count": null,
   "metadata": {},
   "outputs": [],
   "source": [
    "show_metrics(df_test[1:], fc, results, 'ARIMA(4,1,3)')"
   ]
  },
  {
   "cell_type": "markdown",
   "metadata": {},
   "source": [
    "#### ARIMA (0,1,3)"
   ]
  },
  {
   "cell_type": "markdown",
   "metadata": {},
   "source": [
    "Como o comportamento da funções de autocorrelação e autocorrelação parcial em algumas partes não foi tão claro, sem um decaímento exponencial muito evidente, decidimos também avaliar a hipótese de que há o corte brusco na função de autocorrelação, configurando um MA(3), dessa forma avaliamos o modelo ARIMA(0,1,3)."
   ]
  },
  {
   "cell_type": "code",
   "execution_count": null,
   "metadata": {},
   "outputs": [],
   "source": [
    "res_arima_3 = perform_arima(0,1,3,df_train)"
   ]
  },
  {
   "cell_type": "markdown",
   "metadata": {},
   "source": [
    "A partir do diagnóstico verificamos que os resíduos aparentam ser ruído branco (como deve ser em um bom ajuste)."
   ]
  },
  {
   "cell_type": "code",
   "execution_count": null,
   "metadata": {},
   "outputs": [],
   "source": [
    "res_arima_3_test = res_arima_3.apply(df_test)\n",
    "fc = res_arima_3_test.predict(start='2016-03-28', end='2017-04-24')\n",
    "graf_pred(fc, df_train, df_test, 'Delhi - ARIMA (0,1,3) - Predição')"
   ]
  },
  {
   "cell_type": "code",
   "execution_count": null,
   "metadata": {},
   "outputs": [],
   "source": [
    "show_metrics(df_test[1:], fc, results, 'ARIMA(0,1,3)')"
   ]
  },
  {
   "cell_type": "markdown",
   "metadata": {},
   "source": [
    "### Auto ARIMA"
   ]
  },
  {
   "cell_type": "code",
   "execution_count": null,
   "metadata": {},
   "outputs": [],
   "source": [
    "auto_arima = pm.auto_arima(df_train, max_ar=10, max_ma=5, max_d=2, seasonal=False, trace=True, stepwise=True) #verificar forcar estacionario"
   ]
  },
  {
   "cell_type": "markdown",
   "metadata": {},
   "source": [
    "O Auto ARIMA nos informa que, dentre os modelos testados, o ARIMA (2,0,1) é o modelo com o menor AIC (Critério de Informação de Akaike)"
   ]
  },
  {
   "cell_type": "code",
   "execution_count": null,
   "metadata": {},
   "outputs": [],
   "source": [
    "auto_arima.summary()"
   ]
  },
  {
   "cell_type": "code",
   "execution_count": null,
   "metadata": {},
   "outputs": [],
   "source": [
    "auto_arima.plot_diagnostics()"
   ]
  },
  {
   "cell_type": "markdown",
   "metadata": {},
   "source": [
    "A partir do diagnóstico verificamos que os resíduos aparentam ser ruído branco (como deve ser em um bom ajuste)."
   ]
  },
  {
   "cell_type": "markdown",
   "metadata": {},
   "source": [
    "Plotando ajuste do modelo aos dados de treino"
   ]
  },
  {
   "cell_type": "code",
   "execution_count": null,
   "metadata": {},
   "outputs": [],
   "source": [
    "graf_ajuste(auto_arima.predict_in_sample(), df_train.values, 'Delhi - Auto ARIMA(2,0,1) - Treino')"
   ]
  },
  {
   "cell_type": "markdown",
   "metadata": {},
   "source": [
    "Plotando Treino, teste e predição"
   ]
  },
  {
   "cell_type": "code",
   "execution_count": null,
   "metadata": {},
   "outputs": [],
   "source": [
    "auto_model = ARIMA(df_train, order=(2, 0, 1))  \n",
    "res_arima_4 = auto_model.fit()\n",
    "res_arima_4_test = res_arima_4.apply(df_test)\n",
    "fc = res_arima_4_test.predict(start='2016-03-28', end='2017-04-24')\n",
    "graf_pred(fc, df_train, df_test, 'Delhi - ARIMA (2,0,1) - Predição')"
   ]
  },
  {
   "cell_type": "code",
   "execution_count": null,
   "metadata": {},
   "outputs": [],
   "source": [
    "show_metrics(df_test[1:], fc, results, 'ARIMA(2,0,1)')"
   ]
  },
  {
   "cell_type": "markdown",
   "metadata": {},
   "source": [
    "## Machine Learning"
   ]
  },
  {
   "cell_type": "markdown",
   "metadata": {},
   "source": [
    "Foram gerados modelos utilizando três métodos de ML (KNN, SVR e MLP). Espera-se que com estes métodos seja possível capturar também relações não lineares existentes na série."
   ]
  },
  {
   "cell_type": "markdown",
   "metadata": {},
   "source": [
    "### Feature Engineering"
   ]
  },
  {
   "cell_type": "markdown",
   "metadata": {},
   "source": [
    "Primeiramente, foi necessário realizar feature engineering no dados da série a fim de criar features relevantes para os modelos.\n",
    "\n",
    "Foi utilizada a função **get_lags**, a qual cria features que correspodem a atrasos da série temporal. O número de atrasos  pode ser determinado a partir da análise do correlograma utilizando a quantidade de lags correlacionados."
   ]
  },
  {
   "cell_type": "code",
   "execution_count": 100,
   "metadata": {},
   "outputs": [],
   "source": [
    "#time travel\n",
    "def get_lags(series, lags):\n",
    "  result = []\n",
    "  if lags > 0:\n",
    "    for lag in range(1, lags+1):\n",
    "    #  print(lag)\n",
    "    #  print(series.shift(lag))\n",
    "      result.append(series.shift(lag).rename({series.columns[0]: series.columns[0]+'-'+str(lag)}, axis=1))\n",
    "    #return result\n",
    "    return pd.concat(result, axis=1, names=list(range(-1,-lags))).dropna()\n",
    "  else:\n",
    "    for lag in range(-1, lags-1,-1):\n",
    "      #print(lag)\n",
    "      #print(series.shift(lag))\n",
    "      result.append(series.shift(lag).rename({series.columns[0]: series.columns[0]+'+'+str(abs(lag))}, axis=1))\n",
    "    #return result\n",
    "    return pd.concat(result, axis=1, names=list(range(+1,-lags))).dropna()"
   ]
  },
  {
   "cell_type": "markdown",
   "metadata": {},
   "source": [
    "Decidimos utilizar o número de lags 5, assim foram criadas 5 novas features com os atrasos para a série."
   ]
  },
  {
   "cell_type": "code",
   "execution_count": 101,
   "metadata": {},
   "outputs": [
    {
     "data": {
      "text/html": [
       "<div>\n",
       "<style scoped>\n",
       "    .dataframe tbody tr th:only-of-type {\n",
       "        vertical-align: middle;\n",
       "    }\n",
       "\n",
       "    .dataframe tbody tr th {\n",
       "        vertical-align: top;\n",
       "    }\n",
       "\n",
       "    .dataframe thead th {\n",
       "        text-align: right;\n",
       "    }\n",
       "</style>\n",
       "<table border=\"1\" class=\"dataframe\">\n",
       "  <thead>\n",
       "    <tr style=\"text-align: right;\">\n",
       "      <th></th>\n",
       "      <th>meantemp-1</th>\n",
       "      <th>meantemp-2</th>\n",
       "      <th>meantemp-3</th>\n",
       "    </tr>\n",
       "    <tr>\n",
       "      <th>date</th>\n",
       "      <th></th>\n",
       "      <th></th>\n",
       "      <th></th>\n",
       "    </tr>\n",
       "  </thead>\n",
       "  <tbody>\n",
       "    <tr>\n",
       "      <th>2013-01-04</th>\n",
       "      <td>7.166667</td>\n",
       "      <td>7.400000</td>\n",
       "      <td>10.000000</td>\n",
       "    </tr>\n",
       "    <tr>\n",
       "      <th>2013-01-05</th>\n",
       "      <td>8.666667</td>\n",
       "      <td>7.166667</td>\n",
       "      <td>7.400000</td>\n",
       "    </tr>\n",
       "    <tr>\n",
       "      <th>2013-01-06</th>\n",
       "      <td>6.000000</td>\n",
       "      <td>8.666667</td>\n",
       "      <td>7.166667</td>\n",
       "    </tr>\n",
       "    <tr>\n",
       "      <th>2013-01-07</th>\n",
       "      <td>7.000000</td>\n",
       "      <td>6.000000</td>\n",
       "      <td>8.666667</td>\n",
       "    </tr>\n",
       "    <tr>\n",
       "      <th>2013-01-08</th>\n",
       "      <td>7.000000</td>\n",
       "      <td>7.000000</td>\n",
       "      <td>6.000000</td>\n",
       "    </tr>\n",
       "  </tbody>\n",
       "</table>\n",
       "</div>"
      ],
      "text/plain": [
       "            meantemp-1  meantemp-2  meantemp-3\n",
       "date                                          \n",
       "2013-01-04    7.166667    7.400000   10.000000\n",
       "2013-01-05    8.666667    7.166667    7.400000\n",
       "2013-01-06    6.000000    8.666667    7.166667\n",
       "2013-01-07    7.000000    6.000000    8.666667\n",
       "2013-01-08    7.000000    7.000000    6.000000"
      ]
     },
     "execution_count": 101,
     "metadata": {},
     "output_type": "execute_result"
    }
   ],
   "source": [
    "X = get_lags(df, 3)\n",
    "X.head()"
   ]
  },
  {
   "cell_type": "code",
   "execution_count": 102,
   "metadata": {},
   "outputs": [
    {
     "data": {
      "text/html": [
       "<div>\n",
       "<style scoped>\n",
       "    .dataframe tbody tr th:only-of-type {\n",
       "        vertical-align: middle;\n",
       "    }\n",
       "\n",
       "    .dataframe tbody tr th {\n",
       "        vertical-align: top;\n",
       "    }\n",
       "\n",
       "    .dataframe thead th {\n",
       "        text-align: right;\n",
       "    }\n",
       "</style>\n",
       "<table border=\"1\" class=\"dataframe\">\n",
       "  <thead>\n",
       "    <tr style=\"text-align: right;\">\n",
       "      <th></th>\n",
       "      <th>meantemp</th>\n",
       "    </tr>\n",
       "    <tr>\n",
       "      <th>date</th>\n",
       "      <th></th>\n",
       "    </tr>\n",
       "  </thead>\n",
       "  <tbody>\n",
       "    <tr>\n",
       "      <th>2013-01-04</th>\n",
       "      <td>8.666667</td>\n",
       "    </tr>\n",
       "    <tr>\n",
       "      <th>2013-01-05</th>\n",
       "      <td>6.000000</td>\n",
       "    </tr>\n",
       "    <tr>\n",
       "      <th>2013-01-06</th>\n",
       "      <td>7.000000</td>\n",
       "    </tr>\n",
       "    <tr>\n",
       "      <th>2013-01-07</th>\n",
       "      <td>7.000000</td>\n",
       "    </tr>\n",
       "    <tr>\n",
       "      <th>2013-01-08</th>\n",
       "      <td>8.857143</td>\n",
       "    </tr>\n",
       "  </tbody>\n",
       "</table>\n",
       "</div>"
      ],
      "text/plain": [
       "            meantemp\n",
       "date                \n",
       "2013-01-04  8.666667\n",
       "2013-01-05  6.000000\n",
       "2013-01-06  7.000000\n",
       "2013-01-07  7.000000\n",
       "2013-01-08  8.857143"
      ]
     },
     "execution_count": 102,
     "metadata": {},
     "output_type": "execute_result"
    }
   ],
   "source": [
    "y = df.reindex(X.index)\n",
    "y.head()"
   ]
  },
  {
   "cell_type": "markdown",
   "metadata": {},
   "source": [
    "### Separando os dados"
   ]
  },
  {
   "cell_type": "markdown",
   "metadata": {},
   "source": [
    "Os dados foram separados em treino e teste, para serem utilizado no GridSearch. Como o ScikitLearn separa os dados de validação, o conjunto de teste abaixo já contém o conjunto de validação."
   ]
  },
  {
   "cell_type": "code",
   "execution_count": null,
   "metadata": {},
   "outputs": [],
   "source": [
    "X_train, X_test, y_train, y_test = train_test_split(X, y, shuffle=False, test_size=.25)"
   ]
  },
  {
   "cell_type": "markdown",
   "metadata": {},
   "source": [
    "### KNN"
   ]
  },
  {
   "cell_type": "markdown",
   "metadata": {},
   "source": [
    "Utilizamos o GridSearch para encontrar os melhores parâmetros para o KNN. Foram utilizados dois hiperâmetros: o número de vizinhos(n_neighbors) e o peso (weights). "
   ]
  },
  {
   "cell_type": "code",
   "execution_count": null,
   "metadata": {},
   "outputs": [],
   "source": [
    "#Definindo hiperpâmetros de busca do GridSearch\n",
    "parameters = {'n_neighbors':range(1,20), 'weights':[\"uniform\", \"distance\"]}\n",
    "for p in parameters.items():\n",
    "  print(p)"
   ]
  },
  {
   "cell_type": "code",
   "execution_count": null,
   "metadata": {},
   "outputs": [],
   "source": [
    "knn = KNeighborsRegressor()\n",
    "knnGS = GridSearchCV(knn, parameters, scoring='neg_mean_absolute_percentage_error', cv=TimeSeriesSplit(n_splits=2, test_size=round(len(df)*0.25)))\n",
    "res = knnGS.fit(X_train, y_train)\n",
    "print(res.best_score_)\n",
    "print(res.best_params_)"
   ]
  },
  {
   "cell_type": "markdown",
   "metadata": {},
   "source": [
    "Métricas"
   ]
  },
  {
   "cell_type": "code",
   "execution_count": null,
   "metadata": {},
   "outputs": [],
   "source": [
    "prediction = res.predict(X_test)\n",
    "show_metrics(y_test, prediction, results, 'KNN GS')"
   ]
  },
  {
   "cell_type": "code",
   "execution_count": null,
   "metadata": {},
   "outputs": [],
   "source": [
    "graf_ajuste(prediction, y_test.reset_index(drop=True), 'Delhi Temperature - KNN GS MODEL')\n"
   ]
  },
  {
   "cell_type": "code",
   "execution_count": null,
   "metadata": {},
   "outputs": [],
   "source": [
    "def graf_pred(fitted, train, test, titulo, SVR=False):\n",
    "    \n",
    "    if(SVR==True):\n",
    "        fc = fitted\n",
    "        fc_series = pd.Series(fc, index=test.index[1:])\n",
    "    else:\n",
    "        fc = fitted.forecast(394, alpha=0.05)  # 95% conf\n",
    "        fc_series = pd.Series(fc, index=test.index)\n",
    "\n",
    "    # Plot\n",
    "    #plt.figure(figsize=(12,5), dpi=100)\n",
    "    plt.plot(train, label='Treino')\n",
    "    plt.plot(test, label='Teste')\n",
    "    plt.plot(fc_series, label='Predição')\n",
    "    plt.title(titulo)\n",
    "    plt.legend(loc='upper left', fontsize=8)\n",
    "    plt.show()"
   ]
  },
  {
   "cell_type": "code",
   "execution_count": null,
   "metadata": {},
   "outputs": [],
   "source": [
    "residuos = prediction.flatten() - y_test.reset_index(drop=True).values.flatten()\n",
    "pd.Series(residuos).plot()"
   ]
  },
  {
   "cell_type": "code",
   "execution_count": null,
   "metadata": {},
   "outputs": [],
   "source": [
    "pd.Series(residuos).plot.kde()"
   ]
  },
  {
   "cell_type": "code",
   "execution_count": null,
   "metadata": {},
   "outputs": [],
   "source": [
    "plot_acf(residuos)"
   ]
  },
  {
   "cell_type": "markdown",
   "metadata": {},
   "source": [
    "Acima verificamos que o modelo se ajustou bem aos valores reais de acordo com as métricas. No entanto, abaixo foi feito o KNN com a série diferenciada a fim de verificar se há possibilidade de conseguir melhores valores. "
   ]
  },
  {
   "cell_type": "markdown",
   "metadata": {},
   "source": [
    "#### KNN com série difenciada"
   ]
  },
  {
   "cell_type": "code",
   "execution_count": null,
   "metadata": {},
   "outputs": [],
   "source": [
    "#Diferenciando\n",
    "X_train_d1 = X_train.diff().dropna()\n",
    "X_test_d1 = X_test.diff().dropna()\n",
    "y_train_d1 = y_train.diff().dropna()\n",
    "y_test_d1 = y_test.diff().dropna()"
   ]
  },
  {
   "cell_type": "code",
   "execution_count": null,
   "metadata": {},
   "outputs": [],
   "source": [
    "res_diff = knnGS.fit(X_train_d1, y_train_d1)\n",
    "print(res_diff.best_score_)\n",
    "print(res_diff.best_params_)"
   ]
  },
  {
   "cell_type": "code",
   "execution_count": null,
   "metadata": {},
   "outputs": [],
   "source": [
    "prediction_diff = res_diff.predict(X_test_d1)\n",
    "show_metrics(y_test_d1, prediction_diff, results, 'd1 KNN GS')"
   ]
  },
  {
   "cell_type": "code",
   "execution_count": null,
   "metadata": {},
   "outputs": [],
   "source": [
    "graf_ajuste(pd.Series(prediction_diff.flatten()), y_test_d1.reset_index(drop=True), 'Delhi - KNN diff')"
   ]
  },
  {
   "cell_type": "markdown",
   "metadata": {},
   "source": [
    "One step \n"
   ]
  },
  {
   "cell_type": "code",
   "execution_count": null,
   "metadata": {},
   "outputs": [],
   "source": [
    "graf_ajuste(pd.Series(prediction_diff.flatten()).cumsum(), y_test_d1.reset_index(drop=True).cumsum(), 'Delhi - KNN')"
   ]
  },
  {
   "cell_type": "markdown",
   "metadata": {},
   "source": [
    "Como o gráfico apresentou pouco ajuste ao valor real, decidimos utilizar o valor real para ajustar a predição. "
   ]
  },
  {
   "cell_type": "code",
   "execution_count": null,
   "metadata": {},
   "outputs": [],
   "source": [
    "pred_one = y_test.shift(1).reset_index(drop=True).add(pd.Series(prediction_diff.flatten(), name='temperature'),axis=0)\n",
    "graf_ajuste(pred_one, y_test.reset_index(drop=True), 'Delhi Temperature - KNN')"
   ]
  },
  {
   "cell_type": "code",
   "execution_count": null,
   "metadata": {},
   "outputs": [],
   "source": [
    "show_metrics(y_test.iloc[1:-1], pred_one.iloc[1:-1], results, 'pred one KNN GS')"
   ]
  },
  {
   "cell_type": "code",
   "execution_count": null,
   "metadata": {},
   "outputs": [],
   "source": [
    "residuos = prediction_diff.flatten() - y_test_d1.reset_index(drop=True).values.flatten()"
   ]
  },
  {
   "cell_type": "code",
   "execution_count": null,
   "metadata": {},
   "outputs": [],
   "source": [
    "pd.Series(residuos).plot()"
   ]
  },
  {
   "cell_type": "code",
   "execution_count": null,
   "metadata": {},
   "outputs": [],
   "source": [
    "pd.Series(residuos).plot.kde()"
   ]
  },
  {
   "cell_type": "code",
   "execution_count": null,
   "metadata": {},
   "outputs": [],
   "source": [
    "plot_acf(residuos)"
   ]
  },
  {
   "cell_type": "markdown",
   "metadata": {},
   "source": [
    "Ao final do experimento com o KNN, verificamos que foi possível obter melhores resultados com a série diferenciada. No entanto, foi necessário a utilização de valores reais para o ajuste da tendência da série."
   ]
  },
  {
   "cell_type": "markdown",
   "metadata": {},
   "source": [
    "### Support Vector Regression"
   ]
  },
  {
   "cell_type": "markdown",
   "metadata": {},
   "source": [
    "Aqui utilizaremos o Support Vector Regression, primeiro vamos ajustar um modelo simples e depois tentar melhorar os parâmetros com o uso do GridSearch."
   ]
  },
  {
   "cell_type": "code",
   "execution_count": null,
   "metadata": {},
   "outputs": [],
   "source": [
    "from sklearn.svm import SVR\n",
    "\n",
    "regr = SVR(C=1.0, epsilon=0.2, kernel='linear')\n",
    "\n",
    "regr.fit(X_train, y_train)"
   ]
  },
  {
   "cell_type": "code",
   "execution_count": null,
   "metadata": {},
   "outputs": [],
   "source": [
    "forecast = regr.predict(X_test)\n",
    "show_metrics(y_test, forecast, results, 'SVR')"
   ]
  },
  {
   "cell_type": "code",
   "execution_count": null,
   "metadata": {},
   "outputs": [],
   "source": [
    "graf_ajuste(regr.predict(X_test), y_test.reset_index(drop=True), 'Delhi - SVR')"
   ]
  },
  {
   "cell_type": "code",
   "execution_count": null,
   "metadata": {},
   "outputs": [],
   "source": [
    "graf_pred(regr.predict(X_test), df_train, df_test, 'Delhi - SVR', SVR=True)"
   ]
  },
  {
   "cell_type": "markdown",
   "metadata": {},
   "source": [
    "Verificamos que o modelo ajustou muito bem aos dados e fez predições do conjunto de teste muito próximas dos valores reais, como podemos verificar nos gráficos acima e nas métricas de avaliação."
   ]
  },
  {
   "cell_type": "markdown",
   "metadata": {},
   "source": [
    "#### Grid Search"
   ]
  },
  {
   "cell_type": "markdown",
   "metadata": {},
   "source": [
    "Agora vamos utilizar o GridSearch para explorar diferentes parâmetros e do SVR e encontrar os melhores."
   ]
  },
  {
   "cell_type": "code",
   "execution_count": null,
   "metadata": {},
   "outputs": [],
   "source": [
    "parameters = {'kernel':['linear','rbf', 'sigmoid', 'polynomial'], \n",
    "              'C':np.linspace(0.05, 10, 20),\n",
    "              'gamma':np.linspace(.1, 10, 3),\n",
    "              'coef0':np.linspace(.01, 10, 3),\n",
    "              'degree':np.arange(2, 3)\n",
    "              }\n",
    "\n",
    "for p in parameters.items():\n",
    "  print(p)"
   ]
  },
  {
   "cell_type": "code",
   "execution_count": null,
   "metadata": {},
   "outputs": [],
   "source": [
    "regr2 = SVR()\n",
    "regrGS = GridSearchCV(regr2, parameters, scoring='neg_mean_absolute_percentage_error', cv=TimeSeriesSplit(n_splits=2, test_size=round(len(df)*0.25)))"
   ]
  },
  {
   "cell_type": "code",
   "execution_count": null,
   "metadata": {},
   "outputs": [],
   "source": [
    "res = regrGS.fit(X_train, y_train)"
   ]
  },
  {
   "cell_type": "markdown",
   "metadata": {},
   "source": [
    "Após executar o GridSearch obtivemos como melhor score e parâmetros:"
   ]
  },
  {
   "cell_type": "code",
   "execution_count": null,
   "metadata": {},
   "outputs": [],
   "source": [
    "print(res.best_score_)\n",
    "print(res.best_params_)\n",
    "#{'C': 7.38157894736842, 'coef0': 0.01, 'degree': 2, 'gamma': 0.1, 'kernel': 'linear'}\n",
    "#18 min"
   ]
  },
  {
   "cell_type": "code",
   "execution_count": null,
   "metadata": {},
   "outputs": [],
   "source": [
    "regr2 = SVR(C=10, kernel='linear')\n",
    "res = regr2.fit(X_train, y_train)"
   ]
  },
  {
   "cell_type": "code",
   "execution_count": null,
   "metadata": {},
   "outputs": [],
   "source": [
    "forecast = regr2.predict(X_test)\n",
    "show_metrics(y_test, forecast, results, 'SVR GS')"
   ]
  },
  {
   "cell_type": "code",
   "execution_count": null,
   "metadata": {},
   "outputs": [],
   "source": [
    "graf_ajuste(res.predict(X_test), y_test.reset_index(drop=True), 'Delhi Temperature - SVR GS MODEL')"
   ]
  },
  {
   "cell_type": "code",
   "execution_count": null,
   "metadata": {},
   "outputs": [],
   "source": [
    "graf_pred(res.predict(X_test), df_train, df_test, 'Delhi - SVR GS', SVR=True)"
   ]
  },
  {
   "cell_type": "code",
   "execution_count": null,
   "metadata": {},
   "outputs": [],
   "source": [
    "residuos = res.predict(X_test).flatten() - y_test.reset_index(drop=True).values.flatten()\n",
    "pd.Series(residuos).plot()"
   ]
  },
  {
   "cell_type": "code",
   "execution_count": null,
   "metadata": {},
   "outputs": [],
   "source": [
    "pd.Series(residuos).plot.kde()"
   ]
  },
  {
   "cell_type": "code",
   "execution_count": null,
   "metadata": {},
   "outputs": [],
   "source": [
    "plot_acf(residuos)"
   ]
  },
  {
   "cell_type": "markdown",
   "metadata": {},
   "source": [
    "Verificando Overfitting"
   ]
  },
  {
   "cell_type": "code",
   "execution_count": null,
   "metadata": {},
   "outputs": [],
   "source": [
    "train_sizes, train_scores, valid_scores = learning_curve(\n",
    "    SVR(kernel='linear'), X, y, train_sizes=[50,100,150,200,250], cv=TimeSeriesSplit())\n",
    "    #SVR(kernel='linear'), X, y, train_sizes=[np.round(np.array(list(range(0.1,1,0.1))) * len(y))], cv=TimeSeriesSplit())"
   ]
  },
  {
   "cell_type": "code",
   "execution_count": null,
   "metadata": {},
   "outputs": [],
   "source": [
    "pd.Series(train_scores.mean(axis=1), index=train_sizes).plot(label='train')\n",
    "pd.Series(valid_scores.mean(axis=1), index=train_sizes).plot(label='val')\n",
    "plt.legend()"
   ]
  },
  {
   "cell_type": "markdown",
   "metadata": {},
   "source": [
    "A partir do gráfico acima não aparenta haver Overfit."
   ]
  },
  {
   "cell_type": "markdown",
   "metadata": {},
   "source": [
    "#### SVR com Serie diferenciada"
   ]
  },
  {
   "cell_type": "code",
   "execution_count": null,
   "metadata": {},
   "outputs": [],
   "source": [
    "regr2 = SVR(C=10, kernel='linear')\n",
    "res = regr2.fit(X_train_d1, y_train_d1)"
   ]
  },
  {
   "cell_type": "code",
   "execution_count": null,
   "metadata": {},
   "outputs": [],
   "source": [
    "forecast_diff = regr2.predict(X_test_d1)\n",
    "show_metrics(y_test_d1, forecast_diff, results, 'SVR d1')"
   ]
  },
  {
   "cell_type": "code",
   "execution_count": null,
   "metadata": {},
   "outputs": [],
   "source": [
    "graf_ajuste(pd.Series(forecast_diff.flatten()), y_test_d1.reset_index(drop=True), 'Delhi - SVR diff')"
   ]
  },
  {
   "cell_type": "code",
   "execution_count": null,
   "metadata": {},
   "outputs": [],
   "source": [
    "graf_ajuste(pd.Series(forecast_diff.flatten()).cumsum(), y_test_d1.reset_index(drop=True).cumsum(), 'Delhi - KNN')"
   ]
  },
  {
   "cell_type": "code",
   "execution_count": null,
   "metadata": {},
   "outputs": [],
   "source": [
    "pred_one_svr = y_test.shift(1).reset_index(drop=True).add(pd.Series(forecast_diff.flatten(), name='temperature'),axis=0)\n",
    "graf_ajuste(pred_one_svr, y_test.reset_index(drop=True), 'Delhi Temperature - KNN')"
   ]
  },
  {
   "cell_type": "code",
   "execution_count": null,
   "metadata": {},
   "outputs": [],
   "source": [
    "show_metrics(y_test.iloc[1:-1], pred_one_svr.iloc[1:-1], results, 'pred one SVR diff')"
   ]
  },
  {
   "cell_type": "code",
   "execution_count": null,
   "metadata": {},
   "outputs": [],
   "source": [
    "residuos = forecast_diff.flatten() - y_test_d1.reset_index(drop=True).values.flatten()\n",
    "pd.Series(residuos).plot()"
   ]
  },
  {
   "cell_type": "code",
   "execution_count": null,
   "metadata": {},
   "outputs": [],
   "source": [
    "pd.Series(residuos).plot.kde()\n"
   ]
  },
  {
   "cell_type": "code",
   "execution_count": null,
   "metadata": {},
   "outputs": [],
   "source": [
    "plot_acf(residuos)"
   ]
  },
  {
   "cell_type": "code",
   "execution_count": null,
   "metadata": {},
   "outputs": [],
   "source": [
    "pd.DataFrame(results)"
   ]
  },
  {
   "cell_type": "markdown",
   "metadata": {},
   "source": [
    "### MLP"
   ]
  },
  {
   "cell_type": "code",
   "execution_count": 103,
   "metadata": {},
   "outputs": [],
   "source": [
    "import torch\n",
    "from torch import nn\n",
    "from torch.utils.data import DataLoader\n",
    "import torch.optim as optim"
   ]
  },
  {
   "cell_type": "markdown",
   "metadata": {},
   "source": [
    "#### Divisão de Dados MLP "
   ]
  },
  {
   "cell_type": "code",
   "execution_count": 104,
   "metadata": {},
   "outputs": [],
   "source": [
    "#Separando os dados\n",
    "X_train, X_test, y_train, y_test = train_test_split(X, y, shuffle=False, test_size=.25)\n",
    "X_train, X_valid, y_train, y_valid = train_test_split(X_train, y_train, shuffle=False, test_size=.333)\n"
   ]
  },
  {
   "cell_type": "markdown",
   "metadata": {},
   "source": [
    "#### Diferenciação"
   ]
  },
  {
   "cell_type": "code",
   "execution_count": 105,
   "metadata": {},
   "outputs": [],
   "source": [
    "#Diferenciando\n",
    "X_train_d1 = X_train.diff().dropna()\n",
    "X_valid_d1 = X_valid.diff().dropna()\n",
    "X_test_d1 = X_test.diff().dropna()\n",
    "y_train_d1 = y_train.diff().dropna()\n",
    "y_valid_d1 = y_valid.diff().dropna()\n",
    "y_test_d1 = y_test.diff().dropna()"
   ]
  },
  {
   "cell_type": "markdown",
   "metadata": {},
   "source": [
    "#### Normalização"
   ]
  },
  {
   "cell_type": "code",
   "execution_count": 106,
   "metadata": {},
   "outputs": [],
   "source": [
    "X_train_d1_norm = X_train_d1.sub(X_train_d1.mean()).div(X_train_d1.std())\n",
    "X_valid_d1_norm = X_valid_d1.sub(X_valid_d1.mean()).div(X_valid_d1.std())\n",
    "X_test_d1_norm = X_test_d1.sub(X_train_d1.mean()).div(X_train_d1.std())"
   ]
  },
  {
   "cell_type": "code",
   "execution_count": 107,
   "metadata": {},
   "outputs": [
    {
     "data": {
      "text/plain": [
       "<AxesSubplot:xlabel='date'>"
      ]
     },
     "execution_count": 107,
     "metadata": {},
     "output_type": "execute_result"
    },
    {
     "data": {
      "image/png": "[encoded data removed]",
      "text/plain": [
       "<Figure size 432x288 with 1 Axes>"
      ]
     },
     "metadata": {
      "needs_background": "light"
     },
     "output_type": "display_data"
    }
   ],
   "source": [
    "X_train_d1_norm['meantemp-1'].plot()"
   ]
  },
  {
   "cell_type": "markdown",
   "metadata": {},
   "source": [
    "#### Batches"
   ]
  },
  {
   "cell_type": "code",
   "execution_count": 108,
   "metadata": {},
   "outputs": [],
   "source": [
    "training_data = torch.tensor(pd.concat([X_train_d1_norm, y_train_d1], axis=1).values)\n",
    "validating_data = torch.tensor(pd.concat([X_valid_d1_norm, y_valid_d1], axis=1).values)\n",
    "testing_data = torch.tensor(pd.concat([X_test_d1_norm, y_test_d1], axis=1).values)\n"
   ]
  },
  {
   "cell_type": "code",
   "execution_count": 109,
   "metadata": {},
   "outputs": [],
   "source": [
    "train_dataloader = DataLoader(training_data, batch_size=16, shuffle=False)\n",
    "valid_dataloader = DataLoader(validating_data, batch_size=16, shuffle=False)\n",
    "test_dataloader = DataLoader(testing_data, batch_size=16, shuffle=False)"
   ]
  },
  {
   "cell_type": "markdown",
   "metadata": {},
   "source": [
    "#### Modelo MLP"
   ]
  },
  {
   "cell_type": "code",
   "execution_count": 110,
   "metadata": {},
   "outputs": [],
   "source": [
    "n_lags = 3\n",
    "\n",
    "class MLP(nn.Module):\n",
    "  def __init__(self):\n",
    "    super().__init__()\n",
    "    \n",
    "    #Config 1\n",
    "    # self.fc1 = nn.Linear(n_lags,100)\n",
    "    # self.fc3 = nn.Linear(100,1)\n",
    "    \n",
    "    #Config 2\n",
    "    # self.fc1 = nn.Linear(n_lags,32)\n",
    "    # self.fc2 = nn.Linear(32,64)\n",
    "    # self.fc3 = nn.Linear(64,1)\n",
    "     \n",
    "    # #Config 3\n",
    "    self.fc1 = nn.Linear(n_lags,32)\n",
    "    self.drop1 = nn.Dropout(p=0.5)\n",
    "    self.fc2 = nn.Linear(32,64)\n",
    "    self.drop2 = nn.Dropout(p=0.5)\n",
    "    self.fc3 = nn.Linear(64,1)\n",
    "  \n",
    "  def forward(self, X):\n",
    "    out = torch.tanh(self.fc1(X))\n",
    "    out = self.drop1(out)\n",
    "    out = torch.relu(self.fc2(out))\n",
    "    out = self.drop2(out)\n",
    "    out = self.fc3(out)\n",
    "    return out"
   ]
  },
  {
   "cell_type": "code",
   "execution_count": 111,
   "metadata": {},
   "outputs": [
    {
     "name": "stdout",
     "output_type": "stream",
     "text": [
      "tensor([-0.1888], grad_fn=<AddBackward0>)\n",
      "meantemp   -2.666667\n",
      "Name: 2013-01-05 00:00:00, dtype: float64\n"
     ]
    }
   ],
   "source": [
    "multi_neuron = MLP()\n",
    "print(multi_neuron(torch.tensor(X_train_d1.iloc[0]).float()))\n",
    "print(y_train_d1.iloc[0])"
   ]
  },
  {
   "cell_type": "code",
   "execution_count": 112,
   "metadata": {},
   "outputs": [],
   "source": [
    "def train_mlp(multi_neuron, train_data, valid_data):\n",
    "\n",
    "  history_train = {}\n",
    "  history_valid = {}\n",
    "  for epoch in range(1, epochs+1):\n",
    "    loss_train = 0.0\n",
    "    for train_data in train_dataloader:\n",
    "      x = train_data[:,:n_lags].float()\n",
    "      y = train_data[:,n_lags].float()\n",
    "    \n",
    "      #forward pass\n",
    "      outputs = multi_neuron(x)\n",
    "\n",
    "      #loss measure\n",
    "      loss = loss_fn(outputs,y)\n",
    "\n",
    "      #backward pass\n",
    "      optimizer.zero_grad() # pára o autograd\n",
    "      loss.backward() # executa o backpropagation\n",
    "      optimizer.step() # atualiza os pesos\n",
    "\n",
    "      loss_train += loss.item() # soma os erros para obter o erro total\n",
    "\n",
    "    loss_valid = 0.0\n",
    "    for valid_data in valid_dataloader:    \n",
    "      x = valid_data[:,:n_lags].float()\n",
    "      y = valid_data[:,n_lags].float()   \n",
    "      #forward pass\n",
    "      target = multi_neuron(x)\n",
    "      #loss measure\n",
    "      loss = loss_fn(outputs,y)\n",
    "      # Calculate Loss\n",
    "      loss_valid += loss.item()\n",
    "\n",
    "\n",
    "    if (epoch % 10 == 0):\n",
    "      print('Epoch{}, train loss {}'.format(epoch, loss_train / len(train_dataloader)))\n",
    "      print('Epoch{}, valid loss {}'.format(epoch, loss_valid / len(valid_dataloader))) # apresenta o erro médio da época\n",
    "    history_train[epoch] = loss_train / len(train_dataloader)\n",
    "    history_valid[epoch] = loss_valid / len(valid_dataloader)\n",
    "\n",
    "  # pd.Series(history_train).plot()\n",
    "  # pd.Series(history_valid).plot()\n",
    "  \n",
    "  return multi_neuron\n",
    "\n"
   ]
  },
  {
   "cell_type": "code",
   "execution_count": 113,
   "metadata": {},
   "outputs": [],
   "source": [
    "def predict_mlp(model):\n",
    "\n",
    "    model.eval()\n",
    "    results_MLP = []\n",
    "    for test_data in test_dataloader:\n",
    "        x = test_data[:,:n_lags].float()\n",
    "        y = test_data[:,n_lags].float()\n",
    "        \n",
    "        y_pred = model(x)\n",
    "        results_MLP.extend(y_pred.flatten().detach().numpy())\n",
    "        \n",
    "    return results_MLP\n",
    "#pd.DataFrame(results).plot()\n",
    "# results_MLP[:10]"
   ]
  },
  {
   "cell_type": "code",
   "execution_count": 114,
   "metadata": {},
   "outputs": [],
   "source": [
    "def get_best_model(metric_name, all_metrics):    \n",
    "    model_metrics = min(all_metrics.keys(), key=(lambda new_k: all_metrics[new_k][metric_name]))\n",
    "    index_best = model_metrics[-1] \n",
    "    return mlp_models[int(index_best)]"
   ]
  },
  {
   "cell_type": "code",
   "execution_count": 115,
   "metadata": {},
   "outputs": [
    {
     "name": "stdout",
     "output_type": "stream",
     "text": [
      "Modelo 0\n",
      "Epoch10, train loss 2.732907426059246\n",
      "Epoch10, valid loss 2.980365868806839\n",
      "Epoch20, train loss 2.7271416625380516\n",
      "Epoch20, valid loss 3.032107813358307\n",
      "Epoch30, train loss 2.733924747109413\n",
      "Epoch30, valid loss 2.9712549984455108\n",
      "Epoch40, train loss 2.740601834952831\n",
      "Epoch40, valid loss 2.967227677106857\n",
      "Epoch50, train loss 2.7471926844120027\n",
      "Epoch50, valid loss 2.9669316577911378\n",
      "Epoch60, train loss 2.7438446390628815\n",
      "Epoch60, valid loss 2.9666365122795106\n",
      "Epoch70, train loss 2.733967525064945\n",
      "Epoch70, valid loss 2.9776897621154785\n",
      "Epoch80, train loss 2.736596586704254\n",
      "Epoch80, valid loss 2.972513880729675\n",
      "Epoch90, train loss 2.734027863442898\n",
      "Epoch90, valid loss 2.9675251913070677\n",
      "Epoch100, train loss 2.7269078209996223\n",
      "Epoch100, valid loss 3.0017030107975007\n",
      "Epoch110, train loss 2.721531919836998\n",
      "Epoch110, valid loss 3.0402988362312318\n",
      "Epoch120, train loss 2.7109146890044213\n",
      "Epoch120, valid loss 3.127094441652298\n",
      "Epoch130, train loss 2.7406723800301553\n",
      "Epoch130, valid loss 2.966433889865875\n",
      "Epoch140, train loss 2.739317272007465\n",
      "Epoch140, valid loss 2.96665034532547\n",
      "Epoch150, train loss 2.695777954161167\n",
      "Epoch150, valid loss 3.4265485310554507\n",
      "Epoch160, train loss 2.723677176237106\n",
      "Epoch160, valid loss 3.010460728406906\n",
      "Epoch170, train loss 2.711405511200428\n",
      "Epoch170, valid loss 3.110042368173599\n",
      "Epoch180, train loss 2.7354940232634544\n",
      "Epoch180, valid loss 2.9664361488819124\n",
      "Epoch190, train loss 2.718871431648731\n",
      "Epoch190, valid loss 3.0541165184974672\n",
      "Epoch200, train loss 2.7189625510573388\n",
      "Epoch200, valid loss 3.0330273485183716\n",
      "Epoch210, train loss 2.726388967335224\n",
      "Epoch210, valid loss 3.0049366784095763\n",
      "Epoch220, train loss 2.7322553220391272\n",
      "Epoch220, valid loss 2.9762999987602234\n",
      "Epoch230, train loss 2.7321136507391928\n",
      "Epoch230, valid loss 2.9993546271324156\n",
      "Epoch240, train loss 2.7133264183998107\n",
      "Epoch240, valid loss 3.1198520112037658\n",
      "Epoch250, train loss 2.7120204854011534\n",
      "Epoch250, valid loss 3.1514756178855894\n",
      "Epoch260, train loss 2.728399928212166\n",
      "Epoch260, valid loss 2.9846598613262176\n",
      "Epoch270, train loss 2.7340280836820603\n",
      "Epoch270, valid loss 2.9804752802848817\n",
      "Epoch280, train loss 2.7252796137332918\n",
      "Epoch280, valid loss 2.9957167279720305\n",
      "Epoch290, train loss 2.7063994973897936\n",
      "Epoch290, valid loss 3.1893261289596557\n",
      "Epoch300, train loss 2.724731076359749\n",
      "Epoch300, valid loss 3.008024232387543\n",
      "MLP0 - model Results\n",
      "r2 -517.2333845387766\n",
      "mse 2.755519955649343\n",
      "mae 1.2580496531523209\n",
      "mape 76.98024919208322\n",
      "Modelo 1\n",
      "Epoch10, train loss 2.7403665673732758\n",
      "Epoch10, valid loss 2.9678626120090486\n",
      "Epoch20, train loss 2.75673681974411\n",
      "Epoch20, valid loss 3.0122932529449464\n",
      "Epoch30, train loss 2.7352584758400917\n",
      "Epoch30, valid loss 2.970288552045822\n",
      "Epoch40, train loss 2.7255251997709276\n",
      "Epoch40, valid loss 3.0590724992752074\n",
      "Epoch50, train loss 2.735711873471737\n",
      "Epoch50, valid loss 2.969455225467682\n",
      "Epoch60, train loss 2.7313113021850586\n",
      "Epoch60, valid loss 2.977683299779892\n",
      "Epoch70, train loss 2.7284268990159033\n",
      "Epoch70, valid loss 2.987373158931732\n",
      "Epoch80, train loss 2.722507800757885\n",
      "Epoch80, valid loss 3.0169021213054656\n",
      "Epoch90, train loss 2.7329597398638725\n",
      "Epoch90, valid loss 2.9760619258880614\n",
      "Epoch100, train loss 2.7209282380342485\n",
      "Epoch100, valid loss 3.020848319530487\n",
      "Epoch110, train loss 2.7293148812651635\n",
      "Epoch110, valid loss 2.9817211723327635\n",
      "Epoch120, train loss 2.695989555418491\n",
      "Epoch120, valid loss 3.347015953063965\n",
      "Epoch130, train loss 2.722672227025032\n",
      "Epoch130, valid loss 3.0056877171993257\n",
      "Epoch140, train loss 2.736910108923912\n",
      "Epoch140, valid loss 2.9664561092853545\n",
      "Epoch150, train loss 2.7277356025576593\n",
      "Epoch150, valid loss 2.988254325389862\n",
      "Epoch160, train loss 2.718058500289917\n",
      "Epoch160, valid loss 3.0485695505142214\n",
      "Epoch170, train loss 2.7227191612124444\n",
      "Epoch170, valid loss 3.005063931941986\n",
      "Epoch180, train loss 2.7303888204693796\n",
      "Epoch180, valid loss 2.9766036534309386\n",
      "Epoch190, train loss 2.730133382380009\n",
      "Epoch190, valid loss 2.977072502374649\n",
      "Epoch200, train loss 2.7259154978394506\n",
      "Epoch200, valid loss 2.9936050939559937\n",
      "Epoch210, train loss 2.7099033626914024\n",
      "Epoch210, valid loss 3.1290810656547547\n",
      "Epoch220, train loss 2.724528418183327\n",
      "Epoch220, valid loss 3.02222540974617\n",
      "Epoch230, train loss 2.729372722506523\n",
      "Epoch230, valid loss 2.995214378833771\n",
      "Epoch240, train loss 2.718618518412113\n",
      "Epoch240, valid loss 3.072236422300339\n",
      "Epoch250, train loss 2.707164366543293\n",
      "Epoch250, valid loss 3.1660739755630494\n",
      "Epoch260, train loss 2.7092331066727637\n",
      "Epoch260, valid loss 3.152778513431549\n",
      "Epoch270, train loss 2.7210144883394243\n",
      "Epoch270, valid loss 3.027862491607666\n",
      "Epoch280, train loss 2.7221967992186547\n",
      "Epoch280, valid loss 3.0198860692977907\n",
      "Epoch290, train loss 2.732748892903328\n",
      "Epoch290, valid loss 2.9730493104457856\n",
      "Epoch300, train loss 2.726627635359764\n",
      "Epoch300, valid loss 3.0140561652183533\n",
      "MLP1 - model Results\n",
      "r2 -381.90533565104727\n",
      "mse 2.746810708235117\n",
      "mae 1.2559941761379012\n",
      "mape 71.0254147616175\n",
      "Modelo 2\n",
      "Epoch10, train loss 2.727233268618584\n",
      "Epoch10, valid loss 3.0826599550247193\n",
      "Epoch20, train loss 2.740473038852215\n",
      "Epoch20, valid loss 2.966662791967392\n",
      "Epoch30, train loss 2.718854822218418\n",
      "Epoch30, valid loss 3.046034971475601\n",
      "Epoch40, train loss 2.7442683067917826\n",
      "Epoch40, valid loss 2.9669259011745455\n",
      "Epoch50, train loss 2.7270026937127114\n",
      "Epoch50, valid loss 3.0336106967926026\n",
      "Epoch60, train loss 2.740038714110851\n",
      "Epoch60, valid loss 2.9677777552604674\n",
      "Epoch70, train loss 2.726063281595707\n",
      "Epoch70, valid loss 3.000504728555679\n",
      "Epoch80, train loss 2.7331612262129785\n",
      "Epoch80, valid loss 2.971179584264755\n",
      "Epoch90, train loss 2.734019000530243\n",
      "Epoch90, valid loss 2.9682955002784728\n",
      "Epoch100, train loss 2.7356734523177146\n",
      "Epoch100, valid loss 2.966592198610306\n",
      "Epoch110, train loss 2.7242649871110918\n",
      "Epoch110, valid loss 2.996706507205963\n",
      "Epoch120, train loss 2.7149324464797973\n",
      "Epoch120, valid loss 3.0632737600803375\n",
      "Epoch130, train loss 2.7336631366610527\n",
      "Epoch130, valid loss 2.9673704326152803\n",
      "Epoch140, train loss 2.7246788331866263\n",
      "Epoch140, valid loss 3.013330492973328\n",
      "Epoch150, train loss 2.7188393050432205\n",
      "Epoch150, valid loss 3.046479568481445\n",
      "Epoch160, train loss 2.7153236508369445\n",
      "Epoch160, valid loss 3.118094794750214\n",
      "Epoch170, train loss 2.726868255138397\n",
      "Epoch170, valid loss 2.9885636913776397\n",
      "Epoch180, train loss 2.721990277171135\n",
      "Epoch180, valid loss 3.012526572942734\n",
      "Epoch190, train loss 2.7255020061135293\n",
      "Epoch190, valid loss 3.0037428879737855\n",
      "Epoch200, train loss 2.7214150166511537\n",
      "Epoch200, valid loss 3.039742431640625\n",
      "Epoch210, train loss 2.701163383424282\n",
      "Epoch210, valid loss 3.3603508996963503\n",
      "Epoch220, train loss 2.7320574778318405\n",
      "Epoch220, valid loss 2.9908793032169343\n",
      "Epoch230, train loss 2.7248231264948846\n",
      "Epoch230, valid loss 2.9948020923137664\n",
      "Epoch240, train loss 2.723521848022938\n",
      "Epoch240, valid loss 3.007416948080063\n",
      "Epoch250, train loss 2.734598507285118\n",
      "Epoch250, valid loss 2.9703510928153993\n",
      "Epoch260, train loss 2.7266187646985056\n",
      "Epoch260, valid loss 2.993987535238266\n",
      "Epoch270, train loss 2.7316841635107996\n",
      "Epoch270, valid loss 2.9731517684459687\n",
      "Epoch280, train loss 2.7131093299388884\n",
      "Epoch280, valid loss 3.0842769610881806\n",
      "Epoch290, train loss 2.710390250682831\n",
      "Epoch290, valid loss 3.133173630237579\n",
      "Epoch300, train loss 2.7150151520967483\n",
      "Epoch300, valid loss 3.0773073184490203\n",
      "MLP2 - model Results\n",
      "r2 -417.96427536757324\n",
      "mse 2.747804621494328\n",
      "mae 1.2564088344614777\n",
      "mape 69.55299043751506\n",
      "Modelo 3\n",
      "Epoch10, train loss 2.7381753554940222\n",
      "Epoch10, valid loss 2.976210994720459\n",
      "Epoch20, train loss 2.7436352136731146\n",
      "Epoch20, valid loss 2.9710984420776367\n",
      "Epoch30, train loss 2.74818903028965\n",
      "Epoch30, valid loss 2.971505160331726\n",
      "Epoch40, train loss 2.740363069176674\n",
      "Epoch40, valid loss 2.966492680311203\n",
      "Epoch50, train loss 2.7393334716558457\n",
      "Epoch50, valid loss 2.967650773525238\n",
      "Epoch60, train loss 2.7378467434644698\n",
      "Epoch60, valid loss 2.9689875972270965\n",
      "Epoch70, train loss 2.729348587989807\n",
      "Epoch70, valid loss 2.974350187778473\n",
      "Epoch80, train loss 2.739192834794521\n",
      "Epoch80, valid loss 2.966838705539703\n",
      "Epoch90, train loss 2.7259746745228766\n",
      "Epoch90, valid loss 3.015336867570877\n",
      "Epoch100, train loss 2.7362159353494646\n",
      "Epoch100, valid loss 2.970874741077423\n",
      "Epoch110, train loss 2.728328347802162\n",
      "Epoch110, valid loss 2.9898849856853484\n",
      "Epoch120, train loss 2.7217582270503042\n",
      "Epoch120, valid loss 3.0238388240337373\n",
      "Epoch130, train loss 2.7189054596424103\n",
      "Epoch130, valid loss 3.0476583647727966\n",
      "Epoch140, train loss 2.7233435535430908\n",
      "Epoch140, valid loss 3.048865624666214\n",
      "Epoch150, train loss 2.734105843603611\n",
      "Epoch150, valid loss 2.975384612083435\n",
      "Epoch160, train loss 2.7299863386154173\n",
      "Epoch160, valid loss 2.983906570672989\n",
      "Epoch170, train loss 2.7162373995780946\n",
      "Epoch170, valid loss 3.037342281341553\n",
      "Epoch180, train loss 2.728045181632042\n",
      "Epoch180, valid loss 2.9799211955070497\n",
      "Epoch190, train loss 2.7230292323231695\n",
      "Epoch190, valid loss 3.010708632469177\n",
      "Epoch200, train loss 2.715656602978706\n",
      "Epoch200, valid loss 3.04569066286087\n",
      "Epoch210, train loss 2.7297082152962684\n",
      "Epoch210, valid loss 2.9771086370944975\n",
      "Epoch220, train loss 2.7249991315603257\n",
      "Epoch220, valid loss 3.0090893542766572\n",
      "Epoch230, train loss 2.7319052416086196\n",
      "Epoch230, valid loss 2.974329711198807\n",
      "Epoch240, train loss 2.7295151031017304\n",
      "Epoch240, valid loss 2.9787979102134705\n",
      "Epoch250, train loss 2.723196235001087\n",
      "Epoch250, valid loss 3.0367448115348816\n",
      "Epoch260, train loss 2.7360335940122607\n",
      "Epoch260, valid loss 2.970571467876434\n",
      "Epoch270, train loss 2.731531975567341\n",
      "Epoch270, valid loss 2.971053031682968\n",
      "Epoch280, train loss 2.7222984638810157\n",
      "Epoch280, valid loss 2.9968438756465914\n",
      "Epoch290, train loss 2.7325541761517527\n",
      "Epoch290, valid loss 2.9729792392253875\n",
      "Epoch300, train loss 2.733644968867302\n",
      "Epoch300, valid loss 2.9722434663772583\n",
      "MLP3 - model Results\n",
      "r2 -796.7462601190492\n",
      "mse 2.756496271571666\n",
      "mae 1.259479441721043\n",
      "mape 58.99216920171988\n",
      "Modelo 4\n",
      "Epoch10, train loss 2.749300435483456\n",
      "Epoch10, valid loss 2.9704158794879914\n",
      "Epoch20, train loss 2.7349532559514045\n",
      "Epoch20, valid loss 2.971827510595322\n",
      "Epoch30, train loss 2.7299696841835974\n",
      "Epoch30, valid loss 2.971202597618103\n",
      "Epoch40, train loss 2.7402605709433554\n",
      "Epoch40, valid loss 2.968026932477951\n",
      "Epoch50, train loss 2.741655812561512\n",
      "Epoch50, valid loss 2.9667339539527893\n",
      "Epoch60, train loss 2.7370832616090777\n",
      "Epoch60, valid loss 2.9664719986915586\n",
      "Epoch70, train loss 2.7285605695843698\n",
      "Epoch70, valid loss 2.9837265717983246\n",
      "Epoch80, train loss 2.745383268892765\n",
      "Epoch80, valid loss 2.972319017648697\n",
      "Epoch90, train loss 2.731634602248669\n",
      "Epoch90, valid loss 2.9703686833381653\n",
      "Epoch100, train loss 2.7385091155767443\n",
      "Epoch100, valid loss 2.9664287781715393\n",
      "Epoch110, train loss 2.721875912249088\n",
      "Epoch110, valid loss 3.0092257153987885\n",
      "Epoch120, train loss 2.7181945711374285\n",
      "Epoch120, valid loss 3.030123314857483\n",
      "Epoch130, train loss 2.743715967237949\n",
      "Epoch130, valid loss 2.96848827123642\n",
      "Epoch140, train loss 2.7424746310710906\n",
      "Epoch140, valid loss 2.9676162981987\n",
      "Epoch150, train loss 2.7362298899888993\n",
      "Epoch150, valid loss 2.9681711089611054\n",
      "Epoch160, train loss 2.72735092073679\n",
      "Epoch160, valid loss 3.0157625794410707\n",
      "Epoch170, train loss 2.711940469145775\n",
      "Epoch170, valid loss 3.1315042304992677\n",
      "Epoch180, train loss 2.7145643976330756\n",
      "Epoch180, valid loss 3.056484971046448\n",
      "Epoch190, train loss 2.725913253426552\n",
      "Epoch190, valid loss 2.9961211323738097\n",
      "Epoch200, train loss 2.7335164496302604\n",
      "Epoch200, valid loss 2.9708926451206206\n",
      "Epoch210, train loss 2.7316056951880454\n",
      "Epoch210, valid loss 2.969478929042816\n",
      "Epoch220, train loss 2.724115442931652\n",
      "Epoch220, valid loss 2.9984354722499846\n",
      "Epoch230, train loss 2.7341848143935206\n",
      "Epoch230, valid loss 2.9716270673274994\n",
      "Epoch240, train loss 2.731311131417751\n",
      "Epoch240, valid loss 2.974754058122635\n",
      "Epoch250, train loss 2.7215540674328804\n",
      "Epoch250, valid loss 3.034169145822525\n",
      "Epoch260, train loss 2.733431953191757\n",
      "Epoch260, valid loss 2.975851365327835\n",
      "Epoch270, train loss 2.7290248519182203\n",
      "Epoch270, valid loss 2.9866961181163787\n",
      "Epoch280, train loss 2.722704819738865\n",
      "Epoch280, valid loss 3.040616204738617\n",
      "Epoch290, train loss 2.72496891528368\n",
      "Epoch290, valid loss 2.985524289608002\n",
      "Epoch300, train loss 2.730935709774494\n",
      "Epoch300, valid loss 2.9770808315277097\n",
      "MLP4 - model Results\n",
      "r2 -769.1994105437598\n",
      "mse 2.7562094567350286\n",
      "mae 1.2592962421867366\n",
      "mape 83.5852262685031\n",
      "Modelo 5\n",
      "Epoch10, train loss 2.729072252511978\n",
      "Epoch10, valid loss 3.006694769859314\n",
      "Epoch20, train loss 2.7287210366129875\n",
      "Epoch20, valid loss 2.984332014322281\n",
      "Epoch30, train loss 2.735330781638622\n",
      "Epoch30, valid loss 2.9736859512329104\n",
      "Epoch40, train loss 2.733704092502594\n",
      "Epoch40, valid loss 2.9835588562488558\n",
      "Epoch50, train loss 2.7402148869633676\n",
      "Epoch50, valid loss 2.967185502052307\n",
      "Epoch60, train loss 2.720856009423733\n",
      "Epoch60, valid loss 3.0445512342453003\n",
      "Epoch70, train loss 2.712281855046749\n",
      "Epoch70, valid loss 3.123138641119003\n",
      "Epoch80, train loss 2.7176210007071493\n",
      "Epoch80, valid loss 3.0718014574050905\n",
      "Epoch90, train loss 2.7372941416502\n",
      "Epoch90, valid loss 2.9665914833545686\n",
      "Epoch100, train loss 2.7329625871777536\n",
      "Epoch100, valid loss 2.971672842502594\n",
      "Epoch110, train loss 2.7311137926578524\n",
      "Epoch110, valid loss 2.984204981327057\n",
      "Epoch120, train loss 2.7333503443002702\n",
      "Epoch120, valid loss 2.9813319242000578\n",
      "Epoch130, train loss 2.7324022275209425\n",
      "Epoch130, valid loss 2.9715863609313966\n",
      "Epoch140, train loss 2.702697089910507\n",
      "Epoch140, valid loss 3.2775093793869017\n",
      "Epoch150, train loss 2.7127954867482185\n",
      "Epoch150, valid loss 3.1458785796165465\n",
      "Epoch160, train loss 2.7134671092033384\n",
      "Epoch160, valid loss 3.172880983352661\n",
      "Epoch170, train loss 2.7273347359895705\n",
      "Epoch170, valid loss 2.9950826239585875\n",
      "Epoch180, train loss 2.7112422570586205\n",
      "Epoch180, valid loss 3.1533827900886537\n",
      "Epoch190, train loss 2.7319644117355346\n",
      "Epoch190, valid loss 2.977380518913269\n",
      "Epoch200, train loss 2.7209570699930192\n",
      "Epoch200, valid loss 3.0534802687168123\n",
      "Epoch210, train loss 2.726560402214527\n",
      "Epoch210, valid loss 2.9925918793678283\n",
      "Epoch220, train loss 2.72538921803236\n",
      "Epoch220, valid loss 3.000344625711441\n",
      "Epoch230, train loss 2.711603114306927\n",
      "Epoch230, valid loss 3.0833021032810213\n",
      "Epoch240, train loss 2.730599285662174\n",
      "Epoch240, valid loss 2.9802865552902222\n",
      "Epoch250, train loss 2.718438412845135\n",
      "Epoch250, valid loss 3.0439155650138856\n",
      "Epoch260, train loss 2.7328172528743746\n",
      "Epoch260, valid loss 2.969850552082062\n",
      "Epoch270, train loss 2.7210540822148324\n",
      "Epoch270, valid loss 3.008185887336731\n",
      "Epoch280, train loss 2.727814720571041\n",
      "Epoch280, valid loss 2.997486028671265\n",
      "Epoch290, train loss 2.7134297680854798\n",
      "Epoch290, valid loss 3.096206876039505\n",
      "Epoch300, train loss 2.7256406584382056\n",
      "Epoch300, valid loss 3.01531179189682\n",
      "MLP5 - model Results\n",
      "r2 -489.9443940149329\n",
      "mse 2.7482648253658546\n",
      "mae 1.256455963312224\n",
      "mape 88.63477190067886\n",
      "Modelo 6\n",
      "Epoch10, train loss 2.7592668941617013\n",
      "Epoch10, valid loss 2.9900176882743836\n",
      "Epoch20, train loss 2.7314830362796783\n",
      "Epoch20, valid loss 2.9944295370578766\n",
      "Epoch30, train loss 2.721344109475613\n",
      "Epoch30, valid loss 3.034736886024475\n",
      "Epoch40, train loss 2.738409825563431\n",
      "Epoch40, valid loss 2.978561382293701\n",
      "Epoch50, train loss 2.7280860143899917\n",
      "Epoch50, valid loss 2.9963656866550448\n",
      "Epoch60, train loss 2.724746486842632\n",
      "Epoch60, valid loss 3.002875876426697\n",
      "Epoch70, train loss 2.736767030656338\n",
      "Epoch70, valid loss 2.966519992351532\n",
      "Epoch80, train loss 2.7235565197467806\n",
      "Epoch80, valid loss 3.0553731656074525\n",
      "Epoch90, train loss 2.7418316265940668\n",
      "Epoch90, valid loss 2.96695788025856\n",
      "Epoch100, train loss 2.7377587559819223\n",
      "Epoch100, valid loss 2.9693251979351043\n",
      "Epoch110, train loss 2.7264145848155024\n",
      "Epoch110, valid loss 2.99700997710228\n",
      "Epoch120, train loss 2.7446338349580763\n",
      "Epoch120, valid loss 2.9696664452552795\n",
      "Epoch130, train loss 2.7026939025521277\n",
      "Epoch130, valid loss 3.2809393072128294\n",
      "Epoch140, train loss 2.7085955318808557\n",
      "Epoch140, valid loss 3.178537347316742\n",
      "Epoch150, train loss 2.698047986626625\n",
      "Epoch150, valid loss 3.3521872544288636\n",
      "Epoch160, train loss 2.7345467069745064\n",
      "Epoch160, valid loss 2.973108285665512\n",
      "Epoch170, train loss 2.7349993002414705\n",
      "Epoch170, valid loss 2.966710942983627\n",
      "Epoch180, train loss 2.733556798696518\n",
      "Epoch180, valid loss 2.9761626815795896\n",
      "Epoch190, train loss 2.731233577132225\n",
      "Epoch190, valid loss 2.978130453824997\n",
      "Epoch200, train loss 2.7417919969558717\n",
      "Epoch200, valid loss 2.9665716707706453\n",
      "Epoch210, train loss 2.7300552743673325\n",
      "Epoch210, valid loss 2.988334859609604\n",
      "Epoch220, train loss 2.729550717175007\n",
      "Epoch220, valid loss 2.985581076145172\n",
      "Epoch230, train loss 2.7328539183735847\n",
      "Epoch230, valid loss 2.9844933199882506\n",
      "Epoch240, train loss 2.7340261414647102\n",
      "Epoch240, valid loss 3.002020661830902\n",
      "Epoch250, train loss 2.7277590814232826\n",
      "Epoch250, valid loss 3.0122129786014558\n",
      "Epoch260, train loss 2.7185199961066244\n",
      "Epoch260, valid loss 3.039464201927185\n",
      "Epoch270, train loss 2.730550140738487\n",
      "Epoch270, valid loss 2.9792083048820497\n",
      "Epoch280, train loss 2.719569953978062\n",
      "Epoch280, valid loss 3.0347355234622957\n",
      "Epoch290, train loss 2.7269628661870957\n",
      "Epoch290, valid loss 2.9982820963859558\n",
      "Epoch300, train loss 2.7235214179754257\n",
      "Epoch300, valid loss 3.003356155157089\n",
      "MLP6 - model Results\n",
      "r2 -624.2118246924925\n",
      "mse 2.756093634576191\n",
      "mae 1.258611837633081\n",
      "mape 84.14804169230804\n",
      "Modelo 7\n",
      "Epoch10, train loss 2.7528700211644175\n",
      "Epoch10, valid loss 2.986544522047043\n",
      "Epoch20, train loss 2.7421866062283518\n",
      "Epoch20, valid loss 2.966428631544113\n",
      "Epoch30, train loss 2.7221410143375397\n",
      "Epoch30, valid loss 3.02804794549942\n",
      "Epoch40, train loss 2.732875855863094\n",
      "Epoch40, valid loss 2.9700063991546632\n",
      "Epoch50, train loss 2.7324882468581198\n",
      "Epoch50, valid loss 2.970915404558182\n",
      "Epoch60, train loss 2.7380959126353264\n",
      "Epoch60, valid loss 2.966439646482468\n",
      "Epoch70, train loss 2.7297001764178277\n",
      "Epoch70, valid loss 2.9817945694923402\n",
      "Epoch80, train loss 2.730782814323902\n",
      "Epoch80, valid loss 2.972435793876648\n",
      "Epoch90, train loss 2.7328174194693564\n",
      "Epoch90, valid loss 2.969514548778534\n",
      "Epoch100, train loss 2.738846644163132\n",
      "Epoch100, valid loss 2.9678795385360717\n",
      "Epoch110, train loss 2.726255074441433\n",
      "Epoch110, valid loss 2.99399248957634\n",
      "Epoch120, train loss 2.733146964609623\n",
      "Epoch120, valid loss 2.9706228160858155\n",
      "Epoch130, train loss 2.727769192159176\n",
      "Epoch130, valid loss 2.990121876001358\n",
      "Epoch140, train loss 2.7342405942082406\n",
      "Epoch140, valid loss 2.972410318851471\n",
      "Epoch150, train loss 2.7294963970780373\n",
      "Epoch150, valid loss 2.9780400812625887\n",
      "Epoch160, train loss 2.732698436975479\n",
      "Epoch160, valid loss 2.9808912229537965\n",
      "Epoch170, train loss 2.7442019054293634\n",
      "Epoch170, valid loss 2.967858419418335\n",
      "Epoch180, train loss 2.7323564767837523\n",
      "Epoch180, valid loss 2.975210462808609\n",
      "Epoch190, train loss 2.728480052649975\n",
      "Epoch190, valid loss 2.984471446275711\n",
      "Epoch200, train loss 2.7396067383885385\n",
      "Epoch200, valid loss 2.966437596082687\n",
      "Epoch210, train loss 2.725253349542618\n",
      "Epoch210, valid loss 3.0012114524841307\n",
      "Epoch220, train loss 2.725060498118401\n",
      "Epoch220, valid loss 2.9868096113204956\n",
      "Epoch230, train loss 2.734623546600342\n",
      "Epoch230, valid loss 2.9713375568389893\n",
      "Epoch240, train loss 2.7184543427824974\n",
      "Epoch240, valid loss 3.0274337267875673\n",
      "Epoch250, train loss 2.715408846139908\n",
      "Epoch250, valid loss 3.0721431875228884\n",
      "Epoch260, train loss 2.714738095998764\n",
      "Epoch260, valid loss 3.074228758811951\n",
      "Epoch270, train loss 2.7127928978204725\n",
      "Epoch270, valid loss 3.0866691207885744\n",
      "Epoch280, train loss 2.734649004638195\n",
      "Epoch280, valid loss 2.9664433765411378\n",
      "Epoch290, train loss 2.7250372010469435\n",
      "Epoch290, valid loss 2.986321225166321\n",
      "Epoch300, train loss 2.7055605775117875\n",
      "Epoch300, valid loss 3.1567488718032837\n",
      "MLP7 - model Results\n",
      "r2 -460.2711573914764\n",
      "mse 2.7556986726960404\n",
      "mae 1.2584228671025615\n",
      "mape 99.69357687312744\n",
      "Modelo 8\n",
      "Epoch10, train loss 2.7431887021660804\n",
      "Epoch10, valid loss 2.969845058917999\n",
      "Epoch20, train loss 2.737979131042957\n",
      "Epoch20, valid loss 2.9688533365726473\n",
      "Epoch30, train loss 2.716433542370796\n",
      "Epoch30, valid loss 3.0886480450630187\n",
      "Epoch40, train loss 2.7388057124614718\n",
      "Epoch40, valid loss 2.9689924049377443\n",
      "Epoch50, train loss 2.7336875504255294\n",
      "Epoch50, valid loss 2.972344106435776\n",
      "Epoch60, train loss 2.7434201395511626\n",
      "Epoch60, valid loss 2.9705749356746676\n",
      "Epoch70, train loss 2.733438982963562\n",
      "Epoch70, valid loss 2.9676411938667298\n",
      "Epoch80, train loss 2.7195138826966287\n",
      "Epoch80, valid loss 3.030066227912903\n",
      "Epoch90, train loss 2.731818837225437\n",
      "Epoch90, valid loss 2.9733308577537536\n",
      "Epoch100, train loss 2.7263467410206794\n",
      "Epoch100, valid loss 2.9915973019599913\n",
      "Epoch110, train loss 2.726235137283802\n",
      "Epoch110, valid loss 2.987829711437225\n",
      "Epoch120, train loss 2.7366227665543557\n",
      "Epoch120, valid loss 2.979763996601105\n",
      "Epoch130, train loss 2.7227582782506943\n",
      "Epoch130, valid loss 3.0057066667079924\n",
      "Epoch140, train loss 2.736387563943863\n",
      "Epoch140, valid loss 2.9684452962875367\n",
      "Epoch150, train loss 2.7207220712304117\n",
      "Epoch150, valid loss 3.0130052375793457\n",
      "Epoch160, train loss 2.7353149354457855\n",
      "Epoch160, valid loss 2.967672572135925\n",
      "Epoch170, train loss 2.7142709085345267\n",
      "Epoch170, valid loss 3.1259405755996705\n",
      "Epoch180, train loss 2.736211735010147\n",
      "Epoch180, valid loss 2.9671604895591734\n",
      "Epoch190, train loss 2.7360378348827363\n",
      "Epoch190, valid loss 2.9696337032318114\n",
      "Epoch200, train loss 2.731527524292469\n",
      "Epoch200, valid loss 2.980188002586365\n",
      "Epoch210, train loss 2.718260673582554\n",
      "Epoch210, valid loss 3.0542544293403626\n",
      "Epoch220, train loss 2.732456978261471\n",
      "Epoch220, valid loss 2.9716660988330843\n",
      "Epoch230, train loss 2.7242172542214393\n",
      "Epoch230, valid loss 3.0042684876918795\n",
      "Epoch240, train loss 2.7272923985123634\n",
      "Epoch240, valid loss 2.9914251339435576\n",
      "Epoch250, train loss 2.717065376341343\n",
      "Epoch250, valid loss 3.1298628306388854\n",
      "Epoch260, train loss 2.723525436222553\n",
      "Epoch260, valid loss 2.9989171397686003\n",
      "Epoch270, train loss 2.7188670793175698\n",
      "Epoch270, valid loss 3.0334920513629915\n",
      "Epoch280, train loss 2.7305449026823045\n",
      "Epoch280, valid loss 2.9732580471038816\n",
      "Epoch290, train loss 2.7186570876836775\n",
      "Epoch290, valid loss 3.0461812448501586\n",
      "Epoch300, train loss 2.7209323692321776\n",
      "Epoch300, valid loss 3.0180264842510223\n",
      "MLP8 - model Results\n",
      "r2 -465.6901250907144\n",
      "mse 2.750889513560825\n",
      "mae 1.257777090405146\n",
      "mape 68.11696999593937\n",
      "Modelo 9\n",
      "Epoch10, train loss 2.7332726648449897\n",
      "Epoch10, valid loss 2.978559149503708\n",
      "Epoch20, train loss 2.7414799109101295\n",
      "Epoch20, valid loss 2.9667229866981506\n",
      "Epoch30, train loss 2.728073724210262\n",
      "Epoch30, valid loss 2.988586429357529\n",
      "Epoch40, train loss 2.7322745993733406\n",
      "Epoch40, valid loss 2.969916589260101\n",
      "Epoch50, train loss 2.7348532792925835\n",
      "Epoch50, valid loss 2.9770750367641448\n",
      "Epoch60, train loss 2.724111801981926\n",
      "Epoch60, valid loss 3.00452427983284\n",
      "Epoch70, train loss 2.712821360826492\n",
      "Epoch70, valid loss 3.1246881079673767\n",
      "Epoch80, train loss 2.7430987378954885\n",
      "Epoch80, valid loss 2.9666207385063172\n",
      "Epoch90, train loss 2.728450041115284\n",
      "Epoch90, valid loss 2.9991925454139707\n",
      "Epoch100, train loss 2.745703818202019\n",
      "Epoch100, valid loss 2.968086657524109\n",
      "Epoch110, train loss 2.7361478516459465\n",
      "Epoch110, valid loss 2.9691752791404724\n",
      "Epoch120, train loss 2.7196208545565606\n",
      "Epoch120, valid loss 3.0350027751922606\n",
      "Epoch130, train loss 2.728213053047657\n",
      "Epoch130, valid loss 2.9966551542282103\n",
      "Epoch140, train loss 2.7148132234811784\n",
      "Epoch140, valid loss 3.0743484580516816\n",
      "Epoch150, train loss 2.728657150864601\n",
      "Epoch150, valid loss 2.9921433198451997\n",
      "Epoch160, train loss 2.721209689974785\n",
      "Epoch160, valid loss 3.0638328337669374\n",
      "Epoch170, train loss 2.733436984717846\n",
      "Epoch170, valid loss 2.9740369081497193\n",
      "Epoch180, train loss 2.734845272600651\n",
      "Epoch180, valid loss 2.976560320854187\n",
      "Epoch190, train loss 2.7303693756461143\n",
      "Epoch190, valid loss 2.9849493217468264\n",
      "Epoch200, train loss 2.7239340424537657\n",
      "Epoch200, valid loss 2.9995402371883393\n",
      "Epoch210, train loss 2.706989580690861\n",
      "Epoch210, valid loss 3.2034826350212096\n",
      "Epoch220, train loss 2.7443999335169793\n",
      "Epoch220, valid loss 2.9686388325691224\n",
      "Epoch230, train loss 2.72943057090044\n",
      "Epoch230, valid loss 3.0069866287708282\n",
      "Epoch240, train loss 2.7317394563555717\n",
      "Epoch240, valid loss 2.9768464767932894\n",
      "Epoch250, train loss 2.7257997101545333\n",
      "Epoch250, valid loss 2.9923357927799223\n",
      "Epoch260, train loss 2.7239154344797134\n",
      "Epoch260, valid loss 3.0148130655288696\n",
      "Epoch270, train loss 2.7236712208390235\n",
      "Epoch270, valid loss 3.00722730755806\n",
      "Epoch280, train loss 2.720968141257763\n",
      "Epoch280, valid loss 3.021863601207733\n",
      "Epoch290, train loss 2.7282005748152733\n",
      "Epoch290, valid loss 2.9819307887554167\n",
      "Epoch300, train loss 2.7163033565878867\n",
      "Epoch300, valid loss 3.07660040974617\n",
      "MLP9 - model Results\n",
      "r2 -440.6905729959423\n",
      "mse 2.743004400054754\n",
      "mae 1.2545023755695877\n",
      "mape 72.34033531044322\n"
     ]
    }
   ],
   "source": [
    "mlp_models = []\n",
    "results_metrics_MLP = {}\n",
    "\n",
    "for i in range(10):\n",
    "    print(f\"Modelo {i}\")\n",
    "    multi_neuron = MLP()\n",
    "    epochs = 300\n",
    "    loss_fn = nn.MSELoss()\n",
    "    #optimizer = optim.RMSprop(multi_neuron.parameters(), lr=0.001)\n",
    "    optimizer = optim.SGD(multi_neuron.parameters(), lr=0.01, weight_decay= 0.005)\n",
    "    \n",
    "    model = train_mlp(multi_neuron, train_dataloader, valid_dataloader)\n",
    "    mlp_models.append(model)\n",
    "    results_MLP = predict_mlp(model)\n",
    "    show_metrics(y_test_d1,results_MLP, results_metrics_MLP, f'MLP{i}')\n",
    "    "
   ]
  },
  {
   "cell_type": "code",
   "execution_count": 116,
   "metadata": {},
   "outputs": [
    {
     "data": {
      "text/html": [
       "<div>\n",
       "<style scoped>\n",
       "    .dataframe tbody tr th:only-of-type {\n",
       "        vertical-align: middle;\n",
       "    }\n",
       "\n",
       "    .dataframe tbody tr th {\n",
       "        vertical-align: top;\n",
       "    }\n",
       "\n",
       "    .dataframe thead th {\n",
       "        text-align: right;\n",
       "    }\n",
       "</style>\n",
       "<table border=\"1\" class=\"dataframe\">\n",
       "  <thead>\n",
       "    <tr style=\"text-align: right;\">\n",
       "      <th></th>\n",
       "      <th>MLP0</th>\n",
       "      <th>MLP1</th>\n",
       "      <th>MLP2</th>\n",
       "      <th>MLP3</th>\n",
       "      <th>MLP4</th>\n",
       "      <th>MLP5</th>\n",
       "      <th>MLP6</th>\n",
       "      <th>MLP7</th>\n",
       "      <th>MLP8</th>\n",
       "      <th>MLP9</th>\n",
       "    </tr>\n",
       "  </thead>\n",
       "  <tbody>\n",
       "    <tr>\n",
       "      <th>r2</th>\n",
       "      <td>-517.233385</td>\n",
       "      <td>-381.905336</td>\n",
       "      <td>-417.964275</td>\n",
       "      <td>-796.746260</td>\n",
       "      <td>-769.199411</td>\n",
       "      <td>-489.944394</td>\n",
       "      <td>-624.211825</td>\n",
       "      <td>-460.271157</td>\n",
       "      <td>-465.690125</td>\n",
       "      <td>-440.690573</td>\n",
       "    </tr>\n",
       "    <tr>\n",
       "      <th>mse</th>\n",
       "      <td>2.755520</td>\n",
       "      <td>2.746811</td>\n",
       "      <td>2.747805</td>\n",
       "      <td>2.756496</td>\n",
       "      <td>2.756209</td>\n",
       "      <td>2.748265</td>\n",
       "      <td>2.756094</td>\n",
       "      <td>2.755699</td>\n",
       "      <td>2.750890</td>\n",
       "      <td>2.743004</td>\n",
       "    </tr>\n",
       "    <tr>\n",
       "      <th>mae</th>\n",
       "      <td>1.258050</td>\n",
       "      <td>1.255994</td>\n",
       "      <td>1.256409</td>\n",
       "      <td>1.259479</td>\n",
       "      <td>1.259296</td>\n",
       "      <td>1.256456</td>\n",
       "      <td>1.258612</td>\n",
       "      <td>1.258423</td>\n",
       "      <td>1.257777</td>\n",
       "      <td>1.254502</td>\n",
       "    </tr>\n",
       "    <tr>\n",
       "      <th>mape</th>\n",
       "      <td>76.980249</td>\n",
       "      <td>71.025415</td>\n",
       "      <td>69.552990</td>\n",
       "      <td>58.992169</td>\n",
       "      <td>83.585226</td>\n",
       "      <td>88.634772</td>\n",
       "      <td>84.148042</td>\n",
       "      <td>99.693577</td>\n",
       "      <td>68.116970</td>\n",
       "      <td>72.340335</td>\n",
       "    </tr>\n",
       "  </tbody>\n",
       "</table>\n",
       "</div>"
      ],
      "text/plain": [
       "            MLP0        MLP1        MLP2        MLP3        MLP4        MLP5  \\\n",
       "r2   -517.233385 -381.905336 -417.964275 -796.746260 -769.199411 -489.944394   \n",
       "mse     2.755520    2.746811    2.747805    2.756496    2.756209    2.748265   \n",
       "mae     1.258050    1.255994    1.256409    1.259479    1.259296    1.256456   \n",
       "mape   76.980249   71.025415   69.552990   58.992169   83.585226   88.634772   \n",
       "\n",
       "            MLP6        MLP7        MLP8        MLP9  \n",
       "r2   -624.211825 -460.271157 -465.690125 -440.690573  \n",
       "mse     2.756094    2.755699    2.750890    2.743004  \n",
       "mae     1.258612    1.258423    1.257777    1.254502  \n",
       "mape   84.148042   99.693577   68.116970   72.340335  "
      ]
     },
     "execution_count": 116,
     "metadata": {},
     "output_type": "execute_result"
    }
   ],
   "source": [
    "pd.DataFrame(results_metrics_MLP)"
   ]
  },
  {
   "cell_type": "code",
   "execution_count": 117,
   "metadata": {},
   "outputs": [],
   "source": [
    "best_MLP = get_best_model(\"mse\", results_metrics_MLP)\n",
    "pred_best_MLP = predict_mlp(best_MLP)"
   ]
  },
  {
   "cell_type": "code",
   "execution_count": 118,
   "metadata": {},
   "outputs": [
    {
     "name": "stdout",
     "output_type": "stream",
     "text": [
      "MLP - model Results\n",
      "r2 -440.6905729959423\n",
      "mse 2.743004400054754\n",
      "mae 1.2545023755695877\n",
      "mape 72.34033531044322\n"
     ]
    },
    {
     "data": {
      "text/plain": [
       "{'r2': -440.6905729959423,\n",
       " 'mse': 2.743004400054754,\n",
       " 'mae': 1.2545023755695877,\n",
       " 'mape': 72.34033531044322}"
      ]
     },
     "execution_count": 118,
     "metadata": {},
     "output_type": "execute_result"
    }
   ],
   "source": [
    "show_metrics(y_test_d1,pred_best_MLP, results, 'MLP')"
   ]
  },
  {
   "cell_type": "code",
   "execution_count": 119,
   "metadata": {},
   "outputs": [
    {
     "data": {
      "text/plain": [
       "<AxesSubplot:>"
      ]
     },
     "execution_count": 119,
     "metadata": {},
     "output_type": "execute_result"
    },
    {
     "data": {
      "image/png": "[encoded data removed]",
      "text/plain": [
       "<Figure size 432x288 with 1 Axes>"
      ]
     },
     "metadata": {
      "needs_background": "light"
     },
     "output_type": "display_data"
    }
   ],
   "source": [
    "pd.concat([pd.Series(pred_best_MLP, name='pred'), y_test_d1.reset_index(drop=True)],axis=1).plot()"
   ]
  },
  {
   "cell_type": "markdown",
   "metadata": {},
   "source": [
    "Analise de resíduo"
   ]
  },
  {
   "cell_type": "code",
   "execution_count": 122,
   "metadata": {},
   "outputs": [
    {
     "data": {
      "text/plain": [
       "<AxesSubplot:>"
      ]
     },
     "execution_count": 122,
     "metadata": {},
     "output_type": "execute_result"
    },
    {
     "data": {
      "image/png": "[encoded data removed]",
      "text/plain": [
       "<Figure size 432x288 with 1 Axes>"
      ]
     },
     "metadata": {
      "needs_background": "light"
     },
     "output_type": "display_data"
    }
   ],
   "source": [
    "residuos = pred_best_MLP - y_test_d1.reset_index(drop=True).values.flatten()\n",
    "pd.Series(residuos).plot()"
   ]
  },
  {
   "cell_type": "code",
   "execution_count": 123,
   "metadata": {},
   "outputs": [
    {
     "data": {
      "text/plain": [
       "<AxesSubplot:ylabel='Density'>"
      ]
     },
     "execution_count": 123,
     "metadata": {},
     "output_type": "execute_result"
    },
    {
     "data": {
      "image/png": "[encoded data removed]",
      "text/plain": [
       "<Figure size 432x288 with 1 Axes>"
      ]
     },
     "metadata": {
      "needs_background": "light"
     },
     "output_type": "display_data"
    }
   ],
   "source": [
    "pd.Series(residuos).plot.kde()"
   ]
  },
  {
   "cell_type": "code",
   "execution_count": 124,
   "metadata": {},
   "outputs": [
    {
     "data": {
      "image/png": "[encoded data removed]",
      "text/plain": [
       "<Figure size 432x288 with 1 Axes>"
      ]
     },
     "execution_count": 124,
     "metadata": {},
     "output_type": "execute_result"
    },
    {
     "data": {
      "image/png": "[encoded data removed]",
      "text/plain": [
       "<Figure size 432x288 with 1 Axes>"
      ]
     },
     "metadata": {
      "needs_background": "light"
     },
     "output_type": "display_data"
    }
   ],
   "source": [
    "plot_acf(residuos)"
   ]
  },
  {
   "cell_type": "code",
   "execution_count": null,
   "metadata": {},
   "outputs": [],
   "source": [
    "# graf_ajuste(pd.Series(pred_best_MLP).cumsum(), y_test_d1.reset_index(drop=True).cumsum(), 'Delhi Temperatue - MLP')"
   ]
  },
  {
   "cell_type": "code",
   "execution_count": null,
   "metadata": {},
   "outputs": [],
   "source": [
    "# pred_one = y_test.shift(1).reset_index(drop=True).add(pd.Series(pred_best_MLP, name='temperature'),axis=0)\n",
    "# graf_ajuste(pred_one, y_test.reset_index(drop=True), 'Delhi Temperature - KNN')"
   ]
  },
  {
   "cell_type": "code",
   "execution_count": null,
   "metadata": {},
   "outputs": [],
   "source": [
    "# pred_one = pred_one.fillna(method='bfill')\n",
    "# show_metrics(y_test[:-1],pred_one[:-1] , results, 'MLP pred_one')"
   ]
  },
  {
   "cell_type": "markdown",
   "metadata": {},
   "source": [
    "# Dúvidas\n",
    "\n",
    "- Pela metodologia Box and Jenkins podemos usar o AUTO ARIMA ou devemos testar na mão diferentes ARIMAS?\n",
    "\n",
    "- Como devemos fazer a previsao do ARIMA? Atualmente, estamos utilizando forecast e colocando o tamanho do conjunto de observações do teste, é isso mesmo?\n",
    "\n",
    "- O modelo que acreditamos que era melhor não bateu com o do auto-arima e agora?\n",
    "\n",
    "- Nossa predição do ARIMA tá bem estranha, ficou uma linha. Achamos estranho, pois nossa série parece bem comportada.\n",
    "\n",
    "- Para fazer a validação com 10 repetições no GridSearch, fizemos uso de n_splits = 10 dentro de TimeSeriesSplit, é isso mesmo? -> Se for isso, como vamos dividir em 25% de validação? \n",
    "\n",
    "- Devemos fazer essa mesma metodologia de n_splits = 10 na MLP? Porque parece bem trabalhoso, pois não sabemos como o pytorch faria isso, devemos escrever o código? "
   ]
  }
 ],
 "metadata": {
  "interpreter": {
   "hash": "578d23e9265697bad3ff07bcff4c72684a1087c3ecac6cf42decc0cb53b76ed7"
  },
  "kernelspec": {
   "display_name": "Python 3.9.7 ('data_science')",
   "language": "python",
   "name": "python3"
  },
  "language_info": {
   "codemirror_mode": {
    "name": "ipython",
    "version": 3
   },
   "file_extension": ".py",
   "mimetype": "text/x-python",
   "name": "python",
   "nbconvert_exporter": "python",
   "pygments_lexer": "ipython3",
   "version": "3.9.7"
  },
  "orig_nbformat": 4
 },
 "nbformat": 4,
 "nbformat_minor": 2
}
