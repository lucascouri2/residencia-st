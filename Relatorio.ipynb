{
 "cells": [
  {
   "cell_type": "markdown",
   "metadata": {},
   "source": [
    "# Projeto - Séries Temporais\n",
    "## Residência em Ciência de Dados - SAMSUNG/UFPE\n",
    "\n",
    "### Alunos:\n",
    "- Lucas Couri (lncc2)\n",
    "- Mariama Oliveira (mcso)"
   ]
  },
  {
   "cell_type": "markdown",
   "metadata": {},
   "source": [
    "# Bibliotecas"
   ]
  },
  {
   "cell_type": "code",
   "execution_count": 1,
   "metadata": {},
   "outputs": [],
   "source": [
    "#import statsmodels.api as sm\n",
    "import statsmodels.tsa.api as tsa\n",
    "#from statsmodels.tsa.ar_model import AutoReg\n",
    "from statsmodels.tsa.arima.model import ARIMA\n",
    "from statsmodels.graphics.tsaplots import plot_acf, plot_pacf\n",
    "from sklearn.metrics import mean_absolute_error, mean_absolute_percentage_error, mean_squared_error, r2_score\n",
    "# import pmdarima as pm\n",
    "import pandas as pd\n",
    "import numpy as np\n",
    "import matplotlib.pyplot as plt\n",
    "import warnings\n",
    "warnings.filterwarnings(\"ignore\", category=Warning)\n",
    "#import matplotlib as mpl\n",
    "#import seaborn as sns\n",
    "from sklearn.model_selection import cross_val_score, train_test_split\n",
    "from sklearn.model_selection import GridSearchCV, TimeSeriesSplit\n",
    "from sklearn.model_selection import learning_curve\n",
    "from sklearn.neighbors import KNeighborsRegressor\n",
    "\n",
    "#mpl.rcParams['figure.figsize'] = [10, 5]\n",
    "\n",
    "results = {}"
   ]
  },
  {
   "cell_type": "markdown",
   "metadata": {},
   "source": [
    "Utilizamos o dataset disponível no Kaggle sobre as temperaturas médias em Delhi (https://www.kaggle.com/datasets/mahirkukreja/delhi-weather-data). O dataset já era dividido em train e test, portanto, juntamos os dois datasets para depois separar em train e test da forma desejada."
   ]
  },
  {
   "cell_type": "code",
   "execution_count": 2,
   "metadata": {},
   "outputs": [],
   "source": [
    "#https://www.kaggle.com/datasets/mahirkukreja/delhi-weather-data\n",
    "df = pd.read_csv(\"temp_delhi.csv\")"
   ]
  },
  {
   "cell_type": "code",
   "execution_count": 3,
   "metadata": {},
   "outputs": [],
   "source": [
    "df = df[[\"date\", \"meantemp\"]]\n",
    "df['date'] = pd.to_datetime(df['date'], format='%m/%d/%Y')\n",
    "df.set_index(df['date'], inplace=True) \n",
    "df = df.drop('date', 1)\n"
   ]
  },
  {
   "cell_type": "code",
   "execution_count": 19,
   "metadata": {},
   "outputs": [
    {
     "data": {
      "text/plain": [
       "(1575, 1)"
      ]
     },
     "execution_count": 19,
     "metadata": {},
     "output_type": "execute_result"
    }
   ],
   "source": [
    "df.shape"
   ]
  },
  {
   "cell_type": "code",
   "execution_count": null,
   "metadata": {},
   "outputs": [],
   "source": [
    "df.tail()"
   ]
  },
  {
   "cell_type": "markdown",
   "metadata": {},
   "source": [
    "Separando dados em treino, teste e validação. Vale notar que para os modelos lineares utilizaremos apenas treino (75%) e teste (25%), enquanto que para os modelos de machine learning utilizaremos treino (50%), validação (25%) e teste (25%)."
   ]
  },
  {
   "cell_type": "code",
   "execution_count": null,
   "metadata": {},
   "outputs": [],
   "source": [
    "df_train = df.iloc[:int(len(df) * 0.75)]\n",
    "df_test = df.iloc[int(len(df) * 0.75):]\n",
    "\n",
    "#df_train2 = df.iloc[:int(len(df) * 0.5)]\n",
    "#df_valid2 = df.iloc[int(len(df) * 0.5):int(len(df) * 0.75)]\n",
    "#df_test2 = df.iloc[int(len(df) * 0.75):]"
   ]
  },
  {
   "cell_type": "markdown",
   "metadata": {},
   "source": [
    "#### Funções de apoio"
   ]
  },
  {
   "cell_type": "markdown",
   "metadata": {},
   "source": [
    "Algumas funções construídas para exibir e salvar as métricas de cada modelo e plotar os gráficos de ajuste e predição."
   ]
  },
  {
   "cell_type": "code",
   "execution_count": 70,
   "metadata": {},
   "outputs": [],
   "source": [
    "def show_metrics(y_test,prediction, results, name):\n",
    "    print(f'{name} - model Results')\n",
    "    print('r2' , r2_score(prediction, y_test))\n",
    "    print('mse' ,mean_squared_error(prediction, y_test))\n",
    "    print('mae', mean_absolute_error(prediction, y_test))\n",
    "    print('mape', mean_absolute_percentage_error(prediction, y_test))\n",
    "    metrics = {'r2':r2_score(prediction, y_test), \\\n",
    "                    'mse': mean_squared_error(prediction, y_test), \n",
    "                    'mae': mean_absolute_error(prediction, y_test),\n",
    "                    'mape': mean_absolute_percentage_error(prediction, y_test)}\n",
    "    results[name] = metrics\n",
    "    return metrics\n",
    "    \n",
    "\n",
    "def graf_ajuste(pred, train, titulo):\n",
    "    #Previsão do treino\n",
    "    fig, ax = plt.subplots()\n",
    "    ax.plot(pred, label='pred')\n",
    "    ax.plot(train, label='true')\n",
    "    plt.title(titulo)\n",
    "    plt.legend()\n",
    "\n",
    "def graf_pred(fc, train, test, titulo, SVR=False):\n",
    "    \n",
    "    fc_series = pd.Series(fc, index=test.index[1:])\n",
    "\n",
    "    #if(SVR==True):\n",
    "    #    fc = fitted\n",
    "    #    fc_series = pd.Series(fc, index=test.index[1:])\n",
    "    #else:\n",
    "        #fitted2 = fitted.apply(test)\n",
    "        #fc = fitted2.predict(start='2016-03-28', end='2017-04-24')  # 95% conf\n",
    "        #fc_series = pd.Series(fc, index=test.index)\n",
    "\n",
    "    # Plot\n",
    "    #plt.figure(figsize=(12,5), dpi=100)\n",
    "    plt.plot(train, label='Treino')\n",
    "    plt.plot(test, label='Teste')\n",
    "    plt.plot(fc_series, label='Predição')\n",
    "    plt.title(titulo)\n",
    "    plt.legend(loc='upper left', fontsize=8)\n",
    "    plt.show()"
   ]
  },
  {
   "cell_type": "markdown",
   "metadata": {},
   "source": [
    "## Plot"
   ]
  },
  {
   "cell_type": "markdown",
   "metadata": {},
   "source": [
    "Plotando a série temporal da temperatura média de Delhi"
   ]
  },
  {
   "cell_type": "code",
   "execution_count": null,
   "metadata": {},
   "outputs": [],
   "source": [
    "df.plot()\n",
    "plt.title(\"Temperatura Média - Delhi\")\n",
    "plt.xlabel(\"Data\")\n",
    "plt.ylabel(\"Temperatura\")\n",
    "plt.rcParams[\"figure.figsize\"] = (15,10)\n",
    "plt.show()"
   ]
  },
  {
   "cell_type": "markdown",
   "metadata": {},
   "source": [
    "## Decomposição"
   ]
  },
  {
   "cell_type": "markdown",
   "metadata": {},
   "source": [
    "Através da decomposição verificamos que há tendência e sazonalidade, portanto a série não deve ser estacionária, vamos verificar a seguir."
   ]
  },
  {
   "cell_type": "code",
   "execution_count": null,
   "metadata": {},
   "outputs": [],
   "source": [
    "from pylab import rcParams\n",
    "rcParams['figure.figsize'] = 6, 4\n",
    "df_decomp = tsa.seasonal_decompose(df, period=365)\n",
    "df_decomp.plot()"
   ]
  },
  {
   "cell_type": "markdown",
   "metadata": {},
   "source": [
    "## Autocorrelação e Estacionariedade"
   ]
  },
  {
   "cell_type": "markdown",
   "metadata": {},
   "source": [
    "Como a função de auto correlação abaixo não decai  para zero, suspeitamos de que a série não seja estacionária. Vamos verificar a seguir por meio de um teste de hipótese."
   ]
  },
  {
   "cell_type": "code",
   "execution_count": null,
   "metadata": {},
   "outputs": [],
   "source": [
    "plot_acf(df)"
   ]
  },
  {
   "cell_type": "code",
   "execution_count": null,
   "metadata": {},
   "outputs": [],
   "source": [
    "plot_pacf(df)"
   ]
  },
  {
   "cell_type": "markdown",
   "metadata": {},
   "source": [
    "Considerando um nível de confiança de 0,05 verificamos que o teste de Dickey-Fuller nos leva a não rejeitar a hipótese nula de não estacionariedade, visto que o p-valor = 0,149 (>0,05). Portanto, temos evidências que a série não é estacionária."
   ]
  },
  {
   "cell_type": "code",
   "execution_count": null,
   "metadata": {},
   "outputs": [],
   "source": [
    "test, pvalue, lags, obs, critic, ic = tsa.stattools.adfuller(df)\n",
    "print(pvalue)\n",
    "print(lags)"
   ]
  },
  {
   "cell_type": "markdown",
   "metadata": {},
   "source": [
    "## Diferenciação"
   ]
  },
  {
   "cell_type": "code",
   "execution_count": null,
   "metadata": {},
   "outputs": [],
   "source": [
    "df.diff().plot()\n",
    "plt.title(\"Série diferenciada\")\n",
    "plt.xlabel(\"Data\")\n",
    "plt.ylabel(\"Temperatura\")\n",
    "plt.rcParams[\"figure.figsize\"] = (15,10)\n",
    "plt.show()"
   ]
  },
  {
   "cell_type": "markdown",
   "metadata": {},
   "source": [
    "Após diferenciar a série aparenta ser estacionária, vamos verificar com o teste de Dickey-Fuller."
   ]
  },
  {
   "cell_type": "code",
   "execution_count": null,
   "metadata": {},
   "outputs": [],
   "source": [
    "df.diff().plot.hist()\n",
    "plt.title(\"Histograma da série diferenciada\")\n",
    "plt.ylabel(\"Frequência\")\n",
    "plt.rcParams[\"figure.figsize\"] = (15,10)\n",
    "plt.show()"
   ]
  },
  {
   "cell_type": "code",
   "execution_count": null,
   "metadata": {},
   "outputs": [],
   "source": [
    "dfd1 = df.diff().dropna()"
   ]
  },
  {
   "cell_type": "markdown",
   "metadata": {},
   "source": [
    "Como o p-valor<0,05 então decidimos rejeitar a hipótese nula de não estacionariedade à um nível de confiança de 0,05. Portanto, após diferenciar uma vez a série temos evidências para acreditar que a série se tornou estacionária."
   ]
  },
  {
   "cell_type": "code",
   "execution_count": null,
   "metadata": {},
   "outputs": [],
   "source": [
    "test, pvalue, lags, obs, critic, ic = tsa.stattools.adfuller(dfd1)\n",
    "print(pvalue)\n",
    "print(lags)"
   ]
  },
  {
   "cell_type": "markdown",
   "metadata": {},
   "source": [
    "## Autocorrelação da série diferenciada"
   ]
  },
  {
   "cell_type": "markdown",
   "metadata": {},
   "source": [
    "### Correlação"
   ]
  },
  {
   "cell_type": "markdown",
   "metadata": {},
   "source": [
    "Correlação com série diferenciada"
   ]
  },
  {
   "cell_type": "code",
   "execution_count": null,
   "metadata": {},
   "outputs": [],
   "source": [
    "dfd1.corrwith(dfd1.shift(1))"
   ]
  },
  {
   "cell_type": "code",
   "execution_count": null,
   "metadata": {},
   "outputs": [],
   "source": [
    "plot_acf(dfd1)"
   ]
  },
  {
   "cell_type": "markdown",
   "metadata": {},
   "source": [
    "Verificamos a partir do comportamento da função de autocorrelação acima que os lags são significantes até o lag 3, e a partir dele se tornam não significativos. "
   ]
  },
  {
   "cell_type": "markdown",
   "metadata": {},
   "source": [
    "## Autocorrelação Parcial"
   ]
  },
  {
   "cell_type": "markdown",
   "metadata": {},
   "source": [
    "Correlação Parcial com série diferenciada"
   ]
  },
  {
   "cell_type": "code",
   "execution_count": null,
   "metadata": {},
   "outputs": [],
   "source": [
    "plot_pacf(dfd1)"
   ]
  },
  {
   "cell_type": "markdown",
   "metadata": {},
   "source": [
    "Verificamos a partir da função de autocorrelação parcial acima que a partir do lag5 os lags se tornam não significativos. Analisando de forma mais conservadora é possível argumentar que o lag5 está bem próximo do limite."
   ]
  },
  {
   "cell_type": "markdown",
   "metadata": {},
   "source": [
    "### ARIMA"
   ]
  },
  {
   "cell_type": "code",
   "execution_count": null,
   "metadata": {},
   "outputs": [],
   "source": [
    "df_train.index = pd.DatetimeIndex(df_train.index.values, freq=df_train.index.inferred_freq)\n",
    "#df_train.head()"
   ]
  },
  {
   "cell_type": "markdown",
   "metadata": {},
   "source": [
    "Função para realizar o ajuste dos modelos ARIMA"
   ]
  },
  {
   "cell_type": "code",
   "execution_count": null,
   "metadata": {},
   "outputs": [],
   "source": [
    "def perform_arima(p,d,q,data):\n",
    "    arima_model = ARIMA(data, order=(p,d,q))\n",
    "    res_arima = arima_model.fit()\n",
    "    print(res_arima.summary())\n",
    "    res_arima.plot_diagnostics()\n",
    "    return res_arima\n"
   ]
  },
  {
   "cell_type": "markdown",
   "metadata": {},
   "source": [
    "#### ARIMA (5,1,3)"
   ]
  },
  {
   "cell_type": "markdown",
   "metadata": {},
   "source": [
    "A partir da analise dos gráficos da função de autocorrelação e autocorrelação parcial decidimos ajustar um ARIMA (5,1,3) visto que a série se torna estacionária após uma diferenciação, há decaimento após lag 3 do gráfico de autocorrelação e também há um corte após o lag 5 do gráfico de autocorrelação parcial."
   ]
  },
  {
   "cell_type": "code",
   "execution_count": null,
   "metadata": {},
   "outputs": [],
   "source": [
    "res_arima_1 = perform_arima(5,1,3,df_train)"
   ]
  },
  {
   "cell_type": "code",
   "execution_count": null,
   "metadata": {},
   "outputs": [],
   "source": [
    "res_arima_1_test = res_arima_1.apply(df_test)\n",
    "fc = res_arima_1_test.predict(start='2016-03-28', end='2017-04-24')\n",
    "graf_pred(fc, df_train, df_test, 'Delhi - ARIMA (5,1,3) - Predição')"
   ]
  },
  {
   "cell_type": "code",
   "execution_count": null,
   "metadata": {},
   "outputs": [],
   "source": [
    "show_metrics(df_test[1:], fc, results, 'ARIMA(5,1,3)')"
   ]
  },
  {
   "cell_type": "markdown",
   "metadata": {},
   "source": [
    "A partir do diagnóstico verificamos que os resíduos aparentam ser ruído branco (como deve ser em um bom ajuste)."
   ]
  },
  {
   "cell_type": "markdown",
   "metadata": {},
   "source": [
    "#### ARIMA (4,1,3)"
   ]
  },
  {
   "cell_type": "markdown",
   "metadata": {},
   "source": [
    "Também decidimos testar o ARIMA (4,1,3) visto que, com um olhar mais conservador, o corte na função de autocorrelação parcial pode ser visto como no lag 4."
   ]
  },
  {
   "cell_type": "code",
   "execution_count": null,
   "metadata": {},
   "outputs": [],
   "source": [
    "res_arima_2 = perform_arima(4,1,3,df_train)"
   ]
  },
  {
   "cell_type": "markdown",
   "metadata": {},
   "source": [
    "A partir do diagnóstico verificamos que os resíduos aparentam ser ruído branco (como deve ser em um bom ajuste)."
   ]
  },
  {
   "cell_type": "code",
   "execution_count": null,
   "metadata": {},
   "outputs": [],
   "source": [
    "graf_ajuste(res_arima_2.predict(), df_train, 'Delhi - ARIMA (4,1,3) - Treino')"
   ]
  },
  {
   "cell_type": "code",
   "execution_count": null,
   "metadata": {},
   "outputs": [],
   "source": [
    "res_arima_2_test = res_arima_2.apply(df_test)\n",
    "fc = res_arima_2_test.predict(start='2016-03-28', end='2017-04-24')\n",
    "graf_pred(fc, df_train, df_test, 'Delhi - ARIMA (4,1,3) - Predição')"
   ]
  },
  {
   "cell_type": "code",
   "execution_count": null,
   "metadata": {},
   "outputs": [],
   "source": [
    "show_metrics(df_test[1:], fc, results, 'ARIMA(4,1,3)')"
   ]
  },
  {
   "cell_type": "markdown",
   "metadata": {},
   "source": [
    "#### ARIMA (0,1,3)"
   ]
  },
  {
   "cell_type": "markdown",
   "metadata": {},
   "source": [
    "Como o comportamento da funções de autocorrelação e autocorrelação parcial em algumas partes não foi tão claro, sem um decaímento exponencial muito evidente, decidimos também avaliar a hipótese de que há o corte brusco na função de autocorrelação, configurando um MA(3), dessa forma avaliamos o modelo ARIMA(0,1,3)."
   ]
  },
  {
   "cell_type": "code",
   "execution_count": null,
   "metadata": {},
   "outputs": [],
   "source": [
    "res_arima_3 = perform_arima(0,1,3,df_train)"
   ]
  },
  {
   "cell_type": "markdown",
   "metadata": {},
   "source": [
    "A partir do diagnóstico verificamos que os resíduos aparentam ser ruído branco (como deve ser em um bom ajuste)."
   ]
  },
  {
   "cell_type": "code",
   "execution_count": null,
   "metadata": {},
   "outputs": [],
   "source": [
    "res_arima_3_test = res_arima_3.apply(df_test)\n",
    "fc = res_arima_3_test.predict(start='2016-03-28', end='2017-04-24')\n",
    "graf_pred(fc, df_train, df_test, 'Delhi - ARIMA (0,1,3) - Predição')"
   ]
  },
  {
   "cell_type": "code",
   "execution_count": null,
   "metadata": {},
   "outputs": [],
   "source": [
    "show_metrics(df_test[1:], fc, results, 'ARIMA(0,1,3)')"
   ]
  },
  {
   "cell_type": "markdown",
   "metadata": {},
   "source": [
    "### Auto ARIMA"
   ]
  },
  {
   "cell_type": "code",
   "execution_count": null,
   "metadata": {},
   "outputs": [],
   "source": [
    "auto_arima = pm.auto_arima(df_train, max_ar=10, max_ma=5, max_d=2, seasonal=False, trace=True, stepwise=True) #verificar forcar estacionario"
   ]
  },
  {
   "cell_type": "markdown",
   "metadata": {},
   "source": [
    "O Auto ARIMA nos informa que, dentre os modelos testados, o ARIMA (2,0,1) é o modelo com o menor AIC (Critério de Informação de Akaike)"
   ]
  },
  {
   "cell_type": "code",
   "execution_count": null,
   "metadata": {},
   "outputs": [],
   "source": [
    "auto_arima.summary()"
   ]
  },
  {
   "cell_type": "code",
   "execution_count": null,
   "metadata": {},
   "outputs": [],
   "source": [
    "auto_arima.plot_diagnostics()"
   ]
  },
  {
   "cell_type": "markdown",
   "metadata": {},
   "source": [
    "A partir do diagnóstico verificamos que os resíduos aparentam ser ruído branco (como deve ser em um bom ajuste)."
   ]
  },
  {
   "cell_type": "markdown",
   "metadata": {},
   "source": [
    "Plotando ajuste do modelo aos dados de treino"
   ]
  },
  {
   "cell_type": "code",
   "execution_count": null,
   "metadata": {},
   "outputs": [],
   "source": [
    "graf_ajuste(auto_arima.predict_in_sample(), df_train.values, 'Delhi - Auto ARIMA(2,0,1) - Treino')"
   ]
  },
  {
   "cell_type": "markdown",
   "metadata": {},
   "source": [
    "Plotando Treino, teste e predição"
   ]
  },
  {
   "cell_type": "code",
   "execution_count": null,
   "metadata": {},
   "outputs": [],
   "source": [
    "auto_model = ARIMA(df_train, order=(2, 0, 1))  \n",
    "res_arima_4 = auto_model.fit()\n",
    "res_arima_4_test = res_arima_4.apply(df_test)\n",
    "fc = res_arima_4_test.predict(start='2016-03-28', end='2017-04-24')\n",
    "graf_pred(fc, df_train, df_test, 'Delhi - ARIMA (2,0,1) - Predição')"
   ]
  },
  {
   "cell_type": "code",
   "execution_count": null,
   "metadata": {},
   "outputs": [],
   "source": [
    "show_metrics(df_test[1:], fc, results, 'ARIMA(2,0,1)')"
   ]
  },
  {
   "cell_type": "markdown",
   "metadata": {},
   "source": [
    "## Machine Learning"
   ]
  },
  {
   "cell_type": "markdown",
   "metadata": {},
   "source": [
    "Foram gerados modelos utilizando três métodos de ML (KNN, SVR e MLP). Espera-se que com estes métodos seja possível capturar também relações não lineares existentes na série."
   ]
  },
  {
   "cell_type": "markdown",
   "metadata": {},
   "source": [
    "### Feature Engineering"
   ]
  },
  {
   "cell_type": "markdown",
   "metadata": {},
   "source": [
    "Primeiramente, foi necessário realizar feature engineering no dados da série a fim de criar features relevantes para os modelos.\n",
    "\n",
    "Foi utilizada a função **get_lags**, a qual cria features que correspodem a atrasos da série temporal. O número de atrasos  pode ser determinado a partir da análise do correlograma utilizando a quantidade de lags correlacionados."
   ]
  },
  {
   "cell_type": "code",
   "execution_count": 7,
   "metadata": {},
   "outputs": [],
   "source": [
    "#time travel\n",
    "def get_lags(series, lags):\n",
    "  result = []\n",
    "  if lags > 0:\n",
    "    for lag in range(1, lags+1):\n",
    "    #  print(lag)\n",
    "    #  print(series.shift(lag))\n",
    "      result.append(series.shift(lag).rename({series.columns[0]: series.columns[0]+'-'+str(lag)}, axis=1))\n",
    "    #return result\n",
    "    return pd.concat(result, axis=1, names=list(range(-1,-lags))).dropna()\n",
    "  else:\n",
    "    for lag in range(-1, lags-1,-1):\n",
    "      #print(lag)\n",
    "      #print(series.shift(lag))\n",
    "      result.append(series.shift(lag).rename({series.columns[0]: series.columns[0]+'+'+str(abs(lag))}, axis=1))\n",
    "    #return result\n",
    "    return pd.concat(result, axis=1, names=list(range(+1,-lags))).dropna()"
   ]
  },
  {
   "cell_type": "markdown",
   "metadata": {},
   "source": [
    "Decidimos utilizar o número de lags 5, assim foram criadas 5 novas features com os atrasos para a série."
   ]
  },
  {
   "cell_type": "code",
   "execution_count": 8,
   "metadata": {},
   "outputs": [
    {
     "data": {
      "text/html": [
       "<div>\n",
       "<style scoped>\n",
       "    .dataframe tbody tr th:only-of-type {\n",
       "        vertical-align: middle;\n",
       "    }\n",
       "\n",
       "    .dataframe tbody tr th {\n",
       "        vertical-align: top;\n",
       "    }\n",
       "\n",
       "    .dataframe thead th {\n",
       "        text-align: right;\n",
       "    }\n",
       "</style>\n",
       "<table border=\"1\" class=\"dataframe\">\n",
       "  <thead>\n",
       "    <tr style=\"text-align: right;\">\n",
       "      <th></th>\n",
       "      <th>meantemp-1</th>\n",
       "      <th>meantemp-2</th>\n",
       "      <th>meantemp-3</th>\n",
       "    </tr>\n",
       "    <tr>\n",
       "      <th>date</th>\n",
       "      <th></th>\n",
       "      <th></th>\n",
       "      <th></th>\n",
       "    </tr>\n",
       "  </thead>\n",
       "  <tbody>\n",
       "    <tr>\n",
       "      <th>2013-01-04</th>\n",
       "      <td>7.166667</td>\n",
       "      <td>7.400000</td>\n",
       "      <td>10.000000</td>\n",
       "    </tr>\n",
       "    <tr>\n",
       "      <th>2013-01-05</th>\n",
       "      <td>8.666667</td>\n",
       "      <td>7.166667</td>\n",
       "      <td>7.400000</td>\n",
       "    </tr>\n",
       "    <tr>\n",
       "      <th>2013-01-06</th>\n",
       "      <td>6.000000</td>\n",
       "      <td>8.666667</td>\n",
       "      <td>7.166667</td>\n",
       "    </tr>\n",
       "    <tr>\n",
       "      <th>2013-01-07</th>\n",
       "      <td>7.000000</td>\n",
       "      <td>6.000000</td>\n",
       "      <td>8.666667</td>\n",
       "    </tr>\n",
       "    <tr>\n",
       "      <th>2013-01-08</th>\n",
       "      <td>7.000000</td>\n",
       "      <td>7.000000</td>\n",
       "      <td>6.000000</td>\n",
       "    </tr>\n",
       "  </tbody>\n",
       "</table>\n",
       "</div>"
      ],
      "text/plain": [
       "            meantemp-1  meantemp-2  meantemp-3\n",
       "date                                          \n",
       "2013-01-04    7.166667    7.400000   10.000000\n",
       "2013-01-05    8.666667    7.166667    7.400000\n",
       "2013-01-06    6.000000    8.666667    7.166667\n",
       "2013-01-07    7.000000    6.000000    8.666667\n",
       "2013-01-08    7.000000    7.000000    6.000000"
      ]
     },
     "execution_count": 8,
     "metadata": {},
     "output_type": "execute_result"
    }
   ],
   "source": [
    "X = get_lags(df, 3)\n",
    "X.head()"
   ]
  },
  {
   "cell_type": "code",
   "execution_count": 11,
   "metadata": {},
   "outputs": [
    {
     "data": {
      "text/html": [
       "<div>\n",
       "<style scoped>\n",
       "    .dataframe tbody tr th:only-of-type {\n",
       "        vertical-align: middle;\n",
       "    }\n",
       "\n",
       "    .dataframe tbody tr th {\n",
       "        vertical-align: top;\n",
       "    }\n",
       "\n",
       "    .dataframe thead th {\n",
       "        text-align: right;\n",
       "    }\n",
       "</style>\n",
       "<table border=\"1\" class=\"dataframe\">\n",
       "  <thead>\n",
       "    <tr style=\"text-align: right;\">\n",
       "      <th></th>\n",
       "      <th>meantemp</th>\n",
       "    </tr>\n",
       "    <tr>\n",
       "      <th>date</th>\n",
       "      <th></th>\n",
       "    </tr>\n",
       "  </thead>\n",
       "  <tbody>\n",
       "    <tr>\n",
       "      <th>2013-01-04</th>\n",
       "      <td>8.666667</td>\n",
       "    </tr>\n",
       "    <tr>\n",
       "      <th>2013-01-05</th>\n",
       "      <td>6.000000</td>\n",
       "    </tr>\n",
       "    <tr>\n",
       "      <th>2013-01-06</th>\n",
       "      <td>7.000000</td>\n",
       "    </tr>\n",
       "    <tr>\n",
       "      <th>2013-01-07</th>\n",
       "      <td>7.000000</td>\n",
       "    </tr>\n",
       "    <tr>\n",
       "      <th>2013-01-08</th>\n",
       "      <td>8.857143</td>\n",
       "    </tr>\n",
       "  </tbody>\n",
       "</table>\n",
       "</div>"
      ],
      "text/plain": [
       "            meantemp\n",
       "date                \n",
       "2013-01-04  8.666667\n",
       "2013-01-05  6.000000\n",
       "2013-01-06  7.000000\n",
       "2013-01-07  7.000000\n",
       "2013-01-08  8.857143"
      ]
     },
     "execution_count": 11,
     "metadata": {},
     "output_type": "execute_result"
    }
   ],
   "source": [
    "y = df.reindex(X.index)\n",
    "y.head()"
   ]
  },
  {
   "cell_type": "markdown",
   "metadata": {},
   "source": [
    "### Separando os dados"
   ]
  },
  {
   "cell_type": "markdown",
   "metadata": {},
   "source": [
    "Os dados foram separados em treino e teste, para serem utilizado no GridSearch. Como o ScikitLearn separa os dados de validação, o conjunto de teste abaixo já contém o conjunto de validação."
   ]
  },
  {
   "cell_type": "code",
   "execution_count": null,
   "metadata": {},
   "outputs": [],
   "source": [
    "X_train, X_test, y_train, y_test = train_test_split(X, y, shuffle=False, test_size=.25)"
   ]
  },
  {
   "cell_type": "markdown",
   "metadata": {},
   "source": [
    "### KNN"
   ]
  },
  {
   "cell_type": "markdown",
   "metadata": {},
   "source": [
    "Utilizamos o GridSearch para encontrar os melhores parâmetros para o KNN. Foram utilizados dois hiperâmetros: o número de vizinhos(n_neighbors) e o peso (weights). "
   ]
  },
  {
   "cell_type": "code",
   "execution_count": null,
   "metadata": {},
   "outputs": [],
   "source": [
    "#Definindo hiperpâmetros de busca do GridSearch\n",
    "parameters = {'n_neighbors':range(1,20), 'weights':[\"uniform\", \"distance\"]}\n",
    "for p in parameters.items():\n",
    "  print(p)"
   ]
  },
  {
   "cell_type": "code",
   "execution_count": null,
   "metadata": {},
   "outputs": [],
   "source": [
    "knn = KNeighborsRegressor()\n",
    "knnGS = GridSearchCV(knn, parameters, scoring='neg_mean_absolute_percentage_error', cv=TimeSeriesSplit(n_splits=2, test_size=round(len(df)*0.25)))\n",
    "res = knnGS.fit(X_train, y_train)\n",
    "print(res.best_score_)\n",
    "print(res.best_params_)"
   ]
  },
  {
   "cell_type": "markdown",
   "metadata": {},
   "source": [
    "Métricas"
   ]
  },
  {
   "cell_type": "code",
   "execution_count": null,
   "metadata": {},
   "outputs": [],
   "source": [
    "prediction = res.predict(X_test)\n",
    "show_metrics(y_test, prediction, results, 'KNN GS')"
   ]
  },
  {
   "cell_type": "code",
   "execution_count": null,
   "metadata": {},
   "outputs": [],
   "source": [
    "graf_ajuste(prediction, y_test.reset_index(drop=True), 'Delhi Temperature - KNN GS MODEL')\n"
   ]
  },
  {
   "cell_type": "code",
   "execution_count": null,
   "metadata": {},
   "outputs": [],
   "source": [
    "def graf_pred(fitted, train, test, titulo, SVR=False):\n",
    "    \n",
    "    if(SVR==True):\n",
    "        fc = fitted\n",
    "        fc_series = pd.Series(fc, index=test.index[1:])\n",
    "    else:\n",
    "        fc = fitted.forecast(394, alpha=0.05)  # 95% conf\n",
    "        fc_series = pd.Series(fc, index=test.index)\n",
    "\n",
    "    # Plot\n",
    "    #plt.figure(figsize=(12,5), dpi=100)\n",
    "    plt.plot(train, label='Treino')\n",
    "    plt.plot(test, label='Teste')\n",
    "    plt.plot(fc_series, label='Predição')\n",
    "    plt.title(titulo)\n",
    "    plt.legend(loc='upper left', fontsize=8)\n",
    "    plt.show()"
   ]
  },
  {
   "cell_type": "code",
   "execution_count": null,
   "metadata": {},
   "outputs": [],
   "source": [
    "residuos = prediction.flatten() - y_test.reset_index(drop=True).values.flatten()\n",
    "pd.Series(residuos).plot()"
   ]
  },
  {
   "cell_type": "code",
   "execution_count": null,
   "metadata": {},
   "outputs": [],
   "source": [
    "pd.Series(residuos).plot.kde()"
   ]
  },
  {
   "cell_type": "code",
   "execution_count": null,
   "metadata": {},
   "outputs": [],
   "source": [
    "plot_acf(residuos)"
   ]
  },
  {
   "cell_type": "markdown",
   "metadata": {},
   "source": [
    "Acima verificamos que o modelo se ajustou bem aos valores reais de acordo com as métricas. No entanto, abaixo foi feito o KNN com a série diferenciada a fim de verificar se há possibilidade de conseguir melhores valores. "
   ]
  },
  {
   "cell_type": "markdown",
   "metadata": {},
   "source": [
    "#### KNN com série difenciada"
   ]
  },
  {
   "cell_type": "code",
   "execution_count": null,
   "metadata": {},
   "outputs": [],
   "source": [
    "#Diferenciando\n",
    "X_train_d1 = X_train.diff().dropna()\n",
    "X_test_d1 = X_test.diff().dropna()\n",
    "y_train_d1 = y_train.diff().dropna()\n",
    "y_test_d1 = y_test.diff().dropna()"
   ]
  },
  {
   "cell_type": "code",
   "execution_count": null,
   "metadata": {},
   "outputs": [],
   "source": [
    "res_diff = knnGS.fit(X_train_d1, y_train_d1)\n",
    "print(res_diff.best_score_)\n",
    "print(res_diff.best_params_)"
   ]
  },
  {
   "cell_type": "code",
   "execution_count": null,
   "metadata": {},
   "outputs": [],
   "source": [
    "prediction_diff = res_diff.predict(X_test_d1)\n",
    "show_metrics(y_test_d1, prediction_diff, results, 'd1 KNN GS')"
   ]
  },
  {
   "cell_type": "code",
   "execution_count": null,
   "metadata": {},
   "outputs": [],
   "source": [
    "graf_ajuste(pd.Series(prediction_diff.flatten()), y_test_d1.reset_index(drop=True), 'Delhi - KNN diff')"
   ]
  },
  {
   "cell_type": "markdown",
   "metadata": {},
   "source": [
    "One step \n"
   ]
  },
  {
   "cell_type": "code",
   "execution_count": null,
   "metadata": {},
   "outputs": [],
   "source": [
    "graf_ajuste(pd.Series(prediction_diff.flatten()).cumsum(), y_test_d1.reset_index(drop=True).cumsum(), 'Delhi - KNN')"
   ]
  },
  {
   "cell_type": "markdown",
   "metadata": {},
   "source": [
    "Como o gráfico apresentou pouco ajuste ao valor real, decidimos utilizar o valor real para ajustar a predição. "
   ]
  },
  {
   "cell_type": "code",
   "execution_count": null,
   "metadata": {},
   "outputs": [],
   "source": [
    "pred_one = y_test.shift(1).reset_index(drop=True).add(pd.Series(prediction_diff.flatten(), name='temperature'),axis=0)\n",
    "graf_ajuste(pred_one, y_test.reset_index(drop=True), 'Delhi Temperature - KNN')"
   ]
  },
  {
   "cell_type": "code",
   "execution_count": null,
   "metadata": {},
   "outputs": [],
   "source": [
    "show_metrics(y_test.iloc[1:-1], pred_one.iloc[1:-1], results, 'pred one KNN GS')"
   ]
  },
  {
   "cell_type": "code",
   "execution_count": null,
   "metadata": {},
   "outputs": [],
   "source": [
    "residuos = prediction_diff.flatten() - y_test_d1.reset_index(drop=True).values.flatten()"
   ]
  },
  {
   "cell_type": "code",
   "execution_count": null,
   "metadata": {},
   "outputs": [],
   "source": [
    "pd.Series(residuos).plot()"
   ]
  },
  {
   "cell_type": "code",
   "execution_count": null,
   "metadata": {},
   "outputs": [],
   "source": [
    "pd.Series(residuos).plot.kde()"
   ]
  },
  {
   "cell_type": "code",
   "execution_count": null,
   "metadata": {},
   "outputs": [],
   "source": [
    "plot_acf(residuos)"
   ]
  },
  {
   "cell_type": "markdown",
   "metadata": {},
   "source": [
    "Ao final do experimento com o KNN, verificamos que foi possível obter melhores resultados com a série diferenciada. No entanto, foi necessário a utilização de valores reais para o ajuste da tendência da série."
   ]
  },
  {
   "cell_type": "markdown",
   "metadata": {},
   "source": [
    "### Support Vector Regression"
   ]
  },
  {
   "cell_type": "markdown",
   "metadata": {},
   "source": [
    "Aqui utilizaremos o Support Vector Regression, primeiro vamos ajustar um modelo simples e depois tentar melhorar os parâmetros com o uso do GridSearch."
   ]
  },
  {
   "cell_type": "code",
   "execution_count": null,
   "metadata": {},
   "outputs": [],
   "source": [
    "from sklearn.svm import SVR\n",
    "\n",
    "regr = SVR(C=1.0, epsilon=0.2, kernel='linear')\n",
    "\n",
    "regr.fit(X_train, y_train)"
   ]
  },
  {
   "cell_type": "code",
   "execution_count": null,
   "metadata": {},
   "outputs": [],
   "source": [
    "forecast = regr.predict(X_test)\n",
    "show_metrics(y_test, forecast, results, 'SVR')"
   ]
  },
  {
   "cell_type": "code",
   "execution_count": null,
   "metadata": {},
   "outputs": [],
   "source": [
    "graf_ajuste(regr.predict(X_test), y_test.reset_index(drop=True), 'Delhi - SVR')"
   ]
  },
  {
   "cell_type": "code",
   "execution_count": null,
   "metadata": {},
   "outputs": [],
   "source": [
    "graf_pred(regr.predict(X_test), df_train, df_test, 'Delhi - SVR', SVR=True)"
   ]
  },
  {
   "cell_type": "markdown",
   "metadata": {},
   "source": [
    "Verificamos que o modelo ajustou muito bem aos dados e fez predições do conjunto de teste muito próximas dos valores reais, como podemos verificar nos gráficos acima e nas métricas de avaliação."
   ]
  },
  {
   "cell_type": "markdown",
   "metadata": {},
   "source": [
    "#### Grid Search"
   ]
  },
  {
   "cell_type": "markdown",
   "metadata": {},
   "source": [
    "Agora vamos utilizar o GridSearch para explorar diferentes parâmetros e do SVR e encontrar os melhores."
   ]
  },
  {
   "cell_type": "code",
   "execution_count": null,
   "metadata": {},
   "outputs": [],
   "source": [
    "parameters = {'kernel':['linear','rbf', 'sigmoid', 'polynomial'], \n",
    "              'C':np.linspace(0.05, 10, 20),\n",
    "              'gamma':np.linspace(.1, 10, 3),\n",
    "              'coef0':np.linspace(.01, 10, 3),\n",
    "              'degree':np.arange(2, 3)\n",
    "              }\n",
    "\n",
    "for p in parameters.items():\n",
    "  print(p)"
   ]
  },
  {
   "cell_type": "code",
   "execution_count": null,
   "metadata": {},
   "outputs": [],
   "source": [
    "regr2 = SVR()\n",
    "regrGS = GridSearchCV(regr2, parameters, scoring='neg_mean_absolute_percentage_error', cv=TimeSeriesSplit(n_splits=2, test_size=round(len(df)*0.25)))"
   ]
  },
  {
   "cell_type": "code",
   "execution_count": null,
   "metadata": {},
   "outputs": [],
   "source": [
    "res = regrGS.fit(X_train, y_train)"
   ]
  },
  {
   "cell_type": "markdown",
   "metadata": {},
   "source": [
    "Após executar o GridSearch obtivemos como melhor score e parâmetros:"
   ]
  },
  {
   "cell_type": "code",
   "execution_count": null,
   "metadata": {},
   "outputs": [],
   "source": [
    "print(res.best_score_)\n",
    "print(res.best_params_)\n",
    "#{'C': 7.38157894736842, 'coef0': 0.01, 'degree': 2, 'gamma': 0.1, 'kernel': 'linear'}\n",
    "#18 min"
   ]
  },
  {
   "cell_type": "code",
   "execution_count": null,
   "metadata": {},
   "outputs": [],
   "source": [
    "regr2 = SVR(C=10, kernel='linear')\n",
    "res = regr2.fit(X_train, y_train)"
   ]
  },
  {
   "cell_type": "code",
   "execution_count": null,
   "metadata": {},
   "outputs": [],
   "source": [
    "forecast = regr2.predict(X_test)\n",
    "show_metrics(y_test, forecast, results, 'SVR GS')"
   ]
  },
  {
   "cell_type": "code",
   "execution_count": null,
   "metadata": {},
   "outputs": [],
   "source": [
    "graf_ajuste(res.predict(X_test), y_test.reset_index(drop=True), 'Delhi Temperature - SVR GS MODEL')"
   ]
  },
  {
   "cell_type": "code",
   "execution_count": null,
   "metadata": {},
   "outputs": [],
   "source": [
    "graf_pred(res.predict(X_test), df_train, df_test, 'Delhi - SVR GS', SVR=True)"
   ]
  },
  {
   "cell_type": "code",
   "execution_count": null,
   "metadata": {},
   "outputs": [],
   "source": [
    "residuos = res.predict(X_test).flatten() - y_test.reset_index(drop=True).values.flatten()\n",
    "pd.Series(residuos).plot()"
   ]
  },
  {
   "cell_type": "code",
   "execution_count": null,
   "metadata": {},
   "outputs": [],
   "source": [
    "pd.Series(residuos).plot.kde()"
   ]
  },
  {
   "cell_type": "code",
   "execution_count": null,
   "metadata": {},
   "outputs": [],
   "source": [
    "plot_acf(residuos)"
   ]
  },
  {
   "cell_type": "markdown",
   "metadata": {},
   "source": [
    "Verificando Overfitting"
   ]
  },
  {
   "cell_type": "code",
   "execution_count": null,
   "metadata": {},
   "outputs": [],
   "source": [
    "train_sizes, train_scores, valid_scores = learning_curve(\n",
    "    SVR(kernel='linear'), X, y, train_sizes=[50,100,150,200,250], cv=TimeSeriesSplit())\n",
    "    #SVR(kernel='linear'), X, y, train_sizes=[np.round(np.array(list(range(0.1,1,0.1))) * len(y))], cv=TimeSeriesSplit())"
   ]
  },
  {
   "cell_type": "code",
   "execution_count": null,
   "metadata": {},
   "outputs": [],
   "source": [
    "pd.Series(train_scores.mean(axis=1), index=train_sizes).plot(label='train')\n",
    "pd.Series(valid_scores.mean(axis=1), index=train_sizes).plot(label='val')\n",
    "plt.legend()"
   ]
  },
  {
   "cell_type": "markdown",
   "metadata": {},
   "source": [
    "A partir do gráfico acima não aparenta haver Overfit."
   ]
  },
  {
   "cell_type": "markdown",
   "metadata": {},
   "source": [
    "#### SVR com Serie diferenciada"
   ]
  },
  {
   "cell_type": "code",
   "execution_count": null,
   "metadata": {},
   "outputs": [],
   "source": [
    "regr2 = SVR(C=10, kernel='linear')\n",
    "res = regr2.fit(X_train_d1, y_train_d1)"
   ]
  },
  {
   "cell_type": "code",
   "execution_count": null,
   "metadata": {},
   "outputs": [],
   "source": [
    "forecast_diff = regr2.predict(X_test_d1)\n",
    "show_metrics(y_test_d1, forecast_diff, results, 'SVR d1')"
   ]
  },
  {
   "cell_type": "code",
   "execution_count": null,
   "metadata": {},
   "outputs": [],
   "source": [
    "graf_ajuste(pd.Series(forecast_diff.flatten()), y_test_d1.reset_index(drop=True), 'Delhi - SVR diff')"
   ]
  },
  {
   "cell_type": "code",
   "execution_count": null,
   "metadata": {},
   "outputs": [],
   "source": [
    "graf_ajuste(pd.Series(forecast_diff.flatten()).cumsum(), y_test_d1.reset_index(drop=True).cumsum(), 'Delhi - KNN')"
   ]
  },
  {
   "cell_type": "code",
   "execution_count": null,
   "metadata": {},
   "outputs": [],
   "source": [
    "pred_one_svr = y_test.shift(1).reset_index(drop=True).add(pd.Series(forecast_diff.flatten(), name='temperature'),axis=0)\n",
    "graf_ajuste(pred_one_svr, y_test.reset_index(drop=True), 'Delhi Temperature - KNN')"
   ]
  },
  {
   "cell_type": "code",
   "execution_count": null,
   "metadata": {},
   "outputs": [],
   "source": [
    "show_metrics(y_test.iloc[1:-1], pred_one_svr.iloc[1:-1], results, 'pred one SVR diff')"
   ]
  },
  {
   "cell_type": "code",
   "execution_count": null,
   "metadata": {},
   "outputs": [],
   "source": [
    "residuos = forecast_diff.flatten() - y_test_d1.reset_index(drop=True).values.flatten()\n",
    "pd.Series(residuos).plot()"
   ]
  },
  {
   "cell_type": "code",
   "execution_count": null,
   "metadata": {},
   "outputs": [],
   "source": [
    "pd.Series(residuos).plot.kde()\n"
   ]
  },
  {
   "cell_type": "code",
   "execution_count": null,
   "metadata": {},
   "outputs": [],
   "source": [
    "plot_acf(residuos)"
   ]
  },
  {
   "cell_type": "code",
   "execution_count": null,
   "metadata": {},
   "outputs": [],
   "source": [
    "pd.DataFrame(results)"
   ]
  },
  {
   "cell_type": "markdown",
   "metadata": {},
   "source": [
    "### MLP"
   ]
  },
  {
   "cell_type": "code",
   "execution_count": 12,
   "metadata": {},
   "outputs": [],
   "source": [
    "import torch\n",
    "from torch import nn\n",
    "from torch.utils.data import DataLoader\n",
    "import torch.optim as optim"
   ]
  },
  {
   "cell_type": "markdown",
   "metadata": {},
   "source": [
    "#### Divisão de Dados MLP "
   ]
  },
  {
   "cell_type": "code",
   "execution_count": 25,
   "metadata": {},
   "outputs": [],
   "source": [
    "#Separando os dados\n",
    "X_train, X_test, y_train, y_test = train_test_split(X, y, shuffle=False, test_size=.25)\n",
    "X_train, X_valid, y_train, y_valid = train_test_split(X_train, y_train, shuffle=False, test_size=.333)\n"
   ]
  },
  {
   "cell_type": "markdown",
   "metadata": {},
   "source": [
    "#### Diferenciação"
   ]
  },
  {
   "cell_type": "code",
   "execution_count": 27,
   "metadata": {},
   "outputs": [],
   "source": [
    "#Diferenciando\n",
    "X_train_d1 = X_train.diff().dropna()\n",
    "X_valid_d1 = X_valid.diff().dropna()\n",
    "X_test_d1 = X_test.diff().dropna()\n",
    "y_train_d1 = y_train.diff().dropna()\n",
    "y_valid_d1 = y_valid.diff().dropna()\n",
    "y_test_d1 = y_test.diff().dropna()"
   ]
  },
  {
   "cell_type": "markdown",
   "metadata": {},
   "source": [
    "#### Normalização"
   ]
  },
  {
   "cell_type": "code",
   "execution_count": 28,
   "metadata": {},
   "outputs": [],
   "source": [
    "X_train_d1_norm = X_train_d1.sub(X_train_d1.mean()).div(X_train_d1.std())\n",
    "X_valid_d1_norm = X_valid_d1.sub(X_valid_d1.mean()).div(X_valid_d1.std())\n",
    "X_test_d1_norm = X_test_d1.sub(X_train_d1.mean()).div(X_train_d1.std())"
   ]
  },
  {
   "cell_type": "code",
   "execution_count": 29,
   "metadata": {},
   "outputs": [
    {
     "data": {
      "text/plain": [
       "<AxesSubplot:xlabel='date'>"
      ]
     },
     "execution_count": 29,
     "metadata": {},
     "output_type": "execute_result"
    },
    {
     "data": {
      "image/png": "[encoded data removed]",
      "text/plain": [
       "<Figure size 432x288 with 1 Axes>"
      ]
     },
     "metadata": {
      "needs_background": "light"
     },
     "output_type": "display_data"
    }
   ],
   "source": [
    "X_train_d1_norm['meantemp-1'].plot()"
   ]
  },
  {
   "cell_type": "markdown",
   "metadata": {},
   "source": [
    "#### Batches"
   ]
  },
  {
   "cell_type": "code",
   "execution_count": 30,
   "metadata": {},
   "outputs": [],
   "source": [
    "training_data = torch.tensor(pd.concat([X_train_d1_norm, y_train_d1], axis=1).values)\n",
    "validating_data = torch.tensor(pd.concat([X_valid_d1_norm, y_valid_d1], axis=1).values)\n",
    "testing_data = torch.tensor(pd.concat([X_test_d1_norm, y_test_d1], axis=1).values)\n"
   ]
  },
  {
   "cell_type": "code",
   "execution_count": 31,
   "metadata": {},
   "outputs": [],
   "source": [
    "train_dataloader = DataLoader(training_data, batch_size=16, shuffle=False)\n",
    "valid_dataloader = DataLoader(validating_data, batch_size=16, shuffle=False)\n",
    "test_dataloader = DataLoader(testing_data, batch_size=16, shuffle=False)"
   ]
  },
  {
   "cell_type": "markdown",
   "metadata": {},
   "source": [
    "#### Modelo MLP"
   ]
  },
  {
   "cell_type": "code",
   "execution_count": 32,
   "metadata": {},
   "outputs": [],
   "source": [
    "n_lags = 3\n",
    "\n",
    "class MLP(nn.Module):\n",
    "  def __init__(self):\n",
    "    super().__init__()\n",
    "    \n",
    "    #Config 1\n",
    "    # self.fc1 = nn.Linear(n_lags,100)\n",
    "    # self.fc3 = nn.Linear(100,1)\n",
    "    \n",
    "    #Config 2\n",
    "    # self.fc1 = nn.Linear(n_lags,32)\n",
    "    # self.fc2 = nn.Linear(32,64)\n",
    "    # self.fc3 = nn.Linear(64,1)\n",
    "     \n",
    "    # #Config 3\n",
    "    self.fc1 = nn.Linear(n_lags,32)\n",
    "    self.drop1 = nn.Dropout(p=0.5)\n",
    "    self.fc2 = nn.Linear(32,64)\n",
    "    self.drop2 = nn.Dropout(p=0.5)\n",
    "    self.fc3 = nn.Linear(64,1)\n",
    "  \n",
    "  def forward(self, X):\n",
    "    out = torch.tanh(self.fc1(X))\n",
    "    out = self.drop1(out)\n",
    "    out = torch.relu(self.fc2(out))\n",
    "    out = self.drop2(out)\n",
    "    out = self.fc3(out)\n",
    "    return out"
   ]
  },
  {
   "cell_type": "code",
   "execution_count": 33,
   "metadata": {},
   "outputs": [
    {
     "name": "stdout",
     "output_type": "stream",
     "text": [
      "tensor([-0.0029], grad_fn=<AddBackward0>)\n",
      "meantemp   -2.666667\n",
      "Name: 2013-01-05 00:00:00, dtype: float64\n"
     ]
    }
   ],
   "source": [
    "multi_neuron = MLP()\n",
    "print(multi_neuron(torch.tensor(X_train_d1.iloc[0]).float()))\n",
    "print(y_train_d1.iloc[0])"
   ]
  },
  {
   "cell_type": "code",
   "execution_count": 68,
   "metadata": {},
   "outputs": [],
   "source": [
    "def train_mlp(multi_neuron, train_data, valid_data):\n",
    "\n",
    "  history_train = {}\n",
    "  history_valid = {}\n",
    "  for epoch in range(1, epochs+1):\n",
    "    loss_train = 0.0\n",
    "    for train_data in train_dataloader:\n",
    "      x = train_data[:,:n_lags].float()\n",
    "      y = train_data[:,n_lags].float()\n",
    "    \n",
    "      #forward pass\n",
    "      outputs = multi_neuron(x)\n",
    "\n",
    "      #loss measure\n",
    "      loss = loss_fn(outputs,y)\n",
    "\n",
    "      #backward pass\n",
    "      optimizer.zero_grad() # pára o autograd\n",
    "      loss.backward() # executa o backpropagation\n",
    "      optimizer.step() # atualiza os pesos\n",
    "\n",
    "      loss_train += loss.item() # soma os erros para obter o erro total\n",
    "\n",
    "    loss_valid = 0.0\n",
    "    for valid_data in valid_dataloader:    \n",
    "      x = valid_data[:,:n_lags].float()\n",
    "      y = valid_data[:,n_lags].float()   \n",
    "      #forward pass\n",
    "      target = multi_neuron(x)\n",
    "      #loss measure\n",
    "      loss = loss_fn(outputs,y)\n",
    "      # Calculate Loss\n",
    "      loss_valid += loss.item()\n",
    "\n",
    "\n",
    "    if (epoch % 10 == 0):\n",
    "      print('Epoch{}, train loss {}'.format(epoch, loss_train / len(train_dataloader)))\n",
    "      print('Epoch{}, valid loss {}'.format(epoch, loss_valid / len(valid_dataloader))) # apresenta o erro médio da época\n",
    "    history_train[epoch] = loss_train / len(train_dataloader)\n",
    "    history_valid[epoch] = loss_valid / len(valid_dataloader)\n",
    "\n",
    "  # pd.Series(history_train).plot()\n",
    "  # pd.Series(history_valid).plot()\n",
    "  \n",
    "  return multi_neuron\n",
    "\n"
   ]
  },
  {
   "cell_type": "code",
   "execution_count": 60,
   "metadata": {},
   "outputs": [],
   "source": [
    "def predict_mlp(model):\n",
    "\n",
    "    model.eval()\n",
    "    results_MLP = []\n",
    "    for test_data in test_dataloader:\n",
    "        x = test_data[:,:n_lags].float()\n",
    "        y = test_data[:,n_lags].float()\n",
    "        \n",
    "        y_pred = model(x)\n",
    "        results_MLP.extend(y_pred.flatten().detach().numpy())\n",
    "        \n",
    "    return results_MLP\n",
    "#pd.DataFrame(results).plot()\n",
    "# results_MLP[:10]"
   ]
  },
  {
   "cell_type": "code",
   "execution_count": 83,
   "metadata": {},
   "outputs": [],
   "source": [
    "def get_best_model(metric_name, all_metrics):    \n",
    "    model_metrics = min(all_metrics.keys(), key=(lambda new_k: all_metrics[new_k][metric_name]))\n",
    "    index_best = model_metrics[-1] \n",
    "    return mlp_models[int(index_best)]"
   ]
  },
  {
   "cell_type": "code",
   "execution_count": 95,
   "metadata": {},
   "outputs": [
    {
     "name": "stdout",
     "output_type": "stream",
     "text": [
      "Modelo 0\n",
      "Epoch10, train loss 2.76093060284853\n",
      "Epoch10, valid loss 2.994595513343811\n",
      "Epoch20, train loss 2.7419177731871605\n",
      "Epoch20, valid loss 2.96678808927536\n",
      "Epoch30, train loss 2.7213304203748705\n",
      "Epoch30, valid loss 3.021403819322586\n",
      "Epoch40, train loss 2.75263053804636\n",
      "Epoch40, valid loss 2.976266185045242\n",
      "Epoch50, train loss 2.746580299437046\n",
      "Epoch50, valid loss 2.9668880009651186\n",
      "Epoch60, train loss 2.73576351583004\n",
      "Epoch60, valid loss 2.9701152455806734\n",
      "Epoch70, train loss 2.734759296178818\n",
      "Epoch70, valid loss 2.97712948679924\n",
      "Epoch80, train loss 2.7399410218000413\n",
      "Epoch80, valid loss 2.9664845526218415\n",
      "Epoch90, train loss 2.722443373799324\n",
      "Epoch90, valid loss 3.0688945174217226\n",
      "Epoch100, train loss 2.7409060725569727\n",
      "Epoch100, valid loss 2.966859221458435\n",
      "Epoch110, train loss 2.740777928829193\n",
      "Epoch110, valid loss 2.9664588987827303\n",
      "Epoch120, train loss 2.7363113221526145\n",
      "Epoch120, valid loss 2.9674985814094543\n",
      "Epoch130, train loss 2.7294022065401076\n",
      "Epoch130, valid loss 2.983102318048477\n",
      "Epoch140, train loss 2.721104926764965\n",
      "Epoch140, valid loss 3.003635348081589\n",
      "Epoch150, train loss 2.7278486624360085\n",
      "Epoch150, valid loss 2.991079261302948\n",
      "Epoch160, train loss 2.723691114485264\n",
      "Epoch160, valid loss 3.0069002997875214\n",
      "Epoch170, train loss 2.728297044634819\n",
      "Epoch170, valid loss 2.9998075306415557\n",
      "Epoch180, train loss 2.7379565569758415\n",
      "Epoch180, valid loss 2.96703462600708\n",
      "Epoch190, train loss 2.732704056799412\n",
      "Epoch190, valid loss 2.9722397220134735\n",
      "Epoch200, train loss 2.723800595104694\n",
      "Epoch200, valid loss 3.0193887400627135\n",
      "Epoch210, train loss 2.7250932496786118\n",
      "Epoch210, valid loss 3.0096544563770293\n",
      "Epoch220, train loss 2.7204748964309693\n",
      "Epoch220, valid loss 3.0423780822753907\n",
      "Epoch230, train loss 2.724029257595539\n",
      "Epoch230, valid loss 3.0278062164783477\n",
      "Epoch240, train loss 2.7262005946040153\n",
      "Epoch240, valid loss 2.9959427309036255\n",
      "Epoch250, train loss 2.717821477353573\n",
      "Epoch250, valid loss 3.0902874875068664\n",
      "Epoch260, train loss 2.7317332884669305\n",
      "Epoch260, valid loss 2.9771380043029785\n",
      "Epoch270, train loss 2.7184539514780046\n",
      "Epoch270, valid loss 3.0272016096115113\n",
      "Epoch280, train loss 2.7172666895389557\n",
      "Epoch280, valid loss 3.0778254973888397\n",
      "Epoch290, train loss 2.721522472500801\n",
      "Epoch290, valid loss 3.0164331471920014\n",
      "Epoch300, train loss 2.7194545808434487\n",
      "Epoch300, valid loss 3.040589785575867\n",
      "MLP0 - model Results\n",
      "r2 -340.7530328245093\n",
      "mse 2.755582929931675\n",
      "mae 1.2567908745146381\n",
      "mape 64.68376620450437\n",
      "Modelo 1\n",
      "Epoch10, train loss 2.746316326856613\n",
      "Epoch10, valid loss 2.966932851076126\n",
      "Epoch20, train loss 2.7443995770812033\n",
      "Epoch20, valid loss 2.9664691925048827\n",
      "Epoch30, train loss 2.7404137367010115\n",
      "Epoch30, valid loss 2.96764346241951\n",
      "Epoch40, train loss 2.7390235525369646\n",
      "Epoch40, valid loss 2.9672541081905366\n",
      "Epoch50, train loss 2.736795741319656\n",
      "Epoch50, valid loss 2.9699758768081663\n",
      "Epoch60, train loss 2.7327526450157165\n",
      "Epoch60, valid loss 2.974494411945343\n",
      "Epoch70, train loss 2.7297722840309144\n",
      "Epoch70, valid loss 2.9851750242710113\n",
      "Epoch80, train loss 2.7278517588973044\n",
      "Epoch80, valid loss 3.0038154017925263\n",
      "Epoch90, train loss 2.736135452091694\n",
      "Epoch90, valid loss 2.972983845472336\n",
      "Epoch100, train loss 2.7136799252033232\n",
      "Epoch100, valid loss 3.0912218284606934\n",
      "Epoch110, train loss 2.7355012607574465\n",
      "Epoch110, valid loss 2.9686944448947905\n",
      "Epoch120, train loss 2.7282922795414923\n",
      "Epoch120, valid loss 2.9903632020950317\n",
      "Epoch130, train loss 2.734925583600998\n",
      "Epoch130, valid loss 2.9692484128475187\n",
      "Epoch140, train loss 2.727351055443287\n",
      "Epoch140, valid loss 3.005863287448883\n",
      "Epoch150, train loss 2.7154437252879142\n",
      "Epoch150, valid loss 3.1374335062503813\n",
      "Epoch160, train loss 2.72243153244257\n",
      "Epoch160, valid loss 3.010843034982681\n",
      "Epoch170, train loss 2.7263681042194365\n",
      "Epoch170, valid loss 2.9927986848354338\n",
      "Epoch180, train loss 2.728015976548195\n",
      "Epoch180, valid loss 2.9948160243034363\n",
      "Epoch190, train loss 2.7389890095591545\n",
      "Epoch190, valid loss 2.9664804351329805\n",
      "Epoch200, train loss 2.7335821574926378\n",
      "Epoch200, valid loss 2.978573735952377\n",
      "Epoch210, train loss 2.721879332661629\n",
      "Epoch210, valid loss 3.0705087196826937\n",
      "Epoch220, train loss 2.7377829274535177\n",
      "Epoch220, valid loss 2.9689844632148743\n",
      "Epoch230, train loss 2.723893993496895\n",
      "Epoch230, valid loss 3.0444082009792326\n",
      "Epoch240, train loss 2.728867617249489\n",
      "Epoch240, valid loss 2.9772328686714173\n",
      "Epoch250, train loss 2.74441003203392\n",
      "Epoch250, valid loss 2.967232038974762\n",
      "Epoch260, train loss 2.721995596587658\n",
      "Epoch260, valid loss 3.066829626560211\n",
      "Epoch270, train loss 2.729675136208534\n",
      "Epoch270, valid loss 2.9919470834732054\n",
      "Epoch280, train loss 2.7185907047986984\n",
      "Epoch280, valid loss 3.0218259036540984\n",
      "Epoch290, train loss 2.7292701905965804\n",
      "Epoch290, valid loss 2.9791376781463623\n",
      "Epoch300, train loss 2.717985588014126\n",
      "Epoch300, valid loss 3.039117367267609\n",
      "MLP1 - model Results\n",
      "r2 -558.4029834480089\n",
      "mse 2.7520289762910526\n",
      "mae 1.2567387839162434\n",
      "mape 63.61911494997284\n",
      "Modelo 2\n",
      "Epoch10, train loss 2.728142658174038\n",
      "Epoch10, valid loss 3.002618069648743\n",
      "Epoch20, train loss 2.7327503407001497\n",
      "Epoch20, valid loss 2.9904496622085572\n",
      "Epoch30, train loss 2.72624450802803\n",
      "Epoch30, valid loss 2.9941317212581633\n",
      "Epoch40, train loss 2.729510961771011\n",
      "Epoch40, valid loss 2.9889064824581144\n",
      "Epoch50, train loss 2.7402718594670294\n",
      "Epoch50, valid loss 2.9666476488113402\n",
      "Epoch60, train loss 2.7375240468978883\n",
      "Epoch60, valid loss 2.9680251550674437\n",
      "Epoch70, train loss 2.744412455558777\n",
      "Epoch70, valid loss 2.9699576461315154\n",
      "Epoch80, train loss 2.736278432905674\n",
      "Epoch80, valid loss 2.9690410542488097\n",
      "Epoch90, train loss 2.7407815280556678\n",
      "Epoch90, valid loss 2.9665133118629456\n",
      "Epoch100, train loss 2.7207429295778276\n",
      "Epoch100, valid loss 3.0347938001155854\n",
      "Epoch110, train loss 2.7247228756546975\n",
      "Epoch110, valid loss 3.023330669403076\n",
      "Epoch120, train loss 2.7283830243349074\n",
      "Epoch120, valid loss 2.984440566301346\n",
      "Epoch130, train loss 2.7284354719519617\n",
      "Epoch130, valid loss 2.991079018115997\n",
      "Epoch140, train loss 2.741360053420067\n",
      "Epoch140, valid loss 2.966603752374649\n",
      "Epoch150, train loss 2.734599363207817\n",
      "Epoch150, valid loss 2.97085678935051\n",
      "Epoch160, train loss 2.700454152226448\n",
      "Epoch160, valid loss 3.2978333044052124\n",
      "Epoch170, train loss 2.7327652391791344\n",
      "Epoch170, valid loss 2.972076019048691\n",
      "Epoch180, train loss 2.728687369525433\n",
      "Epoch180, valid loss 3.0069967591762543\n",
      "Epoch190, train loss 2.7290809193253516\n",
      "Epoch190, valid loss 3.0008148312568665\n",
      "Epoch200, train loss 2.726623125076294\n",
      "Epoch200, valid loss 2.9980862176418306\n",
      "Epoch210, train loss 2.714838305413723\n",
      "Epoch210, valid loss 3.0669160258769987\n",
      "Epoch220, train loss 2.7161106133460997\n",
      "Epoch220, valid loss 3.0603114688396453\n",
      "Epoch230, train loss 2.7358369514346124\n",
      "Epoch230, valid loss 2.9672334146499635\n",
      "Epoch240, train loss 2.7319478780031203\n",
      "Epoch240, valid loss 2.9709528493881225\n",
      "Epoch250, train loss 2.733971345126629\n",
      "Epoch250, valid loss 2.9689886236190794\n",
      "Epoch260, train loss 2.7135448083281517\n",
      "Epoch260, valid loss 3.085511646270752\n",
      "Epoch270, train loss 2.732933203279972\n",
      "Epoch270, valid loss 2.979477928876877\n",
      "Epoch280, train loss 2.7155893233418467\n",
      "Epoch280, valid loss 3.0404158771038055\n",
      "Epoch290, train loss 2.722489736676216\n",
      "Epoch290, valid loss 3.022695882320404\n",
      "Epoch300, train loss 2.7294558355212213\n",
      "Epoch300, valid loss 2.985642912387848\n",
      "MLP2 - model Results\n",
      "r2 -477.29956869672196\n",
      "mse 2.751720457680733\n",
      "mae 1.2565349371239625\n",
      "mape 102.14806240380251\n",
      "Modelo 3\n",
      "Epoch10, train loss 2.724440279006958\n",
      "Epoch10, valid loss 3.015213099718094\n",
      "Epoch20, train loss 2.7485166797041893\n",
      "Epoch20, valid loss 2.9737618136405946\n",
      "Epoch30, train loss 2.7336000853776934\n",
      "Epoch30, valid loss 2.9668750524520875\n",
      "Epoch40, train loss 2.7354809433221816\n",
      "Epoch40, valid loss 2.9699810206890107\n",
      "Epoch50, train loss 2.739314007759094\n",
      "Epoch50, valid loss 2.9669384026527403\n",
      "Epoch60, train loss 2.725741968154907\n",
      "Epoch60, valid loss 2.993723050355911\n",
      "Epoch70, train loss 2.7357283809781077\n",
      "Epoch70, valid loss 2.9756279599666597\n",
      "Epoch80, train loss 2.7268889009952546\n",
      "Epoch80, valid loss 3.0049425637722016\n",
      "Epoch90, train loss 2.7361534237861633\n",
      "Epoch90, valid loss 2.9767560720443726\n",
      "Epoch100, train loss 2.7178335109353067\n",
      "Epoch100, valid loss 3.064641958475113\n",
      "Epoch110, train loss 2.703940386772156\n",
      "Epoch110, valid loss 3.23644837141037\n",
      "Epoch120, train loss 2.714240697324276\n",
      "Epoch120, valid loss 3.1130115532875062\n",
      "Epoch130, train loss 2.7184864917397498\n",
      "Epoch130, valid loss 3.1144629240036013\n",
      "Epoch140, train loss 2.731152991652489\n",
      "Epoch140, valid loss 2.981455147266388\n",
      "Epoch150, train loss 2.713797511458397\n",
      "Epoch150, valid loss 3.081772484779358\n",
      "Epoch160, train loss 2.727918243408203\n",
      "Epoch160, valid loss 2.980944585800171\n",
      "Epoch170, train loss 2.7282639744877817\n",
      "Epoch170, valid loss 2.9886361181735994\n",
      "Epoch180, train loss 2.74205392986536\n",
      "Epoch180, valid loss 2.9665406930446623\n",
      "Epoch190, train loss 2.7302652353048327\n",
      "Epoch190, valid loss 2.976660033464432\n",
      "Epoch200, train loss 2.7361897423863413\n",
      "Epoch200, valid loss 2.9730690133571627\n",
      "Epoch210, train loss 2.729146780669689\n",
      "Epoch210, valid loss 2.988079249858856\n",
      "Epoch220, train loss 2.7260857436060904\n",
      "Epoch220, valid loss 3.0036542797088623\n",
      "Epoch230, train loss 2.7088319289684297\n",
      "Epoch230, valid loss 3.189074168205261\n",
      "Epoch240, train loss 2.727757178246975\n",
      "Epoch240, valid loss 2.989664219617844\n",
      "Epoch250, train loss 2.720355677604675\n",
      "Epoch250, valid loss 3.017026755809784\n",
      "Epoch260, train loss 2.7258136546611786\n",
      "Epoch260, valid loss 2.9945032024383544\n",
      "Epoch270, train loss 2.7258281567692757\n",
      "Epoch270, valid loss 2.998828572034836\n",
      "Epoch280, train loss 2.705356104671955\n",
      "Epoch280, valid loss 3.2081113481521606\n",
      "Epoch290, train loss 2.718484613597393\n",
      "Epoch290, valid loss 3.044312549829483\n",
      "Epoch300, train loss 2.730762722492218\n",
      "Epoch300, valid loss 2.977990778684616\n",
      "MLP3 - model Results\n",
      "r2 -508.9786058896292\n",
      "mse 2.754036478603693\n",
      "mae 1.2576193076435758\n",
      "mape 166.31886432714438\n",
      "Modelo 4\n",
      "Epoch10, train loss 2.735717231333256\n",
      "Epoch10, valid loss 2.973375941514969\n",
      "Epoch20, train loss 2.755715090632439\n",
      "Epoch20, valid loss 2.9867912220954893\n",
      "Epoch30, train loss 2.7389436569809913\n",
      "Epoch30, valid loss 2.9732943308353423\n",
      "Epoch40, train loss 2.717737744748592\n",
      "Epoch40, valid loss 3.0440676534175872\n",
      "Epoch50, train loss 2.74018008261919\n",
      "Epoch50, valid loss 2.966431747674942\n",
      "Epoch60, train loss 2.7320969930291175\n",
      "Epoch60, valid loss 2.9835133945941923\n",
      "Epoch70, train loss 2.7333364328742027\n",
      "Epoch70, valid loss 2.97643709897995\n",
      "Epoch80, train loss 2.735303577184677\n",
      "Epoch80, valid loss 2.97466210603714\n",
      "Epoch90, train loss 2.715861897468567\n",
      "Epoch90, valid loss 3.0674956285953523\n",
      "Epoch100, train loss 2.729902220070362\n",
      "Epoch100, valid loss 2.9907548701763154\n",
      "Epoch110, train loss 2.736381973326206\n",
      "Epoch110, valid loss 2.972143199443817\n",
      "Epoch120, train loss 2.7148874214291574\n",
      "Epoch120, valid loss 3.097482553720474\n",
      "Epoch130, train loss 2.7314049139618874\n",
      "Epoch130, valid loss 2.9737234342098238\n",
      "Epoch140, train loss 2.7262197104096413\n",
      "Epoch140, valid loss 2.999521681070328\n",
      "Epoch150, train loss 2.7310449171066282\n",
      "Epoch150, valid loss 2.9864662289619446\n",
      "Epoch160, train loss 2.729156863093376\n",
      "Epoch160, valid loss 2.9894515752792357\n",
      "Epoch170, train loss 2.712066485583782\n",
      "Epoch170, valid loss 3.101784870624542\n",
      "Epoch180, train loss 2.743304998576641\n",
      "Epoch180, valid loss 2.9664667510986327\n",
      "Epoch190, train loss 2.7023621129989626\n",
      "Epoch190, valid loss 3.309949769973755\n",
      "Epoch200, train loss 2.732031444609165\n",
      "Epoch200, valid loss 2.9841048443317413\n",
      "Epoch210, train loss 2.7275575613975525\n",
      "Epoch210, valid loss 2.98713879942894\n",
      "Epoch220, train loss 2.7325347742438315\n",
      "Epoch220, valid loss 2.9771689987182617\n",
      "Epoch230, train loss 2.7416155976057053\n",
      "Epoch230, valid loss 2.966654473543167\n",
      "Epoch240, train loss 2.7404229626059533\n",
      "Epoch240, valid loss 2.966471310853958\n",
      "Epoch250, train loss 2.709017998278141\n",
      "Epoch250, valid loss 3.1881115412712098\n",
      "Epoch260, train loss 2.7288145464658737\n",
      "Epoch260, valid loss 2.9893609738349913\n",
      "Epoch270, train loss 2.710502275526524\n",
      "Epoch270, valid loss 3.1293379414081572\n",
      "Epoch280, train loss 2.7232773360610008\n",
      "Epoch280, valid loss 3.017046499252319\n",
      "Epoch290, train loss 2.7226894041895866\n",
      "Epoch290, valid loss 3.036451497077942\n",
      "Epoch300, train loss 2.7228139090538024\n",
      "Epoch300, valid loss 3.0265783774852753\n",
      "MLP4 - model Results\n",
      "r2 -419.88442583719785\n",
      "mse 2.7561260153967364\n",
      "mae 1.2575740384274119\n",
      "mape 71.76275276642306\n",
      "Modelo 5\n",
      "Epoch10, train loss 2.736910237967968\n",
      "Epoch10, valid loss 2.998925578594208\n",
      "Epoch20, train loss 2.732420330941677\n",
      "Epoch20, valid loss 2.987304254770279\n",
      "Epoch30, train loss 2.7462102138996123\n",
      "Epoch30, valid loss 2.9736262941360474\n",
      "Epoch40, train loss 2.7364547204971315\n",
      "Epoch40, valid loss 2.9776311337947847\n",
      "Epoch50, train loss 2.732864088714123\n",
      "Epoch50, valid loss 2.988276648521423\n",
      "Epoch60, train loss 2.740199897587299\n",
      "Epoch60, valid loss 2.9664399099349974\n",
      "Epoch70, train loss 2.7369065764546394\n",
      "Epoch70, valid loss 2.9745323848724365\n",
      "Epoch80, train loss 2.702707632482052\n",
      "Epoch80, valid loss 3.2954165816307066\n",
      "Epoch90, train loss 2.740793653726578\n",
      "Epoch90, valid loss 2.9679790353775024\n",
      "Epoch100, train loss 2.718390625119209\n",
      "Epoch100, valid loss 3.0317993676662445\n",
      "Epoch110, train loss 2.737857065796852\n",
      "Epoch110, valid loss 2.966661126613617\n",
      "Epoch120, train loss 2.7422173207998277\n",
      "Epoch120, valid loss 2.9671124374866484\n",
      "Epoch130, train loss 2.7126281693577767\n",
      "Epoch130, valid loss 3.0965865421295167\n",
      "Epoch140, train loss 2.7103135642409324\n",
      "Epoch140, valid loss 3.147198643684387\n",
      "Epoch150, train loss 2.736000977754593\n",
      "Epoch150, valid loss 2.96654061794281\n",
      "Epoch160, train loss 2.7233083152771\n",
      "Epoch160, valid loss 3.0029005551338197\n",
      "Epoch170, train loss 2.7262300404906274\n",
      "Epoch170, valid loss 2.98815881729126\n",
      "Epoch180, train loss 2.7273639073967932\n",
      "Epoch180, valid loss 2.9883918285369875\n",
      "Epoch190, train loss 2.7311758333444596\n",
      "Epoch190, valid loss 2.9799069607257844\n",
      "Epoch200, train loss 2.7316750729084016\n",
      "Epoch200, valid loss 2.979301894903183\n",
      "Epoch210, train loss 2.729184029698372\n",
      "Epoch210, valid loss 2.984652518033981\n",
      "Epoch220, train loss 2.7286941829323768\n",
      "Epoch220, valid loss 2.976507054567337\n",
      "Epoch230, train loss 2.7091322106122973\n",
      "Epoch230, valid loss 3.153555727005005\n",
      "Epoch240, train loss 2.7067733573913575\n",
      "Epoch240, valid loss 3.2610587430000306\n",
      "Epoch250, train loss 2.7253440168499945\n",
      "Epoch250, valid loss 3.014911811351776\n",
      "Epoch260, train loss 2.7067208513617516\n",
      "Epoch260, valid loss 3.197289686203003\n",
      "Epoch270, train loss 2.7207483181357386\n",
      "Epoch270, valid loss 3.028240005970001\n",
      "Epoch280, train loss 2.7058823055028913\n",
      "Epoch280, valid loss 3.187415316104889\n",
      "Epoch290, train loss 2.7183526241779328\n",
      "Epoch290, valid loss 3.073642905950546\n",
      "Epoch300, train loss 2.71654695302248\n",
      "Epoch300, valid loss 3.096648758649826\n",
      "MLP5 - model Results\n",
      "r2 -386.6548761192328\n",
      "mse 2.7465813897459976\n",
      "mae 1.2561998168511104\n",
      "mape 105.93690068801249\n",
      "Modelo 6\n",
      "Epoch10, train loss 2.727147701084614\n",
      "Epoch10, valid loss 3.007164261341095\n",
      "Epoch20, train loss 2.738286344110966\n",
      "Epoch20, valid loss 2.969561411142349\n",
      "Epoch30, train loss 2.7368260803818703\n",
      "Epoch30, valid loss 2.973772797584534\n",
      "Epoch40, train loss 2.7264294952154158\n",
      "Epoch40, valid loss 3.0010798931121827\n",
      "Epoch50, train loss 2.73198023468256\n",
      "Epoch50, valid loss 2.9740692484378815\n",
      "Epoch60, train loss 2.7288770988583564\n",
      "Epoch60, valid loss 2.98381543636322\n",
      "Epoch70, train loss 2.7388737738132476\n",
      "Epoch70, valid loss 2.9739905893802643\n",
      "Epoch80, train loss 2.725421823859215\n",
      "Epoch80, valid loss 2.991861562728882\n",
      "Epoch90, train loss 2.7239580088853836\n",
      "Epoch90, valid loss 2.9922286653518677\n",
      "Epoch100, train loss 2.725823787748814\n",
      "Epoch100, valid loss 2.9879280591011046\n",
      "Epoch110, train loss 2.7382739660143853\n",
      "Epoch110, valid loss 2.966834442615509\n",
      "Epoch120, train loss 2.730876944065094\n",
      "Epoch120, valid loss 2.9701906037330628\n",
      "Epoch130, train loss 2.7368759793043136\n",
      "Epoch130, valid loss 2.9664381074905397\n",
      "Epoch140, train loss 2.7337678506970406\n",
      "Epoch140, valid loss 2.968928966522217\n",
      "Epoch150, train loss 2.724692348241806\n",
      "Epoch150, valid loss 2.9996897840499877\n",
      "Epoch160, train loss 2.733789522945881\n",
      "Epoch160, valid loss 2.9752487778663634\n",
      "Epoch170, train loss 2.7367467185854912\n",
      "Epoch170, valid loss 2.9690429174900057\n",
      "Epoch180, train loss 2.733888748586178\n",
      "Epoch180, valid loss 2.969926962852478\n",
      "Epoch190, train loss 2.72807672649622\n",
      "Epoch190, valid loss 2.985306785106659\n",
      "Epoch200, train loss 2.7232535046339037\n",
      "Epoch200, valid loss 3.007078216075897\n",
      "Epoch210, train loss 2.7369993543624878\n",
      "Epoch210, valid loss 2.966722811460495\n",
      "Epoch220, train loss 2.731026437282562\n",
      "Epoch220, valid loss 2.971781512498856\n",
      "Epoch230, train loss 2.7382909625768663\n",
      "Epoch230, valid loss 2.966430323123932\n",
      "Epoch240, train loss 2.7329190245270727\n",
      "Epoch240, valid loss 2.9752823972702025\n",
      "Epoch250, train loss 2.7273039999604225\n",
      "Epoch250, valid loss 2.9939093494415285\n",
      "Epoch260, train loss 2.7295033732056617\n",
      "Epoch260, valid loss 2.9849747025966646\n",
      "Epoch270, train loss 2.720435645878315\n",
      "Epoch270, valid loss 3.032296931743622\n",
      "Epoch280, train loss 2.7263275998830796\n",
      "Epoch280, valid loss 2.996403033733368\n",
      "Epoch290, train loss 2.724608469903469\n",
      "Epoch290, valid loss 3.0297082269191744\n",
      "Epoch300, train loss 2.7244948637485504\n",
      "Epoch300, valid loss 3.0212475669384005\n",
      "MLP6 - model Results\n",
      "r2 -501.43337028120055\n",
      "mse 2.756841153784508\n",
      "mae 1.258462953980987\n",
      "mape 72.11031615980157\n",
      "Modelo 7\n",
      "Epoch10, train loss 2.756828188896179\n",
      "Epoch10, valid loss 2.9855425930023194\n",
      "Epoch20, train loss 2.712016552090645\n",
      "Epoch20, valid loss 3.187152922153473\n",
      "Epoch30, train loss 2.7305607104301455\n",
      "Epoch30, valid loss 2.992172832489014\n",
      "Epoch40, train loss 2.726884250342846\n",
      "Epoch40, valid loss 3.014233136177063\n",
      "Epoch50, train loss 2.742137784957886\n",
      "Epoch50, valid loss 2.968658138513565\n",
      "Epoch60, train loss 2.7225052067637443\n",
      "Epoch60, valid loss 3.0126565754413606\n",
      "Epoch70, train loss 2.7464050808548928\n",
      "Epoch70, valid loss 2.975607018470764\n",
      "Epoch80, train loss 2.7332023450732232\n",
      "Epoch80, valid loss 2.9690998566150664\n",
      "Epoch90, train loss 2.7394541749358177\n",
      "Epoch90, valid loss 2.967674398422241\n",
      "Epoch100, train loss 2.730458537340164\n",
      "Epoch100, valid loss 2.974889907836914\n",
      "Epoch110, train loss 2.717044299244881\n",
      "Epoch110, valid loss 3.064863419532776\n",
      "Epoch120, train loss 2.729587345123291\n",
      "Epoch120, valid loss 2.983069078922272\n",
      "Epoch130, train loss 2.7084454882144926\n",
      "Epoch130, valid loss 3.207071397304535\n",
      "Epoch140, train loss 2.6983829897642138\n",
      "Epoch140, valid loss 3.4526398038864134\n",
      "Epoch150, train loss 2.7376420056819915\n",
      "Epoch150, valid loss 2.9731503891944886\n",
      "Epoch160, train loss 2.728310046195984\n",
      "Epoch160, valid loss 2.991013243198395\n",
      "Epoch170, train loss 2.7293429031968115\n",
      "Epoch170, valid loss 2.993818645477295\n",
      "Epoch180, train loss 2.726409128010273\n",
      "Epoch180, valid loss 2.9861685752868654\n",
      "Epoch190, train loss 2.720357118546963\n",
      "Epoch190, valid loss 3.026789119243622\n",
      "Epoch200, train loss 2.727732000052929\n",
      "Epoch200, valid loss 2.98884232878685\n",
      "Epoch210, train loss 2.7321295979619027\n",
      "Epoch210, valid loss 2.9744272518157957\n",
      "Epoch220, train loss 2.723860565125942\n",
      "Epoch220, valid loss 3.0114757406711576\n",
      "Epoch230, train loss 2.714931660890579\n",
      "Epoch230, valid loss 3.0742245471477507\n",
      "Epoch240, train loss 2.7422286155819893\n",
      "Epoch240, valid loss 2.9670765876770018\n",
      "Epoch250, train loss 2.7350727823376655\n",
      "Epoch250, valid loss 2.9756373310089113\n",
      "Epoch260, train loss 2.7355683812499048\n",
      "Epoch260, valid loss 2.970060453414917\n",
      "Epoch270, train loss 2.721940104663372\n",
      "Epoch270, valid loss 3.016125873327255\n",
      "Epoch280, train loss 2.71825080037117\n",
      "Epoch280, valid loss 3.033089563846588\n",
      "Epoch290, train loss 2.7305676355957984\n",
      "Epoch290, valid loss 2.9696248042583466\n",
      "Epoch300, train loss 2.728170645534992\n",
      "Epoch300, valid loss 2.9880702018737795\n",
      "MLP7 - model Results\n",
      "r2 -592.2004290115468\n",
      "mse 2.7538187963651404\n",
      "mae 1.2587651322720208\n",
      "mape 44.95798302006969\n",
      "Modelo 8\n",
      "Epoch10, train loss 2.733697645366192\n",
      "Epoch10, valid loss 2.971846318244934\n",
      "Epoch20, train loss 2.710902360677719\n",
      "Epoch20, valid loss 3.1676173996925354\n",
      "Epoch30, train loss 2.750740434527397\n",
      "Epoch30, valid loss 2.970025599002838\n",
      "Epoch40, train loss 2.719166941642761\n",
      "Epoch40, valid loss 3.036205679178238\n",
      "Epoch50, train loss 2.733358418941498\n",
      "Epoch50, valid loss 2.9805835139751435\n",
      "Epoch60, train loss 2.740347596108913\n",
      "Epoch60, valid loss 2.968000463247299\n",
      "Epoch70, train loss 2.7369819003343583\n",
      "Epoch70, valid loss 2.977358238697052\n",
      "Epoch80, train loss 2.7372893884778025\n",
      "Epoch80, valid loss 2.9772986435890196\n",
      "Epoch90, train loss 2.7395583739876748\n",
      "Epoch90, valid loss 2.966432353258133\n",
      "Epoch100, train loss 2.7389272540807723\n",
      "Epoch100, valid loss 2.966520788669586\n",
      "Epoch110, train loss 2.7400042599439622\n",
      "Epoch110, valid loss 2.966477824449539\n",
      "Epoch120, train loss 2.7386640131473543\n",
      "Epoch120, valid loss 2.967076292037964\n",
      "Epoch130, train loss 2.7258616611361504\n",
      "Epoch130, valid loss 2.984854587316513\n",
      "Epoch140, train loss 2.7378331279754637\n",
      "Epoch140, valid loss 2.9671272838115694\n",
      "Epoch150, train loss 2.7408875530958174\n",
      "Epoch150, valid loss 2.9667608273029327\n",
      "Epoch160, train loss 2.7349113702774046\n",
      "Epoch160, valid loss 2.9698112177848817\n",
      "Epoch170, train loss 2.718093644678593\n",
      "Epoch170, valid loss 3.0475556695461274\n",
      "Epoch180, train loss 2.697588906288147\n",
      "Epoch180, valid loss 3.333852882385254\n",
      "Epoch190, train loss 2.7405267947912217\n",
      "Epoch190, valid loss 2.9670963668823243\n",
      "Epoch200, train loss 2.736037414968014\n",
      "Epoch200, valid loss 2.9684582686424257\n",
      "Epoch210, train loss 2.721216155588627\n",
      "Epoch210, valid loss 3.029678143262863\n",
      "Epoch220, train loss 2.7350300815701485\n",
      "Epoch220, valid loss 2.9694809436798097\n",
      "Epoch230, train loss 2.7224643450975416\n",
      "Epoch230, valid loss 3.023286980390549\n",
      "Epoch240, train loss 2.736364402770996\n",
      "Epoch240, valid loss 2.968375766277313\n",
      "Epoch250, train loss 2.7326150739192965\n",
      "Epoch250, valid loss 2.9718677234649657\n",
      "Epoch260, train loss 2.709192934632301\n",
      "Epoch260, valid loss 3.1463383650779724\n",
      "Epoch270, train loss 2.7376804405450823\n",
      "Epoch270, valid loss 2.9682632660865784\n",
      "Epoch280, train loss 2.736226178109646\n",
      "Epoch280, valid loss 2.967153047323227\n",
      "Epoch290, train loss 2.7165358209609987\n",
      "Epoch290, valid loss 3.04885879278183\n",
      "Epoch300, train loss 2.7031609562039374\n",
      "Epoch300, valid loss 3.2998283219337465\n",
      "MLP8 - model Results\n",
      "r2 -404.8438839772713\n",
      "mse 2.7499549341538594\n",
      "mae 1.2564828929237541\n",
      "mape 66.59910787131423\n",
      "Modelo 9\n",
      "Epoch10, train loss 2.7466788825392725\n",
      "Epoch10, valid loss 2.96643147110939\n",
      "Epoch20, train loss 2.750122572481632\n",
      "Epoch20, valid loss 2.966603717803955\n",
      "Epoch30, train loss 2.741581670641899\n",
      "Epoch30, valid loss 2.9664383113384245\n",
      "Epoch40, train loss 2.747809745967388\n",
      "Epoch40, valid loss 2.9714749920368195\n",
      "Epoch50, train loss 2.7402134755253793\n",
      "Epoch50, valid loss 2.971047399044037\n",
      "Epoch60, train loss 2.7361274439096452\n",
      "Epoch60, valid loss 2.9700913679599763\n",
      "Epoch70, train loss 2.7370488625764846\n",
      "Epoch70, valid loss 2.966473821401596\n",
      "Epoch80, train loss 2.7077591356635096\n",
      "Epoch80, valid loss 3.1684096479415893\n",
      "Epoch90, train loss 2.7082322689890863\n",
      "Epoch90, valid loss 3.1458966660499574\n",
      "Epoch100, train loss 2.718683745265007\n",
      "Epoch100, valid loss 3.069214209318161\n",
      "Epoch110, train loss 2.715853832960129\n",
      "Epoch110, valid loss 3.064757788181305\n",
      "Epoch120, train loss 2.72762613683939\n",
      "Epoch120, valid loss 2.9861691868305207\n",
      "Epoch130, train loss 2.739022705256939\n",
      "Epoch130, valid loss 2.9664490282535554\n",
      "Epoch140, train loss 2.7161841171979906\n",
      "Epoch140, valid loss 3.070141525268555\n",
      "Epoch150, train loss 2.7202323979139327\n",
      "Epoch150, valid loss 3.052479791641235\n",
      "Epoch160, train loss 2.7366515189409255\n",
      "Epoch160, valid loss 2.9665566551685334\n",
      "Epoch170, train loss 2.7266105222702026\n",
      "Epoch170, valid loss 3.0036634862422944\n",
      "Epoch180, train loss 2.727005202174187\n",
      "Epoch180, valid loss 2.9875208151340487\n",
      "Epoch190, train loss 2.7259608420729635\n",
      "Epoch190, valid loss 2.99885183095932\n",
      "Epoch200, train loss 2.726303701102734\n",
      "Epoch200, valid loss 2.9920550668239594\n",
      "Epoch210, train loss 2.7240385603904724\n",
      "Epoch210, valid loss 3.0121288752555846\n",
      "Epoch220, train loss 2.739448610842228\n",
      "Epoch220, valid loss 2.9671721267700195\n",
      "Epoch230, train loss 2.735742774903774\n",
      "Epoch230, valid loss 2.9678625690937044\n",
      "Epoch240, train loss 2.728488528430462\n",
      "Epoch240, valid loss 2.979063206911087\n",
      "Epoch250, train loss 2.73183054625988\n",
      "Epoch250, valid loss 2.9701418125629426\n",
      "Epoch260, train loss 2.7323155188560486\n",
      "Epoch260, valid loss 2.9736291754245756\n",
      "Epoch270, train loss 2.713341366648674\n",
      "Epoch270, valid loss 3.1549426889419556\n",
      "Epoch280, train loss 2.715052323937416\n",
      "Epoch280, valid loss 3.079983044862747\n",
      "Epoch290, train loss 2.7194793212413786\n",
      "Epoch290, valid loss 3.0388252437114716\n",
      "Epoch300, train loss 2.734189703464508\n",
      "Epoch300, valid loss 2.9723127210140228\n",
      "MLP9 - model Results\n",
      "r2 -559.8314598860995\n",
      "mse 2.7544335606099173\n",
      "mae 1.2590211288994877\n",
      "mape 46.35526454043765\n"
     ]
    }
   ],
   "source": [
    "mlp_models = []\n",
    "results_metrics_MLP = {}\n",
    "\n",
    "for i in range(10):\n",
    "    print(f\"Modelo {i}\")\n",
    "    multi_neuron = MLP()\n",
    "    epochs = 300\n",
    "    loss_fn = nn.MSELoss()\n",
    "    #optimizer = optim.RMSprop(multi_neuron.parameters(), lr=0.001)\n",
    "    optimizer = optim.SGD(multi_neuron.parameters(), lr=0.01, weight_decay= 0.005)\n",
    "    \n",
    "    model = train_mlp(multi_neuron, train_dataloader, valid_dataloader)\n",
    "    mlp_models.append(model)\n",
    "    results_MLP = predict_mlp(model)\n",
    "    show_metrics(y_test_d1,results_MLP, results_metrics_MLP, f'MLP{i}')\n",
    "    "
   ]
  },
  {
   "cell_type": "code",
   "execution_count": 69,
   "metadata": {},
   "outputs": [
    {
     "data": {
      "text/html": [
       "<div>\n",
       "<style scoped>\n",
       "    .dataframe tbody tr th:only-of-type {\n",
       "        vertical-align: middle;\n",
       "    }\n",
       "\n",
       "    .dataframe tbody tr th {\n",
       "        vertical-align: top;\n",
       "    }\n",
       "\n",
       "    .dataframe thead th {\n",
       "        text-align: right;\n",
       "    }\n",
       "</style>\n",
       "<table border=\"1\" class=\"dataframe\">\n",
       "  <thead>\n",
       "    <tr style=\"text-align: right;\">\n",
       "      <th></th>\n",
       "      <th>MLP0</th>\n",
       "      <th>MLP1</th>\n",
       "      <th>MLP2</th>\n",
       "      <th>MLP3</th>\n",
       "      <th>MLP4</th>\n",
       "      <th>MLP5</th>\n",
       "      <th>MLP6</th>\n",
       "      <th>MLP7</th>\n",
       "      <th>MLP8</th>\n",
       "      <th>MLP9</th>\n",
       "    </tr>\n",
       "  </thead>\n",
       "  <tbody>\n",
       "    <tr>\n",
       "      <th>r2</th>\n",
       "      <td>-326.826718</td>\n",
       "      <td>-519.873351</td>\n",
       "      <td>-573.939267</td>\n",
       "      <td>-548.705408</td>\n",
       "      <td>-480.329320</td>\n",
       "      <td>-423.121409</td>\n",
       "      <td>-530.966134</td>\n",
       "      <td>-716.932406</td>\n",
       "      <td>-397.819217</td>\n",
       "      <td>-749.336943</td>\n",
       "    </tr>\n",
       "    <tr>\n",
       "      <th>mse</th>\n",
       "      <td>2.746139</td>\n",
       "      <td>2.757634</td>\n",
       "      <td>2.758952</td>\n",
       "      <td>2.750901</td>\n",
       "      <td>2.754406</td>\n",
       "      <td>2.752302</td>\n",
       "      <td>2.756913</td>\n",
       "      <td>2.752878</td>\n",
       "      <td>2.752845</td>\n",
       "      <td>2.751828</td>\n",
       "    </tr>\n",
       "    <tr>\n",
       "      <th>mae</th>\n",
       "      <td>1.255743</td>\n",
       "      <td>1.259151</td>\n",
       "      <td>1.259509</td>\n",
       "      <td>1.257445</td>\n",
       "      <td>1.258011</td>\n",
       "      <td>1.257154</td>\n",
       "      <td>1.258663</td>\n",
       "      <td>1.258493</td>\n",
       "      <td>1.256814</td>\n",
       "      <td>1.258003</td>\n",
       "    </tr>\n",
       "    <tr>\n",
       "      <th>mape</th>\n",
       "      <td>46.468185</td>\n",
       "      <td>58.514039</td>\n",
       "      <td>63.930745</td>\n",
       "      <td>58.338940</td>\n",
       "      <td>58.004163</td>\n",
       "      <td>147.304597</td>\n",
       "      <td>58.337910</td>\n",
       "      <td>164.800973</td>\n",
       "      <td>419.896850</td>\n",
       "      <td>184.350525</td>\n",
       "    </tr>\n",
       "  </tbody>\n",
       "</table>\n",
       "</div>"
      ],
      "text/plain": [
       "            MLP0        MLP1        MLP2        MLP3        MLP4        MLP5  \\\n",
       "r2   -326.826718 -519.873351 -573.939267 -548.705408 -480.329320 -423.121409   \n",
       "mse     2.746139    2.757634    2.758952    2.750901    2.754406    2.752302   \n",
       "mae     1.255743    1.259151    1.259509    1.257445    1.258011    1.257154   \n",
       "mape   46.468185   58.514039   63.930745   58.338940   58.004163  147.304597   \n",
       "\n",
       "            MLP6        MLP7        MLP8        MLP9  \n",
       "r2   -530.966134 -716.932406 -397.819217 -749.336943  \n",
       "mse     2.756913    2.752878    2.752845    2.751828  \n",
       "mae     1.258663    1.258493    1.256814    1.258003  \n",
       "mape   58.337910  164.800973  419.896850  184.350525  "
      ]
     },
     "execution_count": 69,
     "metadata": {},
     "output_type": "execute_result"
    }
   ],
   "source": [
    "pd.DataFrame(results_metrics_MLP)"
   ]
  },
  {
   "cell_type": "code",
   "execution_count": 87,
   "metadata": {},
   "outputs": [],
   "source": [
    "best_MLP = get_best_model(\"mse\", results_metrics_MLP)\n",
    "pred_best_MLP = predict_mlp(best_MLP)"
   ]
  },
  {
   "cell_type": "code",
   "execution_count": 88,
   "metadata": {},
   "outputs": [
    {
     "name": "stdout",
     "output_type": "stream",
     "text": [
      "MLP - model Results\n",
      "r2 -326.82671831290696\n",
      "mse 2.7461394358455347\n",
      "mae 1.2557426773660698\n",
      "mape 46.46818540801019\n"
     ]
    },
    {
     "data": {
      "text/plain": [
       "{'r2': -326.82671831290696,\n",
       " 'mse': 2.7461394358455347,\n",
       " 'mae': 1.2557426773660698,\n",
       " 'mape': 46.46818540801019}"
      ]
     },
     "execution_count": 88,
     "metadata": {},
     "output_type": "execute_result"
    }
   ],
   "source": [
    "show_metrics(y_test_d1,pred_best_MLP, results, 'MLP')"
   ]
  },
  {
   "cell_type": "code",
   "execution_count": 89,
   "metadata": {},
   "outputs": [
    {
     "data": {
      "text/plain": [
       "<AxesSubplot:>"
      ]
     },
     "execution_count": 89,
     "metadata": {},
     "output_type": "execute_result"
    },
    {
     "data": {
      "image/png": "[encoded data removed]",
      "text/plain": [
       "<Figure size 432x288 with 1 Axes>"
      ]
     },
     "metadata": {
      "needs_background": "light"
     },
     "output_type": "display_data"
    }
   ],
   "source": [
    "pd.concat([pd.Series(pred_best_MLP, name='pred'), y_test_d1.reset_index(drop=True)],axis=1).plot()"
   ]
  },
  {
   "cell_type": "code",
   "execution_count": 90,
   "metadata": {},
   "outputs": [
    {
     "data": {
      "image/png": "[encoded data removed]",
      "text/plain": [
       "<Figure size 432x288 with 1 Axes>"
      ]
     },
     "metadata": {
      "needs_background": "light"
     },
     "output_type": "display_data"
    }
   ],
   "source": [
    "# graf_ajuste(pd.Series(pred_best_MLP).cumsum(), y_test_d1.reset_index(drop=True).cumsum(), 'Delhi Temperatue - MLP')"
   ]
  },
  {
   "cell_type": "code",
   "execution_count": 91,
   "metadata": {},
   "outputs": [
    {
     "data": {
      "image/png": "[encoded data removed]",
      "text/plain": [
       "<Figure size 432x288 with 1 Axes>"
      ]
     },
     "metadata": {
      "needs_background": "light"
     },
     "output_type": "display_data"
    }
   ],
   "source": [
    "# pred_one = y_test.shift(1).reset_index(drop=True).add(pd.Series(pred_best_MLP, name='temperature'),axis=0)\n",
    "# graf_ajuste(pred_one, y_test.reset_index(drop=True), 'Delhi Temperature - KNN')"
   ]
  },
  {
   "cell_type": "code",
   "execution_count": 92,
   "metadata": {},
   "outputs": [],
   "source": [
    "# pred_one = pred_one.fillna(method='bfill')\n",
    "# show_metrics(y_test[:-1],pred_one[:-1] , results, 'MLP pred_one')"
   ]
  },
  {
   "cell_type": "markdown",
   "metadata": {},
   "source": [
    "# Dúvidas\n",
    "\n",
    "- Pela metodologia Box and Jenkins podemos usar o AUTO ARIMA ou devemos testar na mão diferentes ARIMAS?\n",
    "\n",
    "- Como devemos fazer a previsao do ARIMA? Atualmente, estamos utilizando forecast e colocando o tamanho do conjunto de observações do teste, é isso mesmo?\n",
    "\n",
    "- O modelo que acreditamos que era melhor não bateu com o do auto-arima e agora?\n",
    "\n",
    "- Nossa predição do ARIMA tá bem estranha, ficou uma linha. Achamos estranho, pois nossa série parece bem comportada.\n",
    "\n",
    "- Para fazer a validação com 10 repetições no GridSearch, fizemos uso de n_splits = 10 dentro de TimeSeriesSplit, é isso mesmo? -> Se for isso, como vamos dividir em 25% de validação? \n",
    "\n",
    "- Devemos fazer essa mesma metodologia de n_splits = 10 na MLP? Porque parece bem trabalhoso, pois não sabemos como o pytorch faria isso, devemos escrever o código? "
   ]
  }
 ],
 "metadata": {
  "interpreter": {
   "hash": "578d23e9265697bad3ff07bcff4c72684a1087c3ecac6cf42decc0cb53b76ed7"
  },
  "kernelspec": {
   "display_name": "Python 3.9.7 ('data_science')",
   "language": "python",
   "name": "python3"
  },
  "language_info": {
   "codemirror_mode": {
    "name": "ipython",
    "version": 3
   },
   "file_extension": ".py",
   "mimetype": "text/x-python",
   "name": "python",
   "nbconvert_exporter": "python",
   "pygments_lexer": "ipython3",
   "version": "3.9.7"
  },
  "orig_nbformat": 4
 },
 "nbformat": 4,
 "nbformat_minor": 2
}
