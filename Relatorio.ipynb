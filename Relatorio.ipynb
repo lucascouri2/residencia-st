{
 "cells": [
  {
   "cell_type": "markdown",
   "metadata": {},
   "source": [
    "# Projeto - Séries Temporais\n",
    "## Residência em Ciência de Dados - SAMSUNG/UFPE\n",
    "\n",
    "### Alunos:\n",
    "- Lucas Couri (lncc2)\n",
    "- Mariama Oliveira (mcso)"
   ]
  },
  {
   "cell_type": "markdown",
   "metadata": {},
   "source": [
    "# Bibliotecas"
   ]
  },
  {
   "cell_type": "code",
   "execution_count": 1,
   "metadata": {},
   "outputs": [],
   "source": [
    "#import statsmodels.api as sm\n",
    "import statsmodels.tsa.api as tsa\n",
    "#from statsmodels.tsa.ar_model import AutoReg\n",
    "from statsmodels.tsa.arima.model import ARIMA\n",
    "from statsmodels.graphics.tsaplots import plot_acf, plot_pacf\n",
    "from sklearn.metrics import mean_absolute_error, mean_absolute_percentage_error, mean_squared_error, r2_score\n",
    "# import pmdarima as pm\n",
    "import pandas as pd\n",
    "import numpy as np\n",
    "import matplotlib.pyplot as plt\n",
    "import warnings\n",
    "warnings.filterwarnings(\"ignore\", category=Warning)\n",
    "#import matplotlib as mpl\n",
    "#import seaborn as sns\n",
    "from sklearn.model_selection import cross_val_score, train_test_split\n",
    "from sklearn.model_selection import GridSearchCV, TimeSeriesSplit\n",
    "from sklearn.model_selection import learning_curve\n",
    "from sklearn.neighbors import KNeighborsRegressor\n",
    "\n",
    "#mpl.rcParams['figure.figsize'] = [10, 5]\n",
    "\n",
    "results = {}"
   ]
  },
  {
   "cell_type": "markdown",
   "metadata": {},
   "source": [
    "Utilizamos o dataset disponível no Kaggle sobre as temperaturas médias em Delhi (https://www.kaggle.com/datasets/mahirkukreja/delhi-weather-data). O dataset já era dividido em train e test, portanto, juntamos os dois datasets para depois separar em train e test da forma desejada."
   ]
  },
  {
   "cell_type": "code",
   "execution_count": 2,
   "metadata": {},
   "outputs": [],
   "source": [
    "#https://www.kaggle.com/datasets/mahirkukreja/delhi-weather-data\n",
    "df = pd.read_csv(\"temp_delhi.csv\")"
   ]
  },
  {
   "cell_type": "code",
   "execution_count": 3,
   "metadata": {},
   "outputs": [],
   "source": [
    "df = df[[\"date\", \"meantemp\"]]\n",
    "df['date'] = pd.to_datetime(df['date'], format='%m/%d/%Y')\n",
    "df.set_index(df['date'], inplace=True) \n",
    "df = df.drop('date', 1)\n"
   ]
  },
  {
   "cell_type": "code",
   "execution_count": null,
   "metadata": {},
   "outputs": [],
   "source": [
    "df.shape"
   ]
  },
  {
   "cell_type": "code",
   "execution_count": null,
   "metadata": {},
   "outputs": [],
   "source": [
    "df.tail()"
   ]
  },
  {
   "cell_type": "markdown",
   "metadata": {},
   "source": [
    "Separando dados em treino, teste e validação. Vale notar que para os modelos lineares utilizaremos apenas treino (75%) e teste (25%), enquanto que para os modelos de machine learning utilizaremos treino (50%), validação (25%) e teste (25%)."
   ]
  },
  {
   "cell_type": "code",
   "execution_count": null,
   "metadata": {},
   "outputs": [],
   "source": [
    "df_train = df.iloc[:int(len(df) * 0.75)]\n",
    "df_test = df.iloc[int(len(df) * 0.75):]\n",
    "\n",
    "#df_train2 = df.iloc[:int(len(df) * 0.5)]\n",
    "#df_valid2 = df.iloc[int(len(df) * 0.5):int(len(df) * 0.75)]\n",
    "#df_test2 = df.iloc[int(len(df) * 0.75):]"
   ]
  },
  {
   "cell_type": "markdown",
   "metadata": {},
   "source": [
    "#### Funções de apoio"
   ]
  },
  {
   "cell_type": "markdown",
   "metadata": {},
   "source": [
    "Algumas funções construídas para exibir e salvar as métricas de cada modelo e plotar os gráficos de ajuste e predição."
   ]
  },
  {
   "cell_type": "code",
   "execution_count": 4,
   "metadata": {},
   "outputs": [],
   "source": [
    "def show_metrics(y_test,prediction, results, name):\n",
    "    print(f'{name} - model Results')\n",
    "    print('r2' , r2_score(prediction, y_test))\n",
    "    print('mse' ,mean_squared_error(prediction, y_test))\n",
    "    print('mae', mean_absolute_error(prediction, y_test))\n",
    "    print('mape', mean_absolute_percentage_error(prediction, y_test))\n",
    "    metrics = {'r2':r2_score(prediction, y_test), \\\n",
    "                    'mse': mean_squared_error(prediction, y_test), \n",
    "                    'mae': mean_absolute_error(prediction, y_test),\n",
    "                    'mape': mean_absolute_percentage_error(prediction, y_test)}\n",
    "    results[name] = metrics\n",
    "    return metrics\n",
    "    \n",
    "\n",
    "def graf_ajuste(pred, train, titulo):\n",
    "    #Previsão do treino\n",
    "    fig, ax = plt.subplots()\n",
    "    ax.plot(pred, label='pred')\n",
    "    ax.plot(train, label='true')\n",
    "    plt.title(titulo)\n",
    "    plt.legend()\n",
    "\n",
    "def graf_pred(fc, train, test, titulo, SVR=False):\n",
    "    \n",
    "    fc_series = pd.Series(fc, index=test.index[1:])\n",
    "\n",
    "    #if(SVR==True):\n",
    "    #    fc = fitted\n",
    "    #    fc_series = pd.Series(fc, index=test.index[1:])\n",
    "    #else:\n",
    "        #fitted2 = fitted.apply(test)\n",
    "        #fc = fitted2.predict(start='2016-03-28', end='2017-04-24')  # 95% conf\n",
    "        #fc_series = pd.Series(fc, index=test.index)\n",
    "\n",
    "    # Plot\n",
    "    #plt.figure(figsize=(12,5), dpi=100)\n",
    "    plt.plot(train, label='Treino')\n",
    "    plt.plot(test, label='Teste')\n",
    "    plt.plot(fc_series, label='Predição')\n",
    "    plt.title(titulo)\n",
    "    plt.legend(loc='upper left', fontsize=8)\n",
    "    plt.show()"
   ]
  },
  {
   "cell_type": "markdown",
   "metadata": {},
   "source": [
    "## Plot"
   ]
  },
  {
   "cell_type": "markdown",
   "metadata": {},
   "source": [
    "Plotando a série temporal da temperatura média de Delhi"
   ]
  },
  {
   "cell_type": "code",
   "execution_count": null,
   "metadata": {},
   "outputs": [],
   "source": [
    "df.plot()\n",
    "plt.title(\"Temperatura Média - Delhi\")\n",
    "plt.xlabel(\"Data\")\n",
    "plt.ylabel(\"Temperatura\")\n",
    "plt.rcParams[\"figure.figsize\"] = (15,10)\n",
    "plt.show()"
   ]
  },
  {
   "cell_type": "markdown",
   "metadata": {},
   "source": [
    "## Decomposição"
   ]
  },
  {
   "cell_type": "markdown",
   "metadata": {},
   "source": [
    "Através da decomposição verificamos que há tendência e sazonalidade, portanto a série não deve ser estacionária, vamos verificar a seguir."
   ]
  },
  {
   "cell_type": "code",
   "execution_count": null,
   "metadata": {},
   "outputs": [],
   "source": [
    "from pylab import rcParams\n",
    "rcParams['figure.figsize'] = 6, 4\n",
    "df_decomp = tsa.seasonal_decompose(df, period=365)\n",
    "df_decomp.plot()"
   ]
  },
  {
   "cell_type": "markdown",
   "metadata": {},
   "source": [
    "## Autocorrelação e Estacionariedade"
   ]
  },
  {
   "cell_type": "markdown",
   "metadata": {},
   "source": [
    "Como a função de auto correlação abaixo não decai  para zero, suspeitamos de que a série não seja estacionária. Vamos verificar a seguir por meio de um teste de hipótese."
   ]
  },
  {
   "cell_type": "code",
   "execution_count": null,
   "metadata": {},
   "outputs": [],
   "source": [
    "plot_acf(df)"
   ]
  },
  {
   "cell_type": "code",
   "execution_count": null,
   "metadata": {},
   "outputs": [],
   "source": [
    "plot_pacf(df)"
   ]
  },
  {
   "cell_type": "markdown",
   "metadata": {},
   "source": [
    "Considerando um nível de confiança de 0,05 verificamos que o teste de Dickey-Fuller nos leva a não rejeitar a hipótese nula de não estacionariedade, visto que o p-valor = 0,149 (>0,05). Portanto, temos evidências que a série não é estacionária."
   ]
  },
  {
   "cell_type": "code",
   "execution_count": null,
   "metadata": {},
   "outputs": [],
   "source": [
    "test, pvalue, lags, obs, critic, ic = tsa.stattools.adfuller(df)\n",
    "print(pvalue)\n",
    "print(lags)"
   ]
  },
  {
   "cell_type": "markdown",
   "metadata": {},
   "source": [
    "## Diferenciação"
   ]
  },
  {
   "cell_type": "code",
   "execution_count": null,
   "metadata": {},
   "outputs": [],
   "source": [
    "df.diff().plot()\n",
    "plt.title(\"Série diferenciada\")\n",
    "plt.xlabel(\"Data\")\n",
    "plt.ylabel(\"Temperatura\")\n",
    "plt.rcParams[\"figure.figsize\"] = (15,10)\n",
    "plt.show()"
   ]
  },
  {
   "cell_type": "markdown",
   "metadata": {},
   "source": [
    "Após diferenciar a série aparenta ser estacionária, vamos verificar com o teste de Dickey-Fuller."
   ]
  },
  {
   "cell_type": "code",
   "execution_count": null,
   "metadata": {},
   "outputs": [],
   "source": [
    "df.diff().plot.hist()\n",
    "plt.title(\"Histograma da série diferenciada\")\n",
    "plt.ylabel(\"Frequência\")\n",
    "plt.rcParams[\"figure.figsize\"] = (15,10)\n",
    "plt.show()"
   ]
  },
  {
   "cell_type": "code",
   "execution_count": null,
   "metadata": {},
   "outputs": [],
   "source": [
    "dfd1 = df.diff().dropna()"
   ]
  },
  {
   "cell_type": "markdown",
   "metadata": {},
   "source": [
    "Como o p-valor<0,05 então decidimos rejeitar a hipótese nula de não estacionariedade à um nível de confiança de 0,05. Portanto, após diferenciar uma vez a série temos evidências para acreditar que a série se tornou estacionária."
   ]
  },
  {
   "cell_type": "code",
   "execution_count": null,
   "metadata": {},
   "outputs": [],
   "source": [
    "test, pvalue, lags, obs, critic, ic = tsa.stattools.adfuller(dfd1)\n",
    "print(pvalue)\n",
    "print(lags)"
   ]
  },
  {
   "cell_type": "markdown",
   "metadata": {},
   "source": [
    "## Autocorrelação da série diferenciada"
   ]
  },
  {
   "cell_type": "markdown",
   "metadata": {},
   "source": [
    "### Correlação"
   ]
  },
  {
   "cell_type": "markdown",
   "metadata": {},
   "source": [
    "Correlação com série diferenciada"
   ]
  },
  {
   "cell_type": "code",
   "execution_count": null,
   "metadata": {},
   "outputs": [],
   "source": [
    "dfd1.corrwith(dfd1.shift(1))"
   ]
  },
  {
   "cell_type": "code",
   "execution_count": null,
   "metadata": {},
   "outputs": [],
   "source": [
    "plot_acf(dfd1)"
   ]
  },
  {
   "cell_type": "markdown",
   "metadata": {},
   "source": [
    "Verificamos a partir do comportamento da função de autocorrelação acima que os lags são significantes até o lag 3, e a partir dele se tornam não significativos. "
   ]
  },
  {
   "cell_type": "markdown",
   "metadata": {},
   "source": [
    "## Autocorrelação Parcial"
   ]
  },
  {
   "cell_type": "markdown",
   "metadata": {},
   "source": [
    "Correlação Parcial com série diferenciada"
   ]
  },
  {
   "cell_type": "code",
   "execution_count": null,
   "metadata": {},
   "outputs": [],
   "source": [
    "plot_pacf(dfd1)"
   ]
  },
  {
   "cell_type": "markdown",
   "metadata": {},
   "source": [
    "Verificamos a partir da função de autocorrelação parcial acima que a partir do lag5 os lags se tornam não significativos. Analisando de forma mais conservadora é possível argumentar que o lag5 está bem próximo do limite."
   ]
  },
  {
   "cell_type": "markdown",
   "metadata": {},
   "source": [
    "### ARIMA"
   ]
  },
  {
   "cell_type": "code",
   "execution_count": null,
   "metadata": {},
   "outputs": [],
   "source": [
    "df_train.index = pd.DatetimeIndex(df_train.index.values, freq=df_train.index.inferred_freq)\n",
    "#df_train.head()"
   ]
  },
  {
   "cell_type": "markdown",
   "metadata": {},
   "source": [
    "Função para realizar o ajuste dos modelos ARIMA"
   ]
  },
  {
   "cell_type": "code",
   "execution_count": null,
   "metadata": {},
   "outputs": [],
   "source": [
    "def perform_arima(p,d,q,data):\n",
    "    arima_model = ARIMA(data, order=(p,d,q))\n",
    "    res_arima = arima_model.fit()\n",
    "    print(res_arima.summary())\n",
    "    res_arima.plot_diagnostics()\n",
    "    return res_arima\n"
   ]
  },
  {
   "cell_type": "markdown",
   "metadata": {},
   "source": [
    "#### ARIMA (5,1,3)"
   ]
  },
  {
   "cell_type": "markdown",
   "metadata": {},
   "source": [
    "A partir da analise dos gráficos da função de autocorrelação e autocorrelação parcial decidimos ajustar um ARIMA (5,1,3) visto que a série se torna estacionária após uma diferenciação, há decaimento após lag 3 do gráfico de autocorrelação e também há um corte após o lag 5 do gráfico de autocorrelação parcial."
   ]
  },
  {
   "cell_type": "code",
   "execution_count": null,
   "metadata": {},
   "outputs": [],
   "source": [
    "res_arima_1 = perform_arima(5,1,3,df_train)"
   ]
  },
  {
   "cell_type": "code",
   "execution_count": null,
   "metadata": {},
   "outputs": [],
   "source": [
    "res_arima_1_test = res_arima_1.apply(df_test)\n",
    "fc = res_arima_1_test.predict(start='2016-03-28', end='2017-04-24')\n",
    "graf_pred(fc, df_train, df_test, 'Delhi - ARIMA (5,1,3) - Predição')"
   ]
  },
  {
   "cell_type": "code",
   "execution_count": null,
   "metadata": {},
   "outputs": [],
   "source": [
    "show_metrics(df_test[1:], fc, results, 'ARIMA(5,1,3)')"
   ]
  },
  {
   "cell_type": "markdown",
   "metadata": {},
   "source": [
    "A partir do diagnóstico verificamos que os resíduos aparentam ser ruído branco (como deve ser em um bom ajuste)."
   ]
  },
  {
   "cell_type": "markdown",
   "metadata": {},
   "source": [
    "#### ARIMA (4,1,3)"
   ]
  },
  {
   "cell_type": "markdown",
   "metadata": {},
   "source": [
    "Também decidimos testar o ARIMA (4,1,3) visto que, com um olhar mais conservador, o corte na função de autocorrelação parcial pode ser visto como no lag 4."
   ]
  },
  {
   "cell_type": "code",
   "execution_count": null,
   "metadata": {},
   "outputs": [],
   "source": [
    "res_arima_2 = perform_arima(4,1,3,df_train)"
   ]
  },
  {
   "cell_type": "markdown",
   "metadata": {},
   "source": [
    "A partir do diagnóstico verificamos que os resíduos aparentam ser ruído branco (como deve ser em um bom ajuste)."
   ]
  },
  {
   "cell_type": "code",
   "execution_count": null,
   "metadata": {},
   "outputs": [],
   "source": [
    "graf_ajuste(res_arima_2.predict(), df_train, 'Delhi - ARIMA (4,1,3) - Treino')"
   ]
  },
  {
   "cell_type": "code",
   "execution_count": null,
   "metadata": {},
   "outputs": [],
   "source": [
    "res_arima_2_test = res_arima_2.apply(df_test)\n",
    "fc = res_arima_2_test.predict(start='2016-03-28', end='2017-04-24')\n",
    "graf_pred(fc, df_train, df_test, 'Delhi - ARIMA (4,1,3) - Predição')"
   ]
  },
  {
   "cell_type": "code",
   "execution_count": null,
   "metadata": {},
   "outputs": [],
   "source": [
    "show_metrics(df_test[1:], fc, results, 'ARIMA(4,1,3)')"
   ]
  },
  {
   "cell_type": "markdown",
   "metadata": {},
   "source": [
    "#### ARIMA (0,1,3)"
   ]
  },
  {
   "cell_type": "markdown",
   "metadata": {},
   "source": [
    "Como o comportamento da funções de autocorrelação e autocorrelação parcial em algumas partes não foi tão claro, sem um decaímento exponencial muito evidente, decidimos também avaliar a hipótese de que há o corte brusco na função de autocorrelação, configurando um MA(3), dessa forma avaliamos o modelo ARIMA(0,1,3)."
   ]
  },
  {
   "cell_type": "code",
   "execution_count": null,
   "metadata": {},
   "outputs": [],
   "source": [
    "res_arima_3 = perform_arima(0,1,3,df_train)"
   ]
  },
  {
   "cell_type": "markdown",
   "metadata": {},
   "source": [
    "A partir do diagnóstico verificamos que os resíduos aparentam ser ruído branco (como deve ser em um bom ajuste)."
   ]
  },
  {
   "cell_type": "code",
   "execution_count": null,
   "metadata": {},
   "outputs": [],
   "source": [
    "res_arima_3_test = res_arima_3.apply(df_test)\n",
    "fc = res_arima_3_test.predict(start='2016-03-28', end='2017-04-24')\n",
    "graf_pred(fc, df_train, df_test, 'Delhi - ARIMA (0,1,3) - Predição')"
   ]
  },
  {
   "cell_type": "code",
   "execution_count": null,
   "metadata": {},
   "outputs": [],
   "source": [
    "show_metrics(df_test[1:], fc, results, 'ARIMA(0,1,3)')"
   ]
  },
  {
   "cell_type": "markdown",
   "metadata": {},
   "source": [
    "### Auto ARIMA"
   ]
  },
  {
   "cell_type": "code",
   "execution_count": null,
   "metadata": {},
   "outputs": [],
   "source": [
    "auto_arima = pm.auto_arima(df_train, max_ar=10, max_ma=5, max_d=2, seasonal=False, trace=True, stepwise=True) #verificar forcar estacionario"
   ]
  },
  {
   "cell_type": "markdown",
   "metadata": {},
   "source": [
    "O Auto ARIMA nos informa que, dentre os modelos testados, o ARIMA (2,0,1) é o modelo com o menor AIC (Critério de Informação de Akaike)"
   ]
  },
  {
   "cell_type": "code",
   "execution_count": null,
   "metadata": {},
   "outputs": [],
   "source": [
    "auto_arima.summary()"
   ]
  },
  {
   "cell_type": "code",
   "execution_count": null,
   "metadata": {},
   "outputs": [],
   "source": [
    "auto_arima.plot_diagnostics()"
   ]
  },
  {
   "cell_type": "markdown",
   "metadata": {},
   "source": [
    "A partir do diagnóstico verificamos que os resíduos aparentam ser ruído branco (como deve ser em um bom ajuste)."
   ]
  },
  {
   "cell_type": "markdown",
   "metadata": {},
   "source": [
    "Plotando ajuste do modelo aos dados de treino"
   ]
  },
  {
   "cell_type": "code",
   "execution_count": null,
   "metadata": {},
   "outputs": [],
   "source": [
    "graf_ajuste(auto_arima.predict_in_sample(), df_train.values, 'Delhi - Auto ARIMA(2,0,1) - Treino')"
   ]
  },
  {
   "cell_type": "markdown",
   "metadata": {},
   "source": [
    "Plotando Treino, teste e predição"
   ]
  },
  {
   "cell_type": "code",
   "execution_count": null,
   "metadata": {},
   "outputs": [],
   "source": [
    "auto_model = ARIMA(df_train, order=(2, 0, 1))  \n",
    "res_arima_4 = auto_model.fit()\n",
    "res_arima_4_test = res_arima_4.apply(df_test)\n",
    "fc = res_arima_4_test.predict(start='2016-03-28', end='2017-04-24')\n",
    "graf_pred(fc, df_train, df_test, 'Delhi - ARIMA (2,0,1) - Predição')"
   ]
  },
  {
   "cell_type": "code",
   "execution_count": null,
   "metadata": {},
   "outputs": [],
   "source": [
    "show_metrics(df_test[1:], fc, results, 'ARIMA(2,0,1)')"
   ]
  },
  {
   "cell_type": "markdown",
   "metadata": {},
   "source": [
    "## Machine Learning"
   ]
  },
  {
   "cell_type": "markdown",
   "metadata": {},
   "source": [
    "Foram gerados modelos utilizando três métodos de ML (KNN, SVR e MLP). Espera-se que com estes métodos seja possível capturar também relações não lineares existentes na série."
   ]
  },
  {
   "cell_type": "markdown",
   "metadata": {},
   "source": [
    "### Feature Engineering"
   ]
  },
  {
   "cell_type": "markdown",
   "metadata": {},
   "source": [
    "Primeiramente, foi necessário realizar feature engineering no dados da série a fim de criar features relevantes para os modelos.\n",
    "\n",
    "Foi utilizada a função **get_lags**, a qual cria features que correspodem a atrasos da série temporal. O número de atrasos  pode ser determinado a partir da análise do correlograma utilizando a quantidade de lags correlacionados."
   ]
  },
  {
   "cell_type": "code",
   "execution_count": 7,
   "metadata": {},
   "outputs": [],
   "source": [
    "#time travel\n",
    "def get_lags(series, lags):\n",
    "  result = []\n",
    "  if lags > 0:\n",
    "    for lag in range(1, lags+1):\n",
    "    #  print(lag)\n",
    "    #  print(series.shift(lag))\n",
    "      result.append(series.shift(lag).rename({series.columns[0]: series.columns[0]+'-'+str(lag)}, axis=1))\n",
    "    #return result\n",
    "    return pd.concat(result, axis=1, names=list(range(-1,-lags))).dropna()\n",
    "  else:\n",
    "    for lag in range(-1, lags-1,-1):\n",
    "      #print(lag)\n",
    "      #print(series.shift(lag))\n",
    "      result.append(series.shift(lag).rename({series.columns[0]: series.columns[0]+'+'+str(abs(lag))}, axis=1))\n",
    "    #return result\n",
    "    return pd.concat(result, axis=1, names=list(range(+1,-lags))).dropna()"
   ]
  },
  {
   "cell_type": "markdown",
   "metadata": {},
   "source": [
    "Decidimos utilizar o número de lags 5, assim foram criadas 5 novas features com os atrasos para a série."
   ]
  },
  {
   "cell_type": "code",
   "execution_count": 8,
   "metadata": {},
   "outputs": [
    {
     "data": {
      "text/html": [
       "<div>\n",
       "<style scoped>\n",
       "    .dataframe tbody tr th:only-of-type {\n",
       "        vertical-align: middle;\n",
       "    }\n",
       "\n",
       "    .dataframe tbody tr th {\n",
       "        vertical-align: top;\n",
       "    }\n",
       "\n",
       "    .dataframe thead th {\n",
       "        text-align: right;\n",
       "    }\n",
       "</style>\n",
       "<table border=\"1\" class=\"dataframe\">\n",
       "  <thead>\n",
       "    <tr style=\"text-align: right;\">\n",
       "      <th></th>\n",
       "      <th>meantemp-1</th>\n",
       "      <th>meantemp-2</th>\n",
       "      <th>meantemp-3</th>\n",
       "    </tr>\n",
       "    <tr>\n",
       "      <th>date</th>\n",
       "      <th></th>\n",
       "      <th></th>\n",
       "      <th></th>\n",
       "    </tr>\n",
       "  </thead>\n",
       "  <tbody>\n",
       "    <tr>\n",
       "      <th>2013-01-04</th>\n",
       "      <td>7.166667</td>\n",
       "      <td>7.400000</td>\n",
       "      <td>10.000000</td>\n",
       "    </tr>\n",
       "    <tr>\n",
       "      <th>2013-01-05</th>\n",
       "      <td>8.666667</td>\n",
       "      <td>7.166667</td>\n",
       "      <td>7.400000</td>\n",
       "    </tr>\n",
       "    <tr>\n",
       "      <th>2013-01-06</th>\n",
       "      <td>6.000000</td>\n",
       "      <td>8.666667</td>\n",
       "      <td>7.166667</td>\n",
       "    </tr>\n",
       "    <tr>\n",
       "      <th>2013-01-07</th>\n",
       "      <td>7.000000</td>\n",
       "      <td>6.000000</td>\n",
       "      <td>8.666667</td>\n",
       "    </tr>\n",
       "    <tr>\n",
       "      <th>2013-01-08</th>\n",
       "      <td>7.000000</td>\n",
       "      <td>7.000000</td>\n",
       "      <td>6.000000</td>\n",
       "    </tr>\n",
       "  </tbody>\n",
       "</table>\n",
       "</div>"
      ],
      "text/plain": [
       "            meantemp-1  meantemp-2  meantemp-3\n",
       "date                                          \n",
       "2013-01-04    7.166667    7.400000   10.000000\n",
       "2013-01-05    8.666667    7.166667    7.400000\n",
       "2013-01-06    6.000000    8.666667    7.166667\n",
       "2013-01-07    7.000000    6.000000    8.666667\n",
       "2013-01-08    7.000000    7.000000    6.000000"
      ]
     },
     "execution_count": 8,
     "metadata": {},
     "output_type": "execute_result"
    }
   ],
   "source": [
    "X = get_lags(df, 3)\n",
    "X.head()"
   ]
  },
  {
   "cell_type": "code",
   "execution_count": 10,
   "metadata": {},
   "outputs": [
    {
     "data": {
      "text/html": [
       "<div>\n",
       "<style scoped>\n",
       "    .dataframe tbody tr th:only-of-type {\n",
       "        vertical-align: middle;\n",
       "    }\n",
       "\n",
       "    .dataframe tbody tr th {\n",
       "        vertical-align: top;\n",
       "    }\n",
       "\n",
       "    .dataframe thead th {\n",
       "        text-align: right;\n",
       "    }\n",
       "</style>\n",
       "<table border=\"1\" class=\"dataframe\">\n",
       "  <thead>\n",
       "    <tr style=\"text-align: right;\">\n",
       "      <th></th>\n",
       "      <th>meantemp</th>\n",
       "    </tr>\n",
       "    <tr>\n",
       "      <th>date</th>\n",
       "      <th></th>\n",
       "    </tr>\n",
       "  </thead>\n",
       "  <tbody>\n",
       "    <tr>\n",
       "      <th>2013-01-04</th>\n",
       "      <td>8.666667</td>\n",
       "    </tr>\n",
       "    <tr>\n",
       "      <th>2013-01-05</th>\n",
       "      <td>6.000000</td>\n",
       "    </tr>\n",
       "    <tr>\n",
       "      <th>2013-01-06</th>\n",
       "      <td>7.000000</td>\n",
       "    </tr>\n",
       "    <tr>\n",
       "      <th>2013-01-07</th>\n",
       "      <td>7.000000</td>\n",
       "    </tr>\n",
       "    <tr>\n",
       "      <th>2013-01-08</th>\n",
       "      <td>8.857143</td>\n",
       "    </tr>\n",
       "  </tbody>\n",
       "</table>\n",
       "</div>"
      ],
      "text/plain": [
       "            meantemp\n",
       "date                \n",
       "2013-01-04  8.666667\n",
       "2013-01-05  6.000000\n",
       "2013-01-06  7.000000\n",
       "2013-01-07  7.000000\n",
       "2013-01-08  8.857143"
      ]
     },
     "execution_count": 10,
     "metadata": {},
     "output_type": "execute_result"
    }
   ],
   "source": [
    "y = df.reindex(X.index)\n",
    "y.head()"
   ]
  },
  {
   "cell_type": "markdown",
   "metadata": {},
   "source": [
    "### Separando os dados"
   ]
  },
  {
   "cell_type": "markdown",
   "metadata": {},
   "source": [
    "Os dados foram separados em treino e teste, para serem utilizado no GridSearch. Como o ScikitLearn separa os dados de validação, o conjunto de teste abaixo já contém o conjunto de validação."
   ]
  },
  {
   "cell_type": "code",
   "execution_count": null,
   "metadata": {},
   "outputs": [],
   "source": [
    "X_train, X_test, y_train, y_test = train_test_split(X, y, shuffle=False, test_size=.25)"
   ]
  },
  {
   "cell_type": "markdown",
   "metadata": {},
   "source": [
    "### KNN"
   ]
  },
  {
   "cell_type": "markdown",
   "metadata": {},
   "source": [
    "Utilizamos o GridSearch para encontrar os melhores parâmetros para o KNN. Foram utilizados dois hiperâmetros: o número de vizinhos(n_neighbors) e o peso (weights). "
   ]
  },
  {
   "cell_type": "code",
   "execution_count": null,
   "metadata": {},
   "outputs": [],
   "source": [
    "#Definindo hiperpâmetros de busca do GridSearch\n",
    "parameters = {'n_neighbors':range(1,20), 'weights':[\"uniform\", \"distance\"]}\n",
    "for p in parameters.items():\n",
    "  print(p)"
   ]
  },
  {
   "cell_type": "code",
   "execution_count": null,
   "metadata": {},
   "outputs": [],
   "source": [
    "knn = KNeighborsRegressor()\n",
    "knnGS = GridSearchCV(knn, parameters, scoring='neg_mean_absolute_percentage_error', cv=TimeSeriesSplit(n_splits=2, test_size=round(len(df)*0.25)))\n",
    "res = knnGS.fit(X_train, y_train)\n",
    "print(res.best_score_)\n",
    "print(res.best_params_)"
   ]
  },
  {
   "cell_type": "markdown",
   "metadata": {},
   "source": [
    "Métricas"
   ]
  },
  {
   "cell_type": "code",
   "execution_count": null,
   "metadata": {},
   "outputs": [],
   "source": [
    "prediction = res.predict(X_test)\n",
    "show_metrics(y_test, prediction, results, 'KNN GS')"
   ]
  },
  {
   "cell_type": "code",
   "execution_count": null,
   "metadata": {},
   "outputs": [],
   "source": [
    "graf_ajuste(prediction, y_test.reset_index(drop=True), 'Delhi Temperature - KNN GS MODEL')\n"
   ]
  },
  {
   "cell_type": "code",
   "execution_count": null,
   "metadata": {},
   "outputs": [],
   "source": [
    "def graf_pred(fitted, train, test, titulo, SVR=False):\n",
    "    \n",
    "    if(SVR==True):\n",
    "        fc = fitted\n",
    "        fc_series = pd.Series(fc, index=test.index[1:])\n",
    "    else:\n",
    "        fc = fitted.forecast(394, alpha=0.05)  # 95% conf\n",
    "        fc_series = pd.Series(fc, index=test.index)\n",
    "\n",
    "    # Plot\n",
    "    #plt.figure(figsize=(12,5), dpi=100)\n",
    "    plt.plot(train, label='Treino')\n",
    "    plt.plot(test, label='Teste')\n",
    "    plt.plot(fc_series, label='Predição')\n",
    "    plt.title(titulo)\n",
    "    plt.legend(loc='upper left', fontsize=8)\n",
    "    plt.show()"
   ]
  },
  {
   "cell_type": "code",
   "execution_count": null,
   "metadata": {},
   "outputs": [],
   "source": [
    "residuos = prediction.flatten() - y_test.reset_index(drop=True).values.flatten()\n",
    "pd.Series(residuos).plot()"
   ]
  },
  {
   "cell_type": "code",
   "execution_count": null,
   "metadata": {},
   "outputs": [],
   "source": [
    "pd.Series(residuos).plot.kde()"
   ]
  },
  {
   "cell_type": "code",
   "execution_count": null,
   "metadata": {},
   "outputs": [],
   "source": [
    "plot_acf(residuos)"
   ]
  },
  {
   "cell_type": "markdown",
   "metadata": {},
   "source": [
    "Acima verificamos que o modelo se ajustou bem aos valores reais de acordo com as métricas. No entanto, abaixo foi feito o KNN com a série diferenciada a fim de verificar se há possibilidade de conseguir melhores valores. "
   ]
  },
  {
   "cell_type": "markdown",
   "metadata": {},
   "source": [
    "#### KNN com série difenciada"
   ]
  },
  {
   "cell_type": "code",
   "execution_count": null,
   "metadata": {},
   "outputs": [],
   "source": [
    "#Diferenciando\n",
    "X_train_d1 = X_train.diff().dropna()\n",
    "X_test_d1 = X_test.diff().dropna()\n",
    "y_train_d1 = y_train.diff().dropna()\n",
    "y_test_d1 = y_test.diff().dropna()"
   ]
  },
  {
   "cell_type": "code",
   "execution_count": null,
   "metadata": {},
   "outputs": [],
   "source": [
    "res_diff = knnGS.fit(X_train_d1, y_train_d1)\n",
    "print(res_diff.best_score_)\n",
    "print(res_diff.best_params_)"
   ]
  },
  {
   "cell_type": "code",
   "execution_count": null,
   "metadata": {},
   "outputs": [],
   "source": [
    "prediction_diff = res_diff.predict(X_test_d1)\n",
    "show_metrics(y_test_d1, prediction_diff, results, 'd1 KNN GS')"
   ]
  },
  {
   "cell_type": "code",
   "execution_count": null,
   "metadata": {},
   "outputs": [],
   "source": [
    "graf_ajuste(pd.Series(prediction_diff.flatten()), y_test_d1.reset_index(drop=True), 'Delhi - KNN diff')"
   ]
  },
  {
   "cell_type": "markdown",
   "metadata": {},
   "source": [
    "One step \n"
   ]
  },
  {
   "cell_type": "code",
   "execution_count": null,
   "metadata": {},
   "outputs": [],
   "source": [
    "graf_ajuste(pd.Series(prediction_diff.flatten()).cumsum(), y_test_d1.reset_index(drop=True).cumsum(), 'Delhi - KNN')"
   ]
  },
  {
   "cell_type": "markdown",
   "metadata": {},
   "source": [
    "Como o gráfico apresentou pouco ajuste ao valor real, decidimos utilizar o valor real para ajustar a predição. "
   ]
  },
  {
   "cell_type": "code",
   "execution_count": null,
   "metadata": {},
   "outputs": [],
   "source": [
    "pred_one = y_test.shift(1).reset_index(drop=True).add(pd.Series(prediction_diff.flatten(), name='temperature'),axis=0)\n",
    "graf_ajuste(pred_one, y_test.reset_index(drop=True), 'Delhi Temperature - KNN')"
   ]
  },
  {
   "cell_type": "code",
   "execution_count": null,
   "metadata": {},
   "outputs": [],
   "source": [
    "show_metrics(y_test.iloc[1:-1], pred_one.iloc[1:-1], results, 'pred one KNN GS')"
   ]
  },
  {
   "cell_type": "code",
   "execution_count": null,
   "metadata": {},
   "outputs": [],
   "source": [
    "residuos = prediction_diff.flatten() - y_test_d1.reset_index(drop=True).values.flatten()"
   ]
  },
  {
   "cell_type": "code",
   "execution_count": null,
   "metadata": {},
   "outputs": [],
   "source": [
    "pd.Series(residuos).plot()"
   ]
  },
  {
   "cell_type": "code",
   "execution_count": null,
   "metadata": {},
   "outputs": [],
   "source": [
    "pd.Series(residuos).plot.kde()"
   ]
  },
  {
   "cell_type": "code",
   "execution_count": null,
   "metadata": {},
   "outputs": [],
   "source": [
    "plot_acf(residuos)"
   ]
  },
  {
   "cell_type": "markdown",
   "metadata": {},
   "source": [
    "Ao final do experimento com o KNN, verificamos que foi possível obter melhores resultados com a série diferenciada. No entanto, foi necessário a utilização de valores reais para o ajuste da tendência da série."
   ]
  },
  {
   "cell_type": "markdown",
   "metadata": {},
   "source": [
    "### Support Vector Regression"
   ]
  },
  {
   "cell_type": "markdown",
   "metadata": {},
   "source": [
    "Aqui utilizaremos o Support Vector Regression, primeiro vamos ajustar um modelo simples e depois tentar melhorar os parâmetros com o uso do GridSearch."
   ]
  },
  {
   "cell_type": "code",
   "execution_count": null,
   "metadata": {},
   "outputs": [],
   "source": [
    "from sklearn.svm import SVR\n",
    "\n",
    "regr = SVR(C=1.0, epsilon=0.2, kernel='linear')\n",
    "\n",
    "regr.fit(X_train, y_train)"
   ]
  },
  {
   "cell_type": "code",
   "execution_count": null,
   "metadata": {},
   "outputs": [],
   "source": [
    "forecast = regr.predict(X_test)\n",
    "show_metrics(y_test, forecast, results, 'SVR')"
   ]
  },
  {
   "cell_type": "code",
   "execution_count": null,
   "metadata": {},
   "outputs": [],
   "source": [
    "graf_ajuste(regr.predict(X_test), y_test.reset_index(drop=True), 'Delhi - SVR')"
   ]
  },
  {
   "cell_type": "code",
   "execution_count": null,
   "metadata": {},
   "outputs": [],
   "source": [
    "graf_pred(regr.predict(X_test), df_train, df_test, 'Delhi - SVR', SVR=True)"
   ]
  },
  {
   "cell_type": "markdown",
   "metadata": {},
   "source": [
    "Verificamos que o modelo ajustou muito bem aos dados e fez predições do conjunto de teste muito próximas dos valores reais, como podemos verificar nos gráficos acima e nas métricas de avaliação."
   ]
  },
  {
   "cell_type": "markdown",
   "metadata": {},
   "source": [
    "#### Grid Search"
   ]
  },
  {
   "cell_type": "markdown",
   "metadata": {},
   "source": [
    "Agora vamos utilizar o GridSearch para explorar diferentes parâmetros e do SVR e encontrar os melhores."
   ]
  },
  {
   "cell_type": "code",
   "execution_count": null,
   "metadata": {},
   "outputs": [],
   "source": [
    "parameters = {'kernel':['linear','rbf', 'sigmoid', 'polynomial'], \n",
    "              'C':np.linspace(0.05, 10, 20),\n",
    "              'gamma':np.linspace(.1, 10, 3),\n",
    "              'coef0':np.linspace(.01, 10, 3),\n",
    "              'degree':np.arange(2, 3)\n",
    "              }\n",
    "\n",
    "for p in parameters.items():\n",
    "  print(p)"
   ]
  },
  {
   "cell_type": "code",
   "execution_count": null,
   "metadata": {},
   "outputs": [],
   "source": [
    "regr2 = SVR()\n",
    "regrGS = GridSearchCV(regr2, parameters, scoring='neg_mean_absolute_percentage_error', cv=TimeSeriesSplit(n_splits=2, test_size=round(len(df)*0.25)))"
   ]
  },
  {
   "cell_type": "code",
   "execution_count": null,
   "metadata": {},
   "outputs": [],
   "source": [
    "res = regrGS.fit(X_train, y_train)"
   ]
  },
  {
   "cell_type": "markdown",
   "metadata": {},
   "source": [
    "Após executar o GridSearch obtivemos como melhor score e parâmetros:"
   ]
  },
  {
   "cell_type": "code",
   "execution_count": null,
   "metadata": {},
   "outputs": [],
   "source": [
    "print(res.best_score_)\n",
    "print(res.best_params_)\n",
    "#{'C': 7.38157894736842, 'coef0': 0.01, 'degree': 2, 'gamma': 0.1, 'kernel': 'linear'}\n",
    "#18 min"
   ]
  },
  {
   "cell_type": "code",
   "execution_count": null,
   "metadata": {},
   "outputs": [],
   "source": [
    "regr2 = SVR(C=10, kernel='linear')\n",
    "res = regr2.fit(X_train, y_train)"
   ]
  },
  {
   "cell_type": "code",
   "execution_count": null,
   "metadata": {},
   "outputs": [],
   "source": [
    "forecast = regr2.predict(X_test)\n",
    "show_metrics(y_test, forecast, results, 'SVR GS')"
   ]
  },
  {
   "cell_type": "code",
   "execution_count": null,
   "metadata": {},
   "outputs": [],
   "source": [
    "graf_ajuste(res.predict(X_test), y_test.reset_index(drop=True), 'Delhi Temperature - SVR GS MODEL')"
   ]
  },
  {
   "cell_type": "code",
   "execution_count": null,
   "metadata": {},
   "outputs": [],
   "source": [
    "graf_pred(res.predict(X_test), df_train, df_test, 'Delhi - SVR GS', SVR=True)"
   ]
  },
  {
   "cell_type": "code",
   "execution_count": null,
   "metadata": {},
   "outputs": [],
   "source": [
    "residuos = res.predict(X_test).flatten() - y_test.reset_index(drop=True).values.flatten()\n",
    "pd.Series(residuos).plot()"
   ]
  },
  {
   "cell_type": "code",
   "execution_count": null,
   "metadata": {},
   "outputs": [],
   "source": [
    "pd.Series(residuos).plot.kde()"
   ]
  },
  {
   "cell_type": "code",
   "execution_count": null,
   "metadata": {},
   "outputs": [],
   "source": [
    "plot_acf(residuos)"
   ]
  },
  {
   "cell_type": "markdown",
   "metadata": {},
   "source": [
    "Verificando Overfitting"
   ]
  },
  {
   "cell_type": "code",
   "execution_count": null,
   "metadata": {},
   "outputs": [],
   "source": [
    "train_sizes, train_scores, valid_scores = learning_curve(\n",
    "    SVR(kernel='linear'), X, y, train_sizes=[50,100,150,200,250], cv=TimeSeriesSplit())\n",
    "    #SVR(kernel='linear'), X, y, train_sizes=[np.round(np.array(list(range(0.1,1,0.1))) * len(y))], cv=TimeSeriesSplit())"
   ]
  },
  {
   "cell_type": "code",
   "execution_count": null,
   "metadata": {},
   "outputs": [],
   "source": [
    "pd.Series(train_scores.mean(axis=1), index=train_sizes).plot(label='train')\n",
    "pd.Series(valid_scores.mean(axis=1), index=train_sizes).plot(label='val')\n",
    "plt.legend()"
   ]
  },
  {
   "cell_type": "markdown",
   "metadata": {},
   "source": [
    "A partir do gráfico acima não aparenta haver Overfit."
   ]
  },
  {
   "cell_type": "markdown",
   "metadata": {},
   "source": [
    "#### SVR com Serie diferenciada"
   ]
  },
  {
   "cell_type": "code",
   "execution_count": null,
   "metadata": {},
   "outputs": [],
   "source": [
    "regr2 = SVR(C=10, kernel='linear')\n",
    "res = regr2.fit(X_train_d1, y_train_d1)"
   ]
  },
  {
   "cell_type": "code",
   "execution_count": null,
   "metadata": {},
   "outputs": [],
   "source": [
    "forecast_diff = regr2.predict(X_test_d1)\n",
    "show_metrics(y_test_d1, forecast_diff, results, 'SVR d1')"
   ]
  },
  {
   "cell_type": "code",
   "execution_count": null,
   "metadata": {},
   "outputs": [],
   "source": [
    "graf_ajuste(pd.Series(forecast_diff.flatten()), y_test_d1.reset_index(drop=True), 'Delhi - SVR diff')"
   ]
  },
  {
   "cell_type": "code",
   "execution_count": null,
   "metadata": {},
   "outputs": [],
   "source": [
    "graf_ajuste(pd.Series(forecast_diff.flatten()).cumsum(), y_test_d1.reset_index(drop=True).cumsum(), 'Delhi - KNN')"
   ]
  },
  {
   "cell_type": "code",
   "execution_count": null,
   "metadata": {},
   "outputs": [],
   "source": [
    "pred_one_svr = y_test.shift(1).reset_index(drop=True).add(pd.Series(forecast_diff.flatten(), name='temperature'),axis=0)\n",
    "graf_ajuste(pred_one_svr, y_test.reset_index(drop=True), 'Delhi Temperature - KNN')"
   ]
  },
  {
   "cell_type": "code",
   "execution_count": null,
   "metadata": {},
   "outputs": [],
   "source": [
    "show_metrics(y_test.iloc[1:-1], pred_one_svr.iloc[1:-1], results, 'pred one SVR diff')"
   ]
  },
  {
   "cell_type": "code",
   "execution_count": null,
   "metadata": {},
   "outputs": [],
   "source": [
    "residuos = forecast_diff.flatten() - y_test_d1.reset_index(drop=True).values.flatten()\n",
    "pd.Series(residuos).plot()"
   ]
  },
  {
   "cell_type": "code",
   "execution_count": null,
   "metadata": {},
   "outputs": [],
   "source": [
    "pd.Series(residuos).plot.kde()\n"
   ]
  },
  {
   "cell_type": "code",
   "execution_count": null,
   "metadata": {},
   "outputs": [],
   "source": [
    "plot_acf(residuos)"
   ]
  },
  {
   "cell_type": "code",
   "execution_count": null,
   "metadata": {},
   "outputs": [],
   "source": [
    "pd.DataFrame(results)"
   ]
  },
  {
   "cell_type": "markdown",
   "metadata": {},
   "source": [
    "### MLP"
   ]
  },
  {
   "cell_type": "code",
   "execution_count": 5,
   "metadata": {},
   "outputs": [],
   "source": [
    "import torch\n",
    "from torch import nn\n",
    "from torch.utils.data import DataLoader\n",
    "import torch.optim as optim"
   ]
  },
  {
   "cell_type": "markdown",
   "metadata": {},
   "source": [
    "#### Divisão de Dados MLP "
   ]
  },
  {
   "cell_type": "markdown",
   "metadata": {},
   "source": [
    "Antes de tudo, foi realizada a divisão dos dados de treino, teste e validação. Diferentemente dos outros algoritmos de ML, a divisão teve que ser explícita, pois a biblioteca utilizada não divide automaticamente os dados."
   ]
  },
  {
   "cell_type": "code",
   "execution_count": 42,
   "metadata": {},
   "outputs": [],
   "source": [
    "#Separando os dados - 50% treino, 25% validaçao, 25% teste\n",
    "X_train, X_test, y_train, y_test = train_test_split(X, y, shuffle=False, test_size=.25)\n",
    "X_train, X_valid, y_train, y_valid = train_test_split(X_train, y_train, shuffle=False, test_size=.333)\n"
   ]
  },
  {
   "cell_type": "code",
   "execution_count": 12,
   "metadata": {},
   "outputs": [
    {
     "data": {
      "text/plain": [
       "(393, 3)"
      ]
     },
     "execution_count": 12,
     "metadata": {},
     "output_type": "execute_result"
    }
   ],
   "source": [
    "X_valid.shape"
   ]
  },
  {
   "cell_type": "markdown",
   "metadata": {},
   "source": [
    "#### Diferenciação"
   ]
  },
  {
   "cell_type": "markdown",
   "metadata": {},
   "source": [
    "Abaixo é realizada a diferenciação da série, pois realizamos o experimento com ela diferenciada e não diferenciada, a fim de entender se há diferenças na performance do modelo."
   ]
  },
  {
   "cell_type": "code",
   "execution_count": 43,
   "metadata": {},
   "outputs": [],
   "source": [
    "#Diferenciando\n",
    "X_train_d1 = X_train.diff().dropna()\n",
    "X_valid_d1 = X_valid.diff().dropna()\n",
    "X_test_d1 = X_test.diff().dropna()\n",
    "y_train_d1 = y_train.diff().dropna()\n",
    "y_valid_d1 = y_valid.diff().dropna()\n",
    "y_test_d1 = y_test.diff().dropna()"
   ]
  },
  {
   "cell_type": "markdown",
   "metadata": {},
   "source": [
    "#### Normalização"
   ]
  },
  {
   "cell_type": "markdown",
   "metadata": {},
   "source": [
    "A normalização dos valores da série são essenciais para a boa performance do modelo, pois ela possíbilita que a busca pelas regiões que minizam o erro do modelo seja feita de maneira mais eficiente."
   ]
  },
  {
   "cell_type": "code",
   "execution_count": 14,
   "metadata": {},
   "outputs": [],
   "source": [
    "X_train_norm = X_train.sub(X_train.mean()).div(X_train.std())\n",
    "X_valid_norm = X_valid.sub(X_valid.mean()).div(X_valid.std())\n",
    "X_test_norm = X_test.sub(X_train.mean()).div(X_train.std())"
   ]
  },
  {
   "cell_type": "code",
   "execution_count": 44,
   "metadata": {},
   "outputs": [],
   "source": [
    "#Valores diferenciados\n",
    "X_train_d1_norm = X_train_d1.sub(X_train_d1.mean()).div(X_train_d1.std())\n",
    "X_valid_d1_norm = X_valid_d1.sub(X_valid_d1.mean()).div(X_valid_d1.std())\n",
    "X_test_d1_norm = X_test_d1.sub(X_train_d1.mean()).div(X_train_d1.std())"
   ]
  },
  {
   "cell_type": "code",
   "execution_count": 17,
   "metadata": {},
   "outputs": [
    {
     "data": {
      "text/plain": [
       "<AxesSubplot:xlabel='date'>"
      ]
     },
     "execution_count": 17,
     "metadata": {},
     "output_type": "execute_result"
    },
    {
     "data": {
      "image/png": "[encoded data removed]",
      "text/plain": [
       "<Figure size 432x288 with 1 Axes>"
      ]
     },
     "metadata": {
      "needs_background": "light"
     },
     "output_type": "display_data"
    }
   ],
   "source": [
    "X_train_d1_norm['meantemp-1'].plot()"
   ]
  },
  {
   "cell_type": "markdown",
   "metadata": {},
   "source": [
    "#### Batches"
   ]
  },
  {
   "cell_type": "markdown",
   "metadata": {},
   "source": [
    "Abaixo são feita a definição dos batches que alimentam o modelo."
   ]
  },
  {
   "cell_type": "code",
   "execution_count": 18,
   "metadata": {},
   "outputs": [],
   "source": [
    "training_data = torch.tensor(pd.concat([X_train_norm, y_train], axis=1).values)\n",
    "validating_data = torch.tensor(pd.concat([X_valid_norm, y_valid], axis=1).values)\n",
    "testing_data = torch.tensor(pd.concat([X_test_norm, y_test], axis=1).values)\n",
    "\n",
    "train_dataloader = DataLoader(training_data, batch_size=16, shuffle=False)\n",
    "valid_dataloader = DataLoader(validating_data, batch_size=16, shuffle=False)\n",
    "test_dataloader = DataLoader(testing_data, batch_size=16, shuffle=False)"
   ]
  },
  {
   "cell_type": "code",
   "execution_count": 100,
   "metadata": {},
   "outputs": [],
   "source": [
    "training_data = torch.tensor(pd.concat([X_train_d1_norm, y_train_d1], axis=1).values)\n",
    "validating_data = torch.tensor(pd.concat([X_valid_d1_norm, y_valid_d1], axis=1).values)\n",
    "testing_data = torch.tensor(pd.concat([X_test_d1_norm, y_test_d1], axis=1).values)\n",
    "\n",
    "train_dataloader_d1 = DataLoader(training_data, batch_size=16, shuffle=False)\n",
    "valid_dataloader_d1 = DataLoader(validating_data, batch_size=16, shuffle=False)\n",
    "test_dataloader_d1 = DataLoader(testing_data, batch_size=16, shuffle=False)"
   ]
  },
  {
   "cell_type": "markdown",
   "metadata": {},
   "source": [
    "#### Modelo MLP\n",
    "\n",
    "A classe MLP abaixo define como será a arquitetura da MLP. Durante o experimento, foram testadas diferentes configuração com a intenção de entender o impacto na performance do modelo."
   ]
  },
  {
   "cell_type": "code",
   "execution_count": 119,
   "metadata": {},
   "outputs": [],
   "source": [
    "n_lags = 3\n",
    "\n",
    "class MLP(nn.Module):\n",
    "  def __init__(self):\n",
    "    super().__init__()\n",
    "    \n",
    "    #Config 1\n",
    "    # self.fc1 = nn.Linear(n_lags,100)\n",
    "    # self.fc3 = nn.Linear(100,1)\n",
    "    \n",
    "    #Config 2\n",
    "    # self.fc1 = nn.Linear(n_lags,32)\n",
    "    # self.fc2 = nn.Linear(32,64)\n",
    "    # self.fc3 = nn.Linear(64,1)\n",
    "     \n",
    "    # #Config 3\n",
    "    self.config3 = nn.Sequential(\n",
    "            nn.Linear(n_lags,32),\n",
    "            # nn.BatchNorm1d(32), \n",
    "            nn.ReLU(),\n",
    "            nn.Linear(32, 64),\n",
    "            # nn.BatchNorm1d(64),\n",
    "            nn.ReLU(),\n",
    "            nn.Linear(64, 1)\n",
    "    )\n",
    "  \n",
    "  def forward(self, X):\n",
    "    out = self.config3(X)\n",
    "    return out"
   ]
  },
  {
   "cell_type": "markdown",
   "metadata": {},
   "source": [
    "#### Funções de treinamento\n",
    "\n",
    "Abaixo estão as funções que possibilitam que o treinamento do MLP seja realizada diversas vezes, uma vez que serão gerados 10 modelo diferentes."
   ]
  },
  {
   "cell_type": "code",
   "execution_count": 153,
   "metadata": {},
   "outputs": [],
   "source": [
    "def train_mlp(model, train_dataloader, valid_dataloader):\n",
    "\n",
    "  epochs = 300\n",
    "  loss_fn = nn.MSELoss()\n",
    "  #optimizer = optim.RMSprop(multi_neuron.parameters(), lr=0.001)\n",
    "  optimizer = optim.SGD(model.parameters(), lr=0.01, weight_decay= 0.005)\n",
    "  \n",
    "  history_train = {}\n",
    "  history_valid = {}\n",
    "  \n",
    "  for epoch in range(1, epochs+1):\n",
    "    loss_train = 0.0\n",
    "    for train_data in train_dataloader:\n",
    "      x = train_data[:,:n_lags].float()\n",
    "      y = train_data[:,n_lags].float()\n",
    "      # print(\"X: \",x)\n",
    "      # print(\"y: \",y)\n",
    "    \n",
    "      #forward pass\n",
    "      outputs = model(x)\n",
    "      # print(\"outputs: \", outputs)\n",
    "\n",
    "      #loss measure\n",
    "      loss = loss_fn(outputs,y)\n",
    "      # print(\"Loss: \", loss)\n",
    "\n",
    "      #backward pass\n",
    "      optimizer.zero_grad() # pára o autograd\n",
    "      loss.backward() # executa o backpropagation\n",
    "      optimizer.step() # atualiza os pesos\n",
    "\n",
    "      loss_train += loss.item() # soma os erros para obter o erro total\n",
    "\n",
    "    loss_valid = 0.0\n",
    "    for valid_data in valid_dataloader:    \n",
    "      x = valid_data[:,:n_lags].float()\n",
    "      y = valid_data[:,n_lags].float()   \n",
    "      #forward pass\n",
    "      target = model(x)\n",
    "      #loss measure\n",
    "      loss = loss_fn(outputs,y)\n",
    "      # Calculate Loss\n",
    "      loss_valid += loss.item()\n",
    "\n",
    "\n",
    "    if (epoch % 10 == 0):\n",
    "      print('Epoch{}, train loss {}'.format(epoch, loss_train / len(train_dataloader)))\n",
    "      print('Epoch{}, valid loss {}'.format(epoch, loss_valid / len(valid_dataloader))) # apresenta o erro médio da época\n",
    "    history_train[epoch] = loss_train / len(train_dataloader)\n",
    "    history_valid[epoch] = loss_valid / len(valid_dataloader)\n",
    "\n",
    "  # pd.Series(history_train).plot()\n",
    "  # pd.Series(history_valid).plot()\n",
    "  \n",
    "  return model\n",
    "\n",
    "\n",
    "def predict_mlp(model, test_dataloader):\n",
    "    model.eval()\n",
    "    results_MLP = []\n",
    "    for test_data in test_dataloader:\n",
    "        x = test_data[:,:n_lags].float()\n",
    "        y = test_data[:,n_lags].float()\n",
    "        \n",
    "        y_pred = model(x)\n",
    "        results_MLP.extend(y_pred.flatten().detach().numpy())\n",
    "        \n",
    "    return results_MLP\n",
    "#pd.DataFrame(results).plot()\n",
    "# results_MLP[:10]\n",
    "\n",
    "\n",
    "def get_best_model(metric_name, all_metrics, arr_models):    \n",
    "    model_metrics = min(all_metrics.keys(), key=(lambda new_k: all_metrics[new_k][metric_name]))\n",
    "    index_best = model_metrics[-1] \n",
    "    return arr_models[int(index_best)]\n",
    "  \n",
    "  \n",
    "def generate_models(train_dataloader, valid_dataloader, y_test, test_dataloader):\n",
    "    mlp_models = []\n",
    "    results_metrics_MLP = {}\n",
    "\n",
    "    for i in range(10):\n",
    "        print(f\"Modelo {i}\")\n",
    "        multi_neuron = MLP()\n",
    "        \n",
    "        train_mlp(multi_neuron, train_dataloader, valid_dataloader)\n",
    "        mlp_models.append(multi_neuron)\n",
    "        results_MLP = predict_mlp(multi_neuron, test_dataloader)\n",
    "        \n",
    "        show_metrics(y_test,results_MLP, results_metrics_MLP, f'MLP{i}')\n",
    "        \n",
    "    return mlp_models, results_metrics_MLP"
   ]
  },
  {
   "cell_type": "markdown",
   "metadata": {},
   "source": [
    "#### Treinando MLP\n",
    "\n",
    "Esta função é responsável pelo pipeline da experimento da MLP, nela serão executadas 10 vezes o treinamento e teste dos modelos."
   ]
  },
  {
   "cell_type": "code",
   "execution_count": 111,
   "metadata": {},
   "outputs": [
    {
     "name": "stdout",
     "output_type": "stream",
     "text": [
      "Modelo 0\n",
      "Epoch10, train loss 17.23599435210228\n",
      "Epoch10, valid loss 99.17112963676453\n",
      "Epoch20, train loss 17.897266688346864\n",
      "Epoch20, valid loss 95.46045413970947\n",
      "Epoch30, train loss 18.523538296222686\n",
      "Epoch30, valid loss 89.93712965011596\n",
      "Epoch40, train loss 20.081370613574983\n",
      "Epoch40, valid loss 89.4074863243103\n",
      "Epoch50, train loss 20.48174132823944\n",
      "Epoch50, valid loss 82.44524808883666\n",
      "Epoch60, train loss 21.40625650167465\n",
      "Epoch60, valid loss 79.60527378082276\n",
      "Epoch70, train loss 22.483389649391174\n",
      "Epoch70, valid loss 74.2244485282898\n",
      "Epoch80, train loss 23.025656287670135\n",
      "Epoch80, valid loss 68.90154123306274\n",
      "Epoch90, train loss 23.90421047925949\n",
      "Epoch90, valid loss 64.80440177917481\n",
      "Epoch100, train loss 24.03084638595581\n",
      "Epoch100, valid loss 60.56732194900513\n",
      "Epoch110, train loss 25.05059030532837\n",
      "Epoch110, valid loss 63.86535224914551\n",
      "Epoch120, train loss 27.437176322937013\n",
      "Epoch120, valid loss 75.08838306427002\n",
      "Epoch130, train loss 28.262382018566132\n",
      "Epoch130, valid loss 64.20195922851562\n",
      "Epoch140, train loss 29.61582065105438\n",
      "Epoch140, valid loss 58.222267150878906\n",
      "Epoch150, train loss 30.251153306961058\n",
      "Epoch150, valid loss 55.00773503303528\n",
      "Epoch160, train loss 33.02029179096222\n",
      "Epoch160, valid loss 63.201481084823605\n",
      "Epoch170, train loss 31.369748449325563\n",
      "Epoch170, valid loss 57.69390522003174\n",
      "Epoch180, train loss 27.791670794487\n",
      "Epoch180, valid loss 60.7986887550354\n",
      "Epoch190, train loss 25.061032280921935\n",
      "Epoch190, valid loss 63.13389793395996\n",
      "Epoch200, train loss 22.9540651845932\n",
      "Epoch200, valid loss 62.82105302810669\n",
      "Epoch210, train loss 22.406098928451538\n",
      "Epoch210, valid loss 61.377898893356324\n",
      "Epoch220, train loss 20.531124053001403\n",
      "Epoch220, valid loss 73.9425343132019\n",
      "Epoch230, train loss 20.086240978240966\n",
      "Epoch230, valid loss 77.21161527633667\n",
      "Epoch240, train loss 18.913109722137452\n",
      "Epoch240, valid loss 82.58794376373291\n",
      "Epoch250, train loss 18.613318133354188\n",
      "Epoch250, valid loss 90.42172729492188\n",
      "Epoch260, train loss 17.061407647132874\n",
      "Epoch260, valid loss 81.8487455368042\n",
      "Epoch270, train loss 17.21440409183502\n",
      "Epoch270, valid loss 96.29258716583251\n",
      "Epoch280, train loss 17.338488516807555\n",
      "Epoch280, valid loss 89.0240986251831\n",
      "Epoch290, train loss 17.214930801391603\n",
      "Epoch290, valid loss 81.70756256103516\n",
      "Epoch300, train loss 15.951666731834411\n",
      "Epoch300, valid loss 80.9634107208252\n",
      "MLP0 - model Results\n",
      "r2 0.5105674883439049\n",
      "mse 37.85862278437581\n",
      "mae 5.068068572921388\n",
      "mape 0.27783695109509216\n",
      "Modelo 1\n",
      "Epoch10, train loss 17.323480238914488\n",
      "Epoch10, valid loss 102.81996932029725\n",
      "Epoch20, train loss 18.00946178436279\n",
      "Epoch20, valid loss 100.81503928184509\n",
      "Epoch30, train loss 18.731265935897827\n",
      "Epoch30, valid loss 94.6909603881836\n",
      "Epoch40, train loss 19.22004238009453\n",
      "Epoch40, valid loss 88.4826941204071\n",
      "Epoch50, train loss 20.065389730930328\n",
      "Epoch50, valid loss 85.00684017181396\n",
      "Epoch60, train loss 20.717437205314635\n",
      "Epoch60, valid loss 80.60030737876892\n",
      "Epoch70, train loss 21.504655244350435\n",
      "Epoch70, valid loss 77.23179176330567\n",
      "Epoch80, train loss 22.099022259712218\n",
      "Epoch80, valid loss 73.67917755126953\n",
      "Epoch90, train loss 23.073269736766814\n",
      "Epoch90, valid loss 72.9052144241333\n",
      "Epoch100, train loss 23.4539319896698\n",
      "Epoch100, valid loss 66.7555648803711\n",
      "Epoch110, train loss 24.29448253393173\n",
      "Epoch110, valid loss 66.03908536911011\n",
      "Epoch120, train loss 25.20908396244049\n",
      "Epoch120, valid loss 63.00531547546387\n",
      "Epoch130, train loss 25.48563986301422\n",
      "Epoch130, valid loss 61.89493773460388\n",
      "Epoch140, train loss 25.79040084838867\n",
      "Epoch140, valid loss 60.3185908985138\n",
      "Epoch150, train loss 25.581355075836182\n",
      "Epoch150, valid loss 58.673096837997434\n",
      "Epoch160, train loss 25.39636028289795\n",
      "Epoch160, valid loss 57.415534477233884\n",
      "Epoch170, train loss 25.12796811580658\n",
      "Epoch170, valid loss 64.15199703216553\n",
      "Epoch180, train loss 24.889796476364136\n",
      "Epoch180, valid loss 62.35646270751953\n",
      "Epoch190, train loss 25.228131980895995\n",
      "Epoch190, valid loss 67.14301031112672\n",
      "Epoch200, train loss 24.87203887939453\n",
      "Epoch200, valid loss 60.934035530090334\n",
      "Epoch210, train loss 25.28628357410431\n",
      "Epoch210, valid loss 60.970819873809816\n",
      "Epoch220, train loss 25.64833996295929\n",
      "Epoch220, valid loss 60.754866676330565\n",
      "Epoch230, train loss 24.202884821891786\n",
      "Epoch230, valid loss 60.53232137680054\n",
      "Epoch240, train loss 24.521014125347136\n",
      "Epoch240, valid loss 62.225274353027345\n",
      "Epoch250, train loss 23.22209538936615\n",
      "Epoch250, valid loss 65.17433860778809\n",
      "Epoch260, train loss 26.658285570144653\n",
      "Epoch260, valid loss 77.1008865737915\n",
      "Epoch270, train loss 25.715189311504364\n",
      "Epoch270, valid loss 74.07754368782044\n",
      "Epoch280, train loss 24.820756905078888\n",
      "Epoch280, valid loss 72.02658798217773\n",
      "Epoch290, train loss 24.16323267698288\n",
      "Epoch290, valid loss 73.19546051025391\n",
      "Epoch300, train loss 23.877227504253387\n",
      "Epoch300, valid loss 69.6181436920166\n",
      "MLP1 - model Results\n",
      "r2 -0.14287782418641037\n",
      "mse 79.41157225086275\n",
      "mae 6.195902669295141\n",
      "mape 0.23023132426011297\n",
      "Modelo 2\n",
      "Epoch10, train loss 17.75726385831833\n",
      "Epoch10, valid loss 98.47579668045044\n",
      "Epoch20, train loss 18.28409295797348\n",
      "Epoch20, valid loss 94.79944131851197\n",
      "Epoch30, train loss 18.83606575012207\n",
      "Epoch30, valid loss 89.890860080719\n",
      "Epoch40, train loss 19.354072785377504\n",
      "Epoch40, valid loss 85.35653072357178\n",
      "Epoch50, train loss 19.879041998386384\n",
      "Epoch50, valid loss 81.0989438343048\n",
      "Epoch60, train loss 20.9279585814476\n",
      "Epoch60, valid loss 80.00715196609497\n",
      "Epoch70, train loss 21.337744538784026\n",
      "Epoch70, valid loss 73.1038062286377\n",
      "Epoch80, train loss 22.06370834350586\n",
      "Epoch80, valid loss 69.47107929229736\n",
      "Epoch90, train loss 22.428702125549318\n",
      "Epoch90, valid loss 66.73032583236694\n",
      "Epoch100, train loss 23.205211713314057\n",
      "Epoch100, valid loss 64.86530824661254\n",
      "Epoch110, train loss 24.15011112689972\n",
      "Epoch110, valid loss 62.51307548522949\n",
      "Epoch120, train loss 23.977698926925658\n",
      "Epoch120, valid loss 64.94067071914672\n",
      "Epoch130, train loss 24.259251489639283\n",
      "Epoch130, valid loss 66.44135446548462\n",
      "Epoch140, train loss 24.862368018627166\n",
      "Epoch140, valid loss 65.41372165679931\n",
      "Epoch150, train loss 24.476352343559267\n",
      "Epoch150, valid loss 61.52083046913147\n",
      "Epoch160, train loss 24.868458909988405\n",
      "Epoch160, valid loss 62.96133277893066\n",
      "Epoch170, train loss 24.737028388977052\n",
      "Epoch170, valid loss 60.25180042266846\n",
      "Epoch180, train loss 24.44380033493042\n",
      "Epoch180, valid loss 58.93574354171753\n",
      "Epoch190, train loss 24.913106689453127\n",
      "Epoch190, valid loss 57.51085651397705\n",
      "Epoch200, train loss 24.093800868988037\n",
      "Epoch200, valid loss 59.98552310943604\n",
      "Epoch210, train loss 24.25346890449524\n",
      "Epoch210, valid loss 58.41432059288025\n",
      "Epoch220, train loss 23.50270001411438\n",
      "Epoch220, valid loss 60.09621004104614\n",
      "Epoch230, train loss 25.955329146385193\n",
      "Epoch230, valid loss 76.20634593963624\n",
      "Epoch240, train loss 22.339283757209778\n",
      "Epoch240, valid loss 69.14269302368164\n",
      "Epoch250, train loss 20.65644740819931\n",
      "Epoch250, valid loss 69.18206760406494\n",
      "Epoch260, train loss 20.0198876619339\n",
      "Epoch260, valid loss 69.49711650848388\n",
      "Epoch270, train loss 20.12804028272629\n",
      "Epoch270, valid loss 66.87799592018128\n",
      "Epoch280, train loss 19.37443963289261\n",
      "Epoch280, valid loss 67.15328083992004\n",
      "Epoch290, train loss 19.125674376487733\n",
      "Epoch290, valid loss 69.24247816085816\n",
      "Epoch300, train loss 17.650124311447144\n",
      "Epoch300, valid loss 65.37109008789062\n",
      "MLP2 - model Results\n",
      "r2 0.10435560279349232\n",
      "mse 223.11005947487533\n",
      "mae 11.40730598540177\n",
      "mape 0.3665132574632438\n",
      "Modelo 3\n",
      "Epoch10, train loss 17.303542013168336\n",
      "Epoch10, valid loss 102.99306726455688\n",
      "Epoch20, train loss 17.90956456422806\n",
      "Epoch20, valid loss 100.95969635963439\n",
      "Epoch30, train loss 18.471950726509093\n",
      "Epoch30, valid loss 96.1646629524231\n",
      "Epoch40, train loss 19.118808228969574\n",
      "Epoch40, valid loss 91.15419137954711\n",
      "Epoch50, train loss 20.15451301574707\n",
      "Epoch50, valid loss 83.31815476417542\n",
      "Epoch60, train loss 21.10261664867401\n",
      "Epoch60, valid loss 79.67793088912964\n",
      "Epoch70, train loss 21.817387530803682\n",
      "Epoch70, valid loss 75.57743242263794\n",
      "Epoch80, train loss 22.35387256860733\n",
      "Epoch80, valid loss 71.48356758117676\n",
      "Epoch90, train loss 23.07424646615982\n",
      "Epoch90, valid loss 68.33238010406494\n",
      "Epoch100, train loss 23.484856367111206\n",
      "Epoch100, valid loss 66.35060073852539\n",
      "Epoch110, train loss 23.544311075210572\n",
      "Epoch110, valid loss 64.4436033821106\n",
      "Epoch120, train loss 23.346147198677063\n",
      "Epoch120, valid loss 60.719711484909055\n",
      "Epoch130, train loss 23.451124629974366\n",
      "Epoch130, valid loss 61.08776624679565\n",
      "Epoch140, train loss 24.1601016664505\n",
      "Epoch140, valid loss 60.24869649887085\n",
      "Epoch150, train loss 23.944846043586733\n",
      "Epoch150, valid loss 57.74213959693909\n",
      "Epoch160, train loss 23.8438219165802\n",
      "Epoch160, valid loss 60.006611614227296\n",
      "Epoch170, train loss 24.31731993198395\n",
      "Epoch170, valid loss 52.339999237060546\n",
      "Epoch180, train loss 26.764140157699586\n",
      "Epoch180, valid loss 60.204768352508545\n",
      "Epoch190, train loss 24.547797265052797\n",
      "Epoch190, valid loss 59.13074594497681\n",
      "Epoch200, train loss 24.02239860057831\n",
      "Epoch200, valid loss 52.89194746017456\n",
      "Epoch210, train loss 23.852097430229186\n",
      "Epoch210, valid loss 55.460217461586\n",
      "Epoch220, train loss 23.756808347702027\n",
      "Epoch220, valid loss 53.51083775520325\n",
      "Epoch230, train loss 23.410644941329956\n",
      "Epoch230, valid loss 58.05412801742554\n",
      "Epoch240, train loss 23.112648553848267\n",
      "Epoch240, valid loss 60.727075519561765\n",
      "Epoch250, train loss 22.190564894676207\n",
      "Epoch250, valid loss 63.37807891845703\n",
      "Epoch260, train loss 20.950473289489747\n",
      "Epoch260, valid loss 62.61985605239868\n",
      "Epoch270, train loss 20.004730648994446\n",
      "Epoch270, valid loss 63.12380828857422\n",
      "Epoch280, train loss 19.50525795459747\n",
      "Epoch280, valid loss 73.61933259963989\n",
      "Epoch290, train loss 26.202687907218934\n",
      "Epoch290, valid loss 81.38664632797241\n",
      "Epoch300, train loss 25.190242705345153\n",
      "Epoch300, valid loss 70.88532200813293\n",
      "MLP3 - model Results\n",
      "r2 -0.2875648292573765\n",
      "mse 580.9138266896093\n",
      "mae 19.067812104539232\n",
      "mape 0.3886068082170954\n",
      "Modelo 4\n",
      "Epoch10, train loss 17.370076255798338\n",
      "Epoch10, valid loss 100.62663944244385\n",
      "Epoch20, train loss 17.97929089307785\n",
      "Epoch20, valid loss 98.88889792442322\n",
      "Epoch30, train loss 18.621105585098267\n",
      "Epoch30, valid loss 95.57926936149597\n",
      "Epoch40, train loss 19.268368051052093\n",
      "Epoch40, valid loss 89.55650492668151\n",
      "Epoch50, train loss 19.967083716392516\n",
      "Epoch50, valid loss 84.09917452812195\n",
      "Epoch60, train loss 20.678456088304518\n",
      "Epoch60, valid loss 78.51869038581849\n",
      "Epoch70, train loss 21.50542536139488\n",
      "Epoch70, valid loss 74.99182794570923\n",
      "Epoch80, train loss 22.31614880681038\n",
      "Epoch80, valid loss 70.98377489089965\n",
      "Epoch90, train loss 23.155809071063995\n",
      "Epoch90, valid loss 67.45160932540894\n",
      "Epoch100, train loss 24.134808750152587\n",
      "Epoch100, valid loss 66.38872589111328\n",
      "Epoch110, train loss 25.05075909614563\n",
      "Epoch110, valid loss 64.55112878799439\n",
      "Epoch120, train loss 25.683719520568847\n",
      "Epoch120, valid loss 61.152711954116825\n",
      "Epoch130, train loss 26.376884038448335\n",
      "Epoch130, valid loss 60.95766511917114\n",
      "Epoch140, train loss 27.365119473934172\n",
      "Epoch140, valid loss 60.18429529190063\n",
      "Epoch150, train loss 27.384178385734558\n",
      "Epoch150, valid loss 57.37739462852478\n",
      "Epoch160, train loss 27.150597355365754\n",
      "Epoch160, valid loss 57.39376900672912\n",
      "Epoch170, train loss 26.34616235733032\n",
      "Epoch170, valid loss 55.8123349571228\n",
      "Epoch180, train loss 26.064054365158082\n",
      "Epoch180, valid loss 55.24698453426361\n",
      "Epoch190, train loss 29.222510240077973\n",
      "Epoch190, valid loss 64.97639249801635\n",
      "Epoch200, train loss 28.664855313301086\n",
      "Epoch200, valid loss 57.58837100982666\n",
      "Epoch210, train loss 27.71581635475159\n",
      "Epoch210, valid loss 57.88562544822693\n",
      "Epoch220, train loss 26.784232330322265\n",
      "Epoch220, valid loss 58.896596088409424\n",
      "Epoch230, train loss 26.407274694442748\n",
      "Epoch230, valid loss 60.80707605361938\n",
      "Epoch240, train loss 25.62771821975708\n",
      "Epoch240, valid loss 60.20836570739746\n",
      "Epoch250, train loss 24.565020189285278\n",
      "Epoch250, valid loss 57.46041168212891\n",
      "Epoch260, train loss 22.980557990074157\n",
      "Epoch260, valid loss 57.73721570968628\n",
      "Epoch270, train loss 22.627442636489867\n",
      "Epoch270, valid loss 55.158784976005556\n",
      "Epoch280, train loss 22.311143012046813\n",
      "Epoch280, valid loss 59.17409206390381\n",
      "Epoch290, train loss 21.271932978630065\n",
      "Epoch290, valid loss 56.23366858482361\n",
      "Epoch300, train loss 20.37988034725189\n",
      "Epoch300, valid loss 56.51548322677613\n",
      "MLP4 - model Results\n",
      "r2 -0.3623085094299019\n",
      "mse 1621.8123000434366\n",
      "mae 30.164789639074723\n",
      "mape 0.4499696594679918\n",
      "Modelo 5\n",
      "Epoch10, train loss 17.401191782951354\n",
      "Epoch10, valid loss 101.77980613708496\n",
      "Epoch20, train loss 17.87492433309555\n",
      "Epoch20, valid loss 93.15707883834838\n",
      "Epoch30, train loss 18.453247094154356\n",
      "Epoch30, valid loss 88.06923173904418\n",
      "Epoch40, train loss 18.955955967903137\n",
      "Epoch40, valid loss 81.352074842453\n",
      "Epoch50, train loss 19.75097385406494\n",
      "Epoch50, valid loss 76.54651295661927\n",
      "Epoch60, train loss 19.938263330459595\n",
      "Epoch60, valid loss 69.22144115447998\n",
      "Epoch70, train loss 20.33581486940384\n",
      "Epoch70, valid loss 63.14964252471924\n",
      "Epoch80, train loss 20.862267560958863\n",
      "Epoch80, valid loss 60.37664353370666\n",
      "Epoch90, train loss 21.4321311712265\n",
      "Epoch90, valid loss 58.094574298858646\n",
      "Epoch100, train loss 22.338059334754945\n",
      "Epoch100, valid loss 59.84086389541626\n",
      "Epoch110, train loss 22.923872194290162\n",
      "Epoch110, valid loss 57.60290815353394\n",
      "Epoch120, train loss 25.26840164899826\n",
      "Epoch120, valid loss 61.2278265953064\n",
      "Epoch130, train loss 24.296865091323852\n",
      "Epoch130, valid loss 58.636391706466675\n",
      "Epoch140, train loss 24.786095843315124\n",
      "Epoch140, valid loss 60.633668098449704\n",
      "Epoch150, train loss 24.343294501304626\n",
      "Epoch150, valid loss 59.088240509033206\n",
      "Epoch160, train loss 23.88784064769745\n",
      "Epoch160, valid loss 58.52573875427246\n",
      "Epoch170, train loss 24.05664629459381\n",
      "Epoch170, valid loss 56.18671069145203\n",
      "Epoch180, train loss 23.55215615272522\n",
      "Epoch180, valid loss 55.75925184726715\n",
      "Epoch190, train loss 23.17914488315582\n",
      "Epoch190, valid loss 55.9841210603714\n",
      "Epoch200, train loss 23.055250492095947\n",
      "Epoch200, valid loss 55.877570610046384\n",
      "Epoch210, train loss 22.917456798553467\n",
      "Epoch210, valid loss 55.50699699401856\n",
      "Epoch220, train loss 22.130037631988525\n",
      "Epoch220, valid loss 55.4344885635376\n",
      "Epoch230, train loss 22.092170038223266\n",
      "Epoch230, valid loss 52.28290215730667\n",
      "Epoch240, train loss 22.03149585723877\n",
      "Epoch240, valid loss 57.36659568786621\n",
      "Epoch250, train loss 21.1361483669281\n",
      "Epoch250, valid loss 56.183641271591185\n",
      "Epoch260, train loss 21.389719095230102\n",
      "Epoch260, valid loss 55.39564370155335\n",
      "Epoch270, train loss 20.478587718009948\n",
      "Epoch270, valid loss 56.615567235946656\n",
      "Epoch280, train loss 19.613692631721495\n",
      "Epoch280, valid loss 59.31345510482788\n",
      "Epoch290, train loss 18.459168066978453\n",
      "Epoch290, valid loss 59.85096167564392\n",
      "Epoch300, train loss 18.69447322845459\n",
      "Epoch300, valid loss 64.28383150100709\n",
      "MLP5 - model Results\n",
      "r2 -0.45405378059270096\n",
      "mse 2304.969056681082\n",
      "mae 36.56214834025202\n",
      "mape 0.6055655329150226\n",
      "Modelo 6\n",
      "Epoch10, train loss 17.566644892692565\n",
      "Epoch10, valid loss 96.91087470054626\n",
      "Epoch20, train loss 18.263589606285095\n",
      "Epoch20, valid loss 92.96772549629212\n",
      "Epoch30, train loss 18.962541003227233\n",
      "Epoch30, valid loss 87.03468830108642\n",
      "Epoch40, train loss 19.523766322135927\n",
      "Epoch40, valid loss 81.08421323776246\n",
      "Epoch50, train loss 20.272168474197386\n",
      "Epoch50, valid loss 77.53875357627868\n",
      "Epoch60, train loss 20.899543157815934\n",
      "Epoch60, valid loss 73.13226867675782\n",
      "Epoch70, train loss 21.24156360387802\n",
      "Epoch70, valid loss 70.15749053001404\n",
      "Epoch80, train loss 21.762940006256102\n",
      "Epoch80, valid loss 67.50907773971558\n",
      "Epoch90, train loss 22.14906816959381\n",
      "Epoch90, valid loss 65.44020883560181\n",
      "Epoch100, train loss 22.54254938840866\n",
      "Epoch100, valid loss 64.23289434432984\n",
      "Epoch110, train loss 22.74746612548828\n",
      "Epoch110, valid loss 62.50421617507934\n",
      "Epoch120, train loss 22.830964198112486\n",
      "Epoch120, valid loss 61.66781024932861\n",
      "Epoch130, train loss 22.836000962257387\n",
      "Epoch130, valid loss 61.474168891906736\n",
      "Epoch140, train loss 23.08598428726196\n",
      "Epoch140, valid loss 59.75893671989441\n",
      "Epoch150, train loss 22.68497985839844\n",
      "Epoch150, valid loss 59.10229845046997\n",
      "Epoch160, train loss 22.304786314964293\n",
      "Epoch160, valid loss 59.0255108165741\n",
      "Epoch170, train loss 23.28273277759552\n",
      "Epoch170, valid loss 59.14803728103638\n",
      "Epoch180, train loss 22.482087202072144\n",
      "Epoch180, valid loss 58.178479175567624\n",
      "Epoch190, train loss 22.048066053390503\n",
      "Epoch190, valid loss 57.293475246429445\n",
      "Epoch200, train loss 21.84072403907776\n",
      "Epoch200, valid loss 57.04607437133789\n",
      "Epoch210, train loss 21.149428658485412\n",
      "Epoch210, valid loss 57.16099190711975\n",
      "Epoch220, train loss 20.61850145339966\n",
      "Epoch220, valid loss 54.858279104232786\n",
      "Epoch230, train loss 20.344677653312683\n",
      "Epoch230, valid loss 58.04016011238098\n",
      "Epoch240, train loss 21.765869035720826\n",
      "Epoch240, valid loss 58.43070306777954\n",
      "Epoch250, train loss 20.69322881221771\n",
      "Epoch250, valid loss 57.97095466613769\n",
      "Epoch260, train loss 19.44020073890686\n",
      "Epoch260, valid loss 54.312064256668094\n",
      "Epoch270, train loss 19.32794389247894\n",
      "Epoch270, valid loss 58.567232904434206\n",
      "Epoch280, train loss 21.556633541584016\n",
      "Epoch280, valid loss 66.14270225524902\n",
      "Epoch290, train loss 20.325354433059694\n",
      "Epoch290, valid loss 61.58728051185608\n",
      "Epoch300, train loss 19.642187452316286\n",
      "Epoch300, valid loss 60.85210680961609\n",
      "MLP6 - model Results\n",
      "r2 -0.29758349619001256\n",
      "mse 1002.4976324388434\n",
      "mae 23.641743594672185\n",
      "mape 0.43143074208017657\n",
      "Modelo 7\n",
      "Epoch10, train loss 17.25447764635086\n",
      "Epoch10, valid loss 98.78615512847901\n",
      "Epoch20, train loss 17.842118163108825\n",
      "Epoch20, valid loss 96.57368220329285\n",
      "Epoch30, train loss 18.283571486473083\n",
      "Epoch30, valid loss 90.13402545928955\n",
      "Epoch40, train loss 19.2876074886322\n",
      "Epoch40, valid loss 87.60990505218506\n",
      "Epoch50, train loss 19.564988355636597\n",
      "Epoch50, valid loss 82.32612970352173\n",
      "Epoch60, train loss 20.220544695854187\n",
      "Epoch60, valid loss 78.0248085975647\n",
      "Epoch70, train loss 20.84290483236313\n",
      "Epoch70, valid loss 75.0474566078186\n",
      "Epoch80, train loss 21.531899521350862\n",
      "Epoch80, valid loss 71.9184440612793\n",
      "Epoch90, train loss 22.20012323617935\n",
      "Epoch90, valid loss 69.03384292602539\n",
      "Epoch100, train loss 22.64252771139145\n",
      "Epoch100, valid loss 67.01632427215576\n",
      "Epoch110, train loss 23.295317701101304\n",
      "Epoch110, valid loss 62.96416135787964\n",
      "Epoch120, train loss 24.147180535793304\n",
      "Epoch120, valid loss 68.95000579833984\n",
      "Epoch130, train loss 29.99210399389267\n",
      "Epoch130, valid loss 77.20046197891236\n",
      "Epoch140, train loss 25.32037175655365\n",
      "Epoch140, valid loss 62.57983945846558\n",
      "Epoch150, train loss 25.56200417280197\n",
      "Epoch150, valid loss 58.67529770851135\n",
      "Epoch160, train loss 25.59780935764313\n",
      "Epoch160, valid loss 59.50001045227051\n",
      "Epoch170, train loss 25.502497358322145\n",
      "Epoch170, valid loss 59.64705878257752\n",
      "Epoch180, train loss 25.211298632621766\n",
      "Epoch180, valid loss 57.16285737991333\n",
      "Epoch190, train loss 24.924035639762877\n",
      "Epoch190, valid loss 58.55760283470154\n",
      "Epoch200, train loss 24.65025375366211\n",
      "Epoch200, valid loss 63.367774982452396\n",
      "Epoch210, train loss 24.205983352661132\n",
      "Epoch210, valid loss 60.78062868118286\n",
      "Epoch220, train loss 23.8452668094635\n",
      "Epoch220, valid loss 67.52882568359375\n",
      "Epoch230, train loss 23.122323026657103\n",
      "Epoch230, valid loss 67.35532474517822\n",
      "Epoch240, train loss 22.084222440719603\n",
      "Epoch240, valid loss 68.02747848510742\n",
      "Epoch250, train loss 21.081596193313597\n",
      "Epoch250, valid loss 73.76662872314454\n",
      "Epoch260, train loss 20.71766640663147\n",
      "Epoch260, valid loss 64.31232572555543\n",
      "Epoch270, train loss 20.2381352186203\n",
      "Epoch270, valid loss 65.31352001190186\n",
      "Epoch280, train loss 19.784522676467894\n",
      "Epoch280, valid loss 68.38006233215332\n",
      "Epoch290, train loss 18.992293519973757\n",
      "Epoch290, valid loss 65.24944324493408\n",
      "Epoch300, train loss 18.0815407705307\n",
      "Epoch300, valid loss 67.71318541526794\n",
      "MLP7 - model Results\n",
      "r2 -0.08157445097275562\n",
      "mse 285.7518551642171\n",
      "mae 12.761702623471283\n",
      "mape 0.37639371181363085\n",
      "Modelo 8\n",
      "Epoch10, train loss 17.21320482969284\n",
      "Epoch10, valid loss 96.69938360214233\n",
      "Epoch20, train loss 17.790158684253694\n",
      "Epoch20, valid loss 93.12791627883911\n",
      "Epoch30, train loss 18.37563294172287\n",
      "Epoch30, valid loss 88.20874024391175\n",
      "Epoch40, train loss 18.980866258144378\n",
      "Epoch40, valid loss 81.86956484794617\n",
      "Epoch50, train loss 19.57187957048416\n",
      "Epoch50, valid loss 77.82897801399231\n",
      "Epoch60, train loss 20.267653028964997\n",
      "Epoch60, valid loss 73.26333961486816\n",
      "Epoch70, train loss 20.80608101606369\n",
      "Epoch70, valid loss 70.71619258880615\n",
      "Epoch80, train loss 21.493167181015014\n",
      "Epoch80, valid loss 68.04769311904907\n",
      "Epoch90, train loss 22.113090739250183\n",
      "Epoch90, valid loss 66.0672993850708\n",
      "Epoch100, train loss 23.052656481266023\n",
      "Epoch100, valid loss 65.0868190574646\n",
      "Epoch110, train loss 23.177065005302428\n",
      "Epoch110, valid loss 63.20231811523438\n",
      "Epoch120, train loss 23.9740980052948\n",
      "Epoch120, valid loss 61.99834051132202\n",
      "Epoch130, train loss 24.820890550613402\n",
      "Epoch130, valid loss 63.71307888031006\n",
      "Epoch140, train loss 26.172703018188475\n",
      "Epoch140, valid loss 65.52801246643067\n",
      "Epoch150, train loss 28.3121373128891\n",
      "Epoch150, valid loss 65.42565732955933\n",
      "Epoch160, train loss 27.338680367469788\n",
      "Epoch160, valid loss 58.40514108657837\n",
      "Epoch170, train loss 27.259958939552305\n",
      "Epoch170, valid loss 55.100024757385256\n",
      "Epoch180, train loss 27.058044996261597\n",
      "Epoch180, valid loss 55.15327810287476\n",
      "Epoch190, train loss 27.097751927375793\n",
      "Epoch190, valid loss 56.16820114135742\n",
      "Epoch200, train loss 26.54647569179535\n",
      "Epoch200, valid loss 51.379756731987\n",
      "Epoch210, train loss 26.20636024951935\n",
      "Epoch210, valid loss 56.10181782722473\n",
      "Epoch220, train loss 25.192576694488526\n",
      "Epoch220, valid loss 58.338450050354005\n",
      "Epoch230, train loss 23.63232569694519\n",
      "Epoch230, valid loss 60.18530219078064\n",
      "Epoch240, train loss 22.296072702407837\n",
      "Epoch240, valid loss 59.99889499664307\n",
      "Epoch250, train loss 21.79697769641876\n",
      "Epoch250, valid loss 67.51244136810303\n",
      "Epoch260, train loss 21.455002083778382\n",
      "Epoch260, valid loss 62.4819517326355\n",
      "Epoch270, train loss 20.86712206363678\n",
      "Epoch270, valid loss 60.33436337471008\n",
      "Epoch280, train loss 20.278780460357666\n",
      "Epoch280, valid loss 60.575642566680905\n",
      "Epoch290, train loss 19.829644470214845\n",
      "Epoch290, valid loss 72.22695829391479\n",
      "Epoch300, train loss 24.55559672832489\n",
      "Epoch300, valid loss 84.56129190444946\n",
      "MLP8 - model Results\n",
      "r2 -4.4654333338248815\n",
      "mse 191.08613933502224\n",
      "mae 11.951477794994023\n",
      "mape 0.771122307552524\n",
      "Modelo 9\n",
      "Epoch10, train loss 17.389384276866913\n",
      "Epoch10, valid loss 97.42826314926147\n",
      "Epoch20, train loss 17.898703467845916\n",
      "Epoch20, valid loss 92.94801817893982\n",
      "Epoch30, train loss 18.623953042030333\n",
      "Epoch30, valid loss 86.90567596435547\n",
      "Epoch40, train loss 19.27068743944168\n",
      "Epoch40, valid loss 82.60790504455566\n",
      "Epoch50, train loss 19.959880537986756\n",
      "Epoch50, valid loss 79.27197863578796\n",
      "Epoch60, train loss 20.6040567612648\n",
      "Epoch60, valid loss 75.10020097732544\n",
      "Epoch70, train loss 21.30481194972992\n",
      "Epoch70, valid loss 71.24572646141053\n",
      "Epoch80, train loss 22.063857593536376\n",
      "Epoch80, valid loss 68.50401145935058\n",
      "Epoch90, train loss 22.61966922521591\n",
      "Epoch90, valid loss 66.6572907924652\n",
      "Epoch100, train loss 23.29084164619446\n",
      "Epoch100, valid loss 63.01921441078186\n",
      "Epoch110, train loss 23.407892956733704\n",
      "Epoch110, valid loss 59.16283613204956\n",
      "Epoch120, train loss 23.992908658981325\n",
      "Epoch120, valid loss 56.42452865600586\n",
      "Epoch130, train loss 26.452876987457277\n",
      "Epoch130, valid loss 69.92047668457032\n",
      "Epoch140, train loss 26.8847425699234\n",
      "Epoch140, valid loss 60.38737825393677\n",
      "Epoch150, train loss 28.139793782234193\n",
      "Epoch150, valid loss 55.910222911834715\n",
      "Epoch160, train loss 28.913929319381715\n",
      "Epoch160, valid loss 51.8138404750824\n",
      "Epoch170, train loss 29.382019777297973\n",
      "Epoch170, valid loss 50.36467355728149\n",
      "Epoch180, train loss 30.07062271118164\n",
      "Epoch180, valid loss 54.57860256195068\n",
      "Epoch190, train loss 29.625628428459166\n",
      "Epoch190, valid loss 53.842837982177734\n",
      "Epoch200, train loss 29.408165216445923\n",
      "Epoch200, valid loss 52.82262273788452\n",
      "Epoch210, train loss 29.212434239387512\n",
      "Epoch210, valid loss 53.556519498825075\n",
      "Epoch220, train loss 27.8758274269104\n",
      "Epoch220, valid loss 53.11299736022949\n",
      "Epoch230, train loss 27.475552678108215\n",
      "Epoch230, valid loss 52.66691247463226\n",
      "Epoch240, train loss 26.67918950557709\n",
      "Epoch240, valid loss 53.80256901741028\n",
      "Epoch250, train loss 26.32109718322754\n",
      "Epoch250, valid loss 54.0550018787384\n",
      "Epoch260, train loss 25.48222752571106\n",
      "Epoch260, valid loss 55.03031046390534\n",
      "Epoch270, train loss 25.45677661895752\n",
      "Epoch270, valid loss 56.19760372638702\n",
      "Epoch280, train loss 24.873782148361204\n",
      "Epoch280, valid loss 55.1014155292511\n",
      "Epoch290, train loss 26.403261127471925\n",
      "Epoch290, valid loss 58.38590871810913\n",
      "Epoch300, train loss 23.849021830558776\n",
      "Epoch300, valid loss 56.51264654159546\n",
      "MLP9 - model Results\n",
      "r2 0.328615260561412\n",
      "mse 121.45860243296357\n",
      "mae 8.412435618673435\n",
      "mape 0.30546207889807697\n"
     ]
    }
   ],
   "source": [
    "mlp_models, results_metrics_MLP = generate_models(train_dataloader, valid_dataloader, y_test, test_dataloader)"
   ]
  },
  {
   "cell_type": "code",
   "execution_count": 112,
   "metadata": {},
   "outputs": [
    {
     "data": {
      "text/html": [
       "<div>\n",
       "<style scoped>\n",
       "    .dataframe tbody tr th:only-of-type {\n",
       "        vertical-align: middle;\n",
       "    }\n",
       "\n",
       "    .dataframe tbody tr th {\n",
       "        vertical-align: top;\n",
       "    }\n",
       "\n",
       "    .dataframe thead th {\n",
       "        text-align: right;\n",
       "    }\n",
       "</style>\n",
       "<table border=\"1\" class=\"dataframe\">\n",
       "  <thead>\n",
       "    <tr style=\"text-align: right;\">\n",
       "      <th></th>\n",
       "      <th>MLP0</th>\n",
       "      <th>MLP1</th>\n",
       "      <th>MLP2</th>\n",
       "      <th>MLP3</th>\n",
       "      <th>MLP4</th>\n",
       "      <th>MLP5</th>\n",
       "      <th>MLP6</th>\n",
       "      <th>MLP7</th>\n",
       "      <th>MLP8</th>\n",
       "      <th>MLP9</th>\n",
       "    </tr>\n",
       "  </thead>\n",
       "  <tbody>\n",
       "    <tr>\n",
       "      <th>r2</th>\n",
       "      <td>0.510567</td>\n",
       "      <td>-0.142878</td>\n",
       "      <td>0.104356</td>\n",
       "      <td>-0.287565</td>\n",
       "      <td>-0.362309</td>\n",
       "      <td>-0.454054</td>\n",
       "      <td>-0.297583</td>\n",
       "      <td>-0.081574</td>\n",
       "      <td>-4.465433</td>\n",
       "      <td>0.328615</td>\n",
       "    </tr>\n",
       "    <tr>\n",
       "      <th>mse</th>\n",
       "      <td>37.858623</td>\n",
       "      <td>79.411572</td>\n",
       "      <td>223.110059</td>\n",
       "      <td>580.913827</td>\n",
       "      <td>1621.812300</td>\n",
       "      <td>2304.969057</td>\n",
       "      <td>1002.497632</td>\n",
       "      <td>285.751855</td>\n",
       "      <td>191.086139</td>\n",
       "      <td>121.458602</td>\n",
       "    </tr>\n",
       "    <tr>\n",
       "      <th>mae</th>\n",
       "      <td>5.068069</td>\n",
       "      <td>6.195903</td>\n",
       "      <td>11.407306</td>\n",
       "      <td>19.067812</td>\n",
       "      <td>30.164790</td>\n",
       "      <td>36.562148</td>\n",
       "      <td>23.641744</td>\n",
       "      <td>12.761703</td>\n",
       "      <td>11.951478</td>\n",
       "      <td>8.412436</td>\n",
       "    </tr>\n",
       "    <tr>\n",
       "      <th>mape</th>\n",
       "      <td>0.277837</td>\n",
       "      <td>0.230231</td>\n",
       "      <td>0.366513</td>\n",
       "      <td>0.388607</td>\n",
       "      <td>0.449970</td>\n",
       "      <td>0.605566</td>\n",
       "      <td>0.431431</td>\n",
       "      <td>0.376394</td>\n",
       "      <td>0.771122</td>\n",
       "      <td>0.305462</td>\n",
       "    </tr>\n",
       "  </tbody>\n",
       "</table>\n",
       "</div>"
      ],
      "text/plain": [
       "           MLP0       MLP1        MLP2        MLP3         MLP4         MLP5  \\\n",
       "r2     0.510567  -0.142878    0.104356   -0.287565    -0.362309    -0.454054   \n",
       "mse   37.858623  79.411572  223.110059  580.913827  1621.812300  2304.969057   \n",
       "mae    5.068069   6.195903   11.407306   19.067812    30.164790    36.562148   \n",
       "mape   0.277837   0.230231    0.366513    0.388607     0.449970     0.605566   \n",
       "\n",
       "             MLP6        MLP7        MLP8        MLP9  \n",
       "r2      -0.297583   -0.081574   -4.465433    0.328615  \n",
       "mse   1002.497632  285.751855  191.086139  121.458602  \n",
       "mae     23.641744   12.761703   11.951478    8.412436  \n",
       "mape     0.431431    0.376394    0.771122    0.305462  "
      ]
     },
     "execution_count": 112,
     "metadata": {},
     "output_type": "execute_result"
    }
   ],
   "source": [
    "pd.DataFrame(results_metrics_MLP)"
   ]
  },
  {
   "cell_type": "markdown",
   "metadata": {},
   "source": [
    "Abaixo é escolhido melhor modelo e apresentado seus resultados."
   ]
  },
  {
   "cell_type": "code",
   "execution_count": 113,
   "metadata": {},
   "outputs": [],
   "source": [
    "best_MLP = get_best_model(\"mse\", results_metrics_MLP, mlp_models)\n",
    "pred_best_MLP = predict_mlp(best_MLP, test_dataloader)"
   ]
  },
  {
   "cell_type": "code",
   "execution_count": 114,
   "metadata": {},
   "outputs": [
    {
     "name": "stdout",
     "output_type": "stream",
     "text": [
      "MLP - model Results\n",
      "r2 0.5105674883439049\n",
      "mse 37.85862278437581\n",
      "mae 5.068068572921388\n",
      "mape 0.27783695109509216\n"
     ]
    },
    {
     "data": {
      "text/plain": [
       "{'r2': 0.5105674883439049,\n",
       " 'mse': 37.85862278437581,\n",
       " 'mae': 5.068068572921388,\n",
       " 'mape': 0.27783695109509216}"
      ]
     },
     "execution_count": 114,
     "metadata": {},
     "output_type": "execute_result"
    }
   ],
   "source": [
    "show_metrics(y_test,pred_best_MLP, results, 'MLP')"
   ]
  },
  {
   "cell_type": "code",
   "execution_count": 129,
   "metadata": {},
   "outputs": [
    {
     "data": {
      "text/plain": [
       "<AxesSubplot:>"
      ]
     },
     "execution_count": 129,
     "metadata": {},
     "output_type": "execute_result"
    },
    {
     "data": {
      "image/png": "[encoded data removed]",
      "text/plain": [
       "<Figure size 432x288 with 1 Axes>"
      ]
     },
     "metadata": {
      "needs_background": "light"
     },
     "output_type": "display_data"
    }
   ],
   "source": [
    "pd.concat([pd.Series(pred_best_MLP, name='pred'), y_test.reset_index(drop=True)],axis=1).plot()"
   ]
  },
  {
   "cell_type": "markdown",
   "metadata": {},
   "source": [
    "Analise do resíduo"
   ]
  },
  {
   "cell_type": "code",
   "execution_count": 116,
   "metadata": {},
   "outputs": [
    {
     "data": {
      "text/plain": [
       "<AxesSubplot:>"
      ]
     },
     "execution_count": 116,
     "metadata": {},
     "output_type": "execute_result"
    },
    {
     "data": {
      "image/png": "[encoded data removed]",
      "text/plain": [
       "<Figure size 432x288 with 1 Axes>"
      ]
     },
     "metadata": {
      "needs_background": "light"
     },
     "output_type": "display_data"
    }
   ],
   "source": [
    "residuos = pred_best_MLP - y_test.reset_index(drop=True).values.flatten()\n",
    "pd.Series(residuos).plot()"
   ]
  },
  {
   "cell_type": "code",
   "execution_count": 117,
   "metadata": {},
   "outputs": [
    {
     "data": {
      "text/plain": [
       "<AxesSubplot:ylabel='Density'>"
      ]
     },
     "execution_count": 117,
     "metadata": {},
     "output_type": "execute_result"
    },
    {
     "data": {
      "image/png": "[encoded data removed]",
      "text/plain": [
       "<Figure size 432x288 with 1 Axes>"
      ]
     },
     "metadata": {
      "needs_background": "light"
     },
     "output_type": "display_data"
    }
   ],
   "source": [
    "pd.Series(residuos).plot.kde()"
   ]
  },
  {
   "cell_type": "code",
   "execution_count": 97,
   "metadata": {},
   "outputs": [
    {
     "data": {
      "image/png": "[encoded data removed]",
      "text/plain": [
       "<Figure size 432x288 with 1 Axes>"
      ]
     },
     "execution_count": 97,
     "metadata": {},
     "output_type": "execute_result"
    },
    {
     "data": {
      "image/png": "[encoded data removed]",
      "text/plain": [
       "<Figure size 432x288 with 1 Axes>"
      ]
     },
     "metadata": {
      "needs_background": "light"
     },
     "output_type": "display_data"
    }
   ],
   "source": [
    "plot_acf(residuos)"
   ]
  },
  {
   "cell_type": "markdown",
   "metadata": {},
   "source": [
    "#### Com dados diferenciados\n",
    "\n",
    "O mesmo procedimento seguido acima foi realizado com os dados diferenciados."
   ]
  },
  {
   "cell_type": "code",
   "execution_count": 145,
   "metadata": {},
   "outputs": [
    {
     "name": "stdout",
     "output_type": "stream",
     "text": [
      "Modelo 0\n",
      "Epoch10, train loss 2.7262976595759394\n",
      "Epoch10, valid loss 2.9873182237148286\n",
      "Epoch20, train loss 2.7206439024209974\n",
      "Epoch20, valid loss 3.0187134885787965\n",
      "Epoch30, train loss 2.7164350390434264\n",
      "Epoch30, valid loss 3.0523137831687928\n",
      "Epoch40, train loss 2.713265770971775\n",
      "Epoch40, valid loss 3.0895972764492035\n",
      "Epoch50, train loss 2.710348266661167\n",
      "Epoch50, valid loss 3.127895772457123\n",
      "Epoch60, train loss 2.708468684256077\n",
      "Epoch60, valid loss 3.1509017086029054\n",
      "Epoch70, train loss 2.7063591703772545\n",
      "Epoch70, valid loss 3.187039308547974\n",
      "Epoch80, train loss 2.704799258410931\n",
      "Epoch80, valid loss 3.2157712602615356\n",
      "Epoch90, train loss 2.7031557458639144\n",
      "Epoch90, valid loss 3.2455772805213927\n",
      "Epoch100, train loss 2.701724982857704\n",
      "Epoch100, valid loss 3.278091325759888\n",
      "Epoch110, train loss 2.7003493878245353\n",
      "Epoch110, valid loss 3.3049708080291746\n",
      "Epoch120, train loss 2.699560535252094\n",
      "Epoch120, valid loss 3.32078542470932\n",
      "Epoch130, train loss 2.698007118701935\n",
      "Epoch130, valid loss 3.35019508600235\n",
      "Epoch140, train loss 2.696762134730816\n",
      "Epoch140, valid loss 3.3691611170768736\n",
      "Epoch150, train loss 2.6960352981090545\n",
      "Epoch150, valid loss 3.3983509135246277\n",
      "Epoch160, train loss 2.6949523806571962\n",
      "Epoch160, valid loss 3.4218407559394834\n",
      "Epoch170, train loss 2.693581554889679\n",
      "Epoch170, valid loss 3.4555062437057495\n",
      "Epoch180, train loss 2.6929788699746133\n",
      "Epoch180, valid loss 3.4670937705039977\n",
      "Epoch190, train loss 2.692032133638859\n",
      "Epoch190, valid loss 3.4864810156822204\n",
      "Epoch200, train loss 2.6912834316492082\n",
      "Epoch200, valid loss 3.5074529385566713\n",
      "Epoch210, train loss 2.6902336955070494\n",
      "Epoch210, valid loss 3.534275279045105\n",
      "Epoch220, train loss 2.689604312777519\n",
      "Epoch220, valid loss 3.554273262023926\n",
      "Epoch230, train loss 2.688769071996212\n",
      "Epoch230, valid loss 3.5734930205345155\n",
      "Epoch240, train loss 2.688299367725849\n",
      "Epoch240, valid loss 3.5905662679672243\n",
      "Epoch250, train loss 2.6872981542348864\n",
      "Epoch250, valid loss 3.6283961963653564\n",
      "Epoch260, train loss 2.6872005236148833\n",
      "Epoch260, valid loss 3.6426059007644653\n",
      "Epoch270, train loss 2.6858351898193358\n",
      "Epoch270, valid loss 3.678543219566345\n",
      "Epoch280, train loss 2.6851987481117248\n",
      "Epoch280, valid loss 3.6840378618240357\n",
      "Epoch290, train loss 2.6845186188817025\n",
      "Epoch290, valid loss 3.7249081420898436\n",
      "Epoch300, train loss 2.684035614132881\n",
      "Epoch300, valid loss 3.722954897880554\n",
      "MLP0 - model Results\n",
      "r2 -186.62195084879988\n",
      "mse 2.750226543631168\n",
      "mae 1.2559338080002713\n",
      "mape 235.76293215142044\n",
      "Modelo 1\n",
      "Epoch10, train loss 2.7261241963505745\n",
      "Epoch10, valid loss 2.9804908633232117\n",
      "Epoch20, train loss 2.7204731917381286\n",
      "Epoch20, valid loss 3.0064241433143617\n",
      "Epoch30, train loss 2.7156314083933832\n",
      "Epoch30, valid loss 3.0449043035507204\n",
      "Epoch40, train loss 2.7108005183935164\n",
      "Epoch40, valid loss 3.0979027450084686\n",
      "Epoch50, train loss 2.70717471241951\n",
      "Epoch50, valid loss 3.154646496772766\n",
      "Epoch60, train loss 2.704044817388058\n",
      "Epoch60, valid loss 3.2130170917510985\n",
      "Epoch70, train loss 2.7015595111250876\n",
      "Epoch70, valid loss 3.2683721160888672\n",
      "Epoch80, train loss 2.698949344754219\n",
      "Epoch80, valid loss 3.3219004464149475\n",
      "Epoch90, train loss 2.697101417183876\n",
      "Epoch90, valid loss 3.371882371902466\n",
      "Epoch100, train loss 2.6954148569703102\n",
      "Epoch100, valid loss 3.396969759464264\n",
      "Epoch110, train loss 2.693881115913391\n",
      "Epoch110, valid loss 3.4464633798599245\n",
      "Epoch120, train loss 2.6925213184952734\n",
      "Epoch120, valid loss 3.4801110005378724\n",
      "Epoch130, train loss 2.6911678344011305\n",
      "Epoch130, valid loss 3.5364998960494995\n",
      "Epoch140, train loss 2.68991213619709\n",
      "Epoch140, valid loss 3.56328360080719\n",
      "Epoch150, train loss 2.688669639527798\n",
      "Epoch150, valid loss 3.5996619701385497\n",
      "Epoch160, train loss 2.687774935364723\n",
      "Epoch160, valid loss 3.6325946950912478\n",
      "Epoch170, train loss 2.6869796323776245\n",
      "Epoch170, valid loss 3.6545609521865843\n",
      "Epoch180, train loss 2.685614691078663\n",
      "Epoch180, valid loss 3.689840540885925\n",
      "Epoch190, train loss 2.6851748806238174\n",
      "Epoch190, valid loss 3.6986030244827273\n",
      "Epoch200, train loss 2.684528988301754\n",
      "Epoch200, valid loss 3.703487515449524\n",
      "Epoch210, train loss 2.6833671522140503\n",
      "Epoch210, valid loss 3.7857363414764404\n",
      "Epoch220, train loss 2.682978982925415\n",
      "Epoch220, valid loss 3.78743013381958\n",
      "Epoch230, train loss 2.682283251583576\n",
      "Epoch230, valid loss 3.7973072814941404\n",
      "Epoch240, train loss 2.6816751465201376\n",
      "Epoch240, valid loss 3.82001398563385\n",
      "Epoch250, train loss 2.6810202598571777\n",
      "Epoch250, valid loss 3.849914073944092\n",
      "Epoch260, train loss 2.6804207551479338\n",
      "Epoch260, valid loss 3.8818567848205565\n",
      "Epoch270, train loss 2.679539547264576\n",
      "Epoch270, valid loss 3.912695298194885\n",
      "Epoch280, train loss 2.6786364096403124\n",
      "Epoch280, valid loss 3.95507887840271\n",
      "Epoch290, train loss 2.6783030581474305\n",
      "Epoch290, valid loss 3.9295570707321166\n",
      "Epoch300, train loss 2.677404320538044\n",
      "Epoch300, valid loss 4.005301375389099\n",
      "MLP1 - model Results\n",
      "r2 -192.5865559373585\n",
      "mse 2.757110967262493\n",
      "mae 1.2560267599840929\n",
      "mape 72.63053789801378\n",
      "Modelo 2\n",
      "Epoch10, train loss 2.723917520046234\n",
      "Epoch10, valid loss 2.9990652096271515\n",
      "Epoch20, train loss 2.716988855302334\n",
      "Epoch20, valid loss 3.0509323287010193\n",
      "Epoch30, train loss 2.7122481232881546\n",
      "Epoch30, valid loss 3.1055428314208986\n",
      "Epoch40, train loss 2.7080728936195375\n",
      "Epoch40, valid loss 3.165892467498779\n",
      "Epoch50, train loss 2.7051405084133147\n",
      "Epoch50, valid loss 3.2197396111488343\n",
      "Epoch60, train loss 2.7025158366560937\n",
      "Epoch60, valid loss 3.2678831958770753\n",
      "Epoch70, train loss 2.700452361702919\n",
      "Epoch70, valid loss 3.3134813714027405\n",
      "Epoch80, train loss 2.6979329231381417\n",
      "Epoch80, valid loss 3.364152157306671\n",
      "Epoch90, train loss 2.6965344229340555\n",
      "Epoch90, valid loss 3.400400981903076\n",
      "Epoch100, train loss 2.6952166867256167\n",
      "Epoch100, valid loss 3.4369421195983887\n",
      "Epoch110, train loss 2.6939297622442244\n",
      "Epoch110, valid loss 3.4642573952674867\n",
      "Epoch120, train loss 2.6932204765081407\n",
      "Epoch120, valid loss 3.49106009721756\n",
      "Epoch130, train loss 2.6922910165786744\n",
      "Epoch130, valid loss 3.511405973434448\n",
      "Epoch140, train loss 2.6914155411720277\n",
      "Epoch140, valid loss 3.537500216960907\n",
      "Epoch150, train loss 2.690629821717739\n",
      "Epoch150, valid loss 3.556985020637512\n",
      "Epoch160, train loss 2.6898674458265304\n",
      "Epoch160, valid loss 3.5800982213020323\n",
      "Epoch170, train loss 2.68926891207695\n",
      "Epoch170, valid loss 3.591137614250183\n",
      "Epoch180, train loss 2.6881458163261414\n",
      "Epoch180, valid loss 3.629186315536499\n",
      "Epoch190, train loss 2.6876593858003615\n",
      "Epoch190, valid loss 3.6488364553451538\n",
      "Epoch200, train loss 2.687247281074524\n",
      "Epoch200, valid loss 3.651164526939392\n",
      "Epoch210, train loss 2.686485897600651\n",
      "Epoch210, valid loss 3.6773597145080568\n",
      "Epoch220, train loss 2.686285955309868\n",
      "Epoch220, valid loss 3.6745590925216676\n",
      "Epoch230, train loss 2.685505225658417\n",
      "Epoch230, valid loss 3.719534993171692\n",
      "Epoch240, train loss 2.6851244628429414\n",
      "Epoch240, valid loss 3.7112266635894775\n",
      "Epoch250, train loss 2.684415773153305\n",
      "Epoch250, valid loss 3.766363091468811\n",
      "Epoch260, train loss 2.683812484741211\n",
      "Epoch260, valid loss 3.7516286468505857\n",
      "Epoch270, train loss 2.683400016129017\n",
      "Epoch270, valid loss 3.777006673812866\n",
      "Epoch280, train loss 2.6828586703538893\n",
      "Epoch280, valid loss 3.7927383279800413\n",
      "Epoch290, train loss 2.6821893337368965\n",
      "Epoch290, valid loss 3.81919412612915\n",
      "Epoch300, train loss 2.6818130272626877\n",
      "Epoch300, valid loss 3.8136834478378296\n",
      "MLP2 - model Results\n",
      "r2 -195.28657927936462\n",
      "mse 2.7591301887725144\n",
      "mae 1.2572260617154665\n",
      "mape 117.2341087725558\n",
      "Modelo 3\n",
      "Epoch10, train loss 2.723790586590767\n",
      "Epoch10, valid loss 3.008066191673279\n",
      "Epoch20, train loss 2.718066183030605\n",
      "Epoch20, valid loss 3.0473583817481993\n",
      "Epoch30, train loss 2.7144352102279665\n",
      "Epoch30, valid loss 3.0823590540885926\n",
      "Epoch40, train loss 2.710996664762497\n",
      "Epoch40, valid loss 3.124526584148407\n",
      "Epoch50, train loss 2.7087412029504776\n",
      "Epoch50, valid loss 3.159516177177429\n",
      "Epoch60, train loss 2.7068430334329605\n",
      "Epoch60, valid loss 3.189854135513306\n",
      "Epoch70, train loss 2.704695525765419\n",
      "Epoch70, valid loss 3.2292250752449037\n",
      "Epoch80, train loss 2.7032443407177924\n",
      "Epoch80, valid loss 3.2593546056747438\n",
      "Epoch90, train loss 2.701756538450718\n",
      "Epoch90, valid loss 3.283761253356934\n",
      "Epoch100, train loss 2.700349694490433\n",
      "Epoch100, valid loss 3.312986114025116\n",
      "Epoch110, train loss 2.6987650951743127\n",
      "Epoch110, valid loss 3.3501015853881837\n",
      "Epoch120, train loss 2.6976234045624734\n",
      "Epoch120, valid loss 3.369208862781525\n",
      "Epoch130, train loss 2.696489509046078\n",
      "Epoch130, valid loss 3.3888401675224302\n",
      "Epoch140, train loss 2.695623501241207\n",
      "Epoch140, valid loss 3.4034429836273192\n",
      "Epoch150, train loss 2.694660709798336\n",
      "Epoch150, valid loss 3.42974440574646\n",
      "Epoch160, train loss 2.6932467314600945\n",
      "Epoch160, valid loss 3.4572885704040526\n",
      "Epoch170, train loss 2.6927005553245547\n",
      "Epoch170, valid loss 3.4696817994117737\n",
      "Epoch180, train loss 2.6916118919849397\n",
      "Epoch180, valid loss 3.50288072347641\n",
      "Epoch190, train loss 2.691409493088722\n",
      "Epoch190, valid loss 3.513010263442993\n",
      "Epoch200, train loss 2.690519686937332\n",
      "Epoch200, valid loss 3.5288940715789794\n",
      "Epoch210, train loss 2.689901777803898\n",
      "Epoch210, valid loss 3.548634181022644\n",
      "Epoch220, train loss 2.6895151990652084\n",
      "Epoch220, valid loss 3.5606622767448424\n",
      "Epoch230, train loss 2.6886713880300523\n",
      "Epoch230, valid loss 3.5830919337272644\n",
      "Epoch240, train loss 2.6883698534965514\n",
      "Epoch240, valid loss 3.596204628944397\n",
      "Epoch250, train loss 2.687683209478855\n",
      "Epoch250, valid loss 3.5950896406173705\n",
      "Epoch260, train loss 2.687394739985466\n",
      "Epoch260, valid loss 3.607238726615906\n",
      "Epoch270, train loss 2.686473213136196\n",
      "Epoch270, valid loss 3.6396851921081543\n",
      "Epoch280, train loss 2.686484818160534\n",
      "Epoch280, valid loss 3.6373675870895386\n",
      "Epoch290, train loss 2.685985882282257\n",
      "Epoch290, valid loss 3.6534554815292357\n",
      "Epoch300, train loss 2.685681884586811\n",
      "Epoch300, valid loss 3.6566216802597045\n",
      "MLP3 - model Results\n",
      "r2 -199.72925194057785\n",
      "mse 2.7573962742780505\n",
      "mae 1.2564060025448782\n",
      "mape 90.37478649698387\n",
      "Modelo 4\n",
      "Epoch10, train loss 2.725086461007595\n",
      "Epoch10, valid loss 2.99341136097908\n",
      "Epoch20, train loss 2.7176484024524687\n",
      "Epoch20, valid loss 3.0407095837593077\n",
      "Epoch30, train loss 2.7118823996186254\n",
      "Epoch30, valid loss 3.0959100341796875\n",
      "Epoch40, train loss 2.7086623075604437\n",
      "Epoch40, valid loss 3.1450656247138977\n",
      "Epoch50, train loss 2.706021017730236\n",
      "Epoch50, valid loss 3.193227689266205\n",
      "Epoch60, train loss 2.703846210539341\n",
      "Epoch60, valid loss 3.2385491228103636\n",
      "Epoch70, train loss 2.7016514199972153\n",
      "Epoch70, valid loss 3.274366567134857\n",
      "Epoch80, train loss 2.7004393967986107\n",
      "Epoch80, valid loss 3.3108731341362\n",
      "Epoch90, train loss 2.6989361783862114\n",
      "Epoch90, valid loss 3.3332890462875366\n",
      "Epoch100, train loss 2.6980397486686707\n",
      "Epoch100, valid loss 3.3620829010009765\n",
      "Epoch110, train loss 2.6973604065179826\n",
      "Epoch110, valid loss 3.363438606262207\n",
      "Epoch120, train loss 2.695962442755699\n",
      "Epoch120, valid loss 3.398230516910553\n",
      "Epoch130, train loss 2.6950597840547563\n",
      "Epoch130, valid loss 3.432216100692749\n",
      "Epoch140, train loss 2.6942354342341424\n",
      "Epoch140, valid loss 3.447660019397736\n",
      "Epoch150, train loss 2.69352132499218\n",
      "Epoch150, valid loss 3.454985704421997\n",
      "Epoch160, train loss 2.6928559738397597\n",
      "Epoch160, valid loss 3.4817777037620545\n",
      "Epoch170, train loss 2.6919894620776175\n",
      "Epoch170, valid loss 3.50146568775177\n",
      "Epoch180, train loss 2.69160206079483\n",
      "Epoch180, valid loss 3.521397728919983\n",
      "Epoch190, train loss 2.690596421957016\n",
      "Epoch190, valid loss 3.549522361755371\n",
      "Epoch200, train loss 2.6898785158991814\n",
      "Epoch200, valid loss 3.561260759830475\n",
      "Epoch210, train loss 2.689574116766453\n",
      "Epoch210, valid loss 3.567754712104797\n",
      "Epoch220, train loss 2.6891717493534086\n",
      "Epoch220, valid loss 3.5718244981765745\n",
      "Epoch230, train loss 2.688351848423481\n",
      "Epoch230, valid loss 3.609358012676239\n",
      "Epoch240, train loss 2.687747648358345\n",
      "Epoch240, valid loss 3.61612943649292\n",
      "Epoch250, train loss 2.687279145717621\n",
      "Epoch250, valid loss 3.6295574378967284\n",
      "Epoch260, train loss 2.686764041483402\n",
      "Epoch260, valid loss 3.649909815788269\n",
      "Epoch270, train loss 2.6864319625496864\n",
      "Epoch270, valid loss 3.656114549636841\n",
      "Epoch280, train loss 2.6860351395606994\n",
      "Epoch280, valid loss 3.679675359725952\n",
      "Epoch290, train loss 2.6853291296958925\n",
      "Epoch290, valid loss 3.7030048179626465\n",
      "Epoch300, train loss 2.6858010989427568\n",
      "Epoch300, valid loss 3.671575231552124\n",
      "MLP4 - model Results\n",
      "r2 -181.01908038983316\n",
      "mse 2.7684794967128754\n",
      "mae 1.2590067156799252\n",
      "mape 122.32301804489087\n",
      "Modelo 5\n",
      "Epoch10, train loss 2.72847369492054\n",
      "Epoch10, valid loss 2.9784042048454284\n",
      "Epoch20, train loss 2.721407891213894\n",
      "Epoch20, valid loss 3.0079463851451873\n",
      "Epoch30, train loss 2.717279904484749\n",
      "Epoch30, valid loss 3.0402813601493834\n",
      "Epoch40, train loss 2.71387454777956\n",
      "Epoch40, valid loss 3.0782135903835295\n",
      "Epoch50, train loss 2.711426393687725\n",
      "Epoch50, valid loss 3.11105992436409\n",
      "Epoch60, train loss 2.709331527352333\n",
      "Epoch60, valid loss 3.1434659481048586\n",
      "Epoch70, train loss 2.7071209773421288\n",
      "Epoch70, valid loss 3.183983793258667\n",
      "Epoch80, train loss 2.7052572610974313\n",
      "Epoch80, valid loss 3.2107483959197998\n",
      "Epoch90, train loss 2.703482535779476\n",
      "Epoch90, valid loss 3.246792640686035\n",
      "Epoch100, train loss 2.7021895906329156\n",
      "Epoch100, valid loss 3.2790756368637086\n",
      "Epoch110, train loss 2.70044364631176\n",
      "Epoch110, valid loss 3.305538151264191\n",
      "Epoch120, train loss 2.699233386814594\n",
      "Epoch120, valid loss 3.3359415483474733\n",
      "Epoch130, train loss 2.6983509343862533\n",
      "Epoch130, valid loss 3.362623908519745\n",
      "Epoch140, train loss 2.6967226576805117\n",
      "Epoch140, valid loss 3.3880872535705566\n",
      "Epoch150, train loss 2.6957183781266214\n",
      "Epoch150, valid loss 3.416100754737854\n",
      "Epoch160, train loss 2.6950813552737234\n",
      "Epoch160, valid loss 3.431626455783844\n",
      "Epoch170, train loss 2.6940241491794588\n",
      "Epoch170, valid loss 3.460542047023773\n",
      "Epoch180, train loss 2.692771971821785\n",
      "Epoch180, valid loss 3.481725800037384\n",
      "Epoch190, train loss 2.691786817908287\n",
      "Epoch190, valid loss 3.506923208236694\n",
      "Epoch200, train loss 2.69109304279089\n",
      "Epoch200, valid loss 3.532549741268158\n",
      "Epoch210, train loss 2.690167561173439\n",
      "Epoch210, valid loss 3.554469268321991\n",
      "Epoch220, train loss 2.689503057003021\n",
      "Epoch220, valid loss 3.575025289058685\n",
      "Epoch230, train loss 2.688454332053661\n",
      "Epoch230, valid loss 3.595166890621185\n",
      "Epoch240, train loss 2.687542451620102\n",
      "Epoch240, valid loss 3.632165412902832\n",
      "Epoch250, train loss 2.687343129813671\n",
      "Epoch250, valid loss 3.631310377120972\n",
      "Epoch260, train loss 2.6864783829450607\n",
      "Epoch260, valid loss 3.671409010887146\n",
      "Epoch270, train loss 2.6861571165919305\n",
      "Epoch270, valid loss 3.6700288915634154\n",
      "Epoch280, train loss 2.6847242543101313\n",
      "Epoch280, valid loss 3.6996153593063354\n",
      "Epoch290, train loss 2.6844917079806327\n",
      "Epoch290, valid loss 3.726038866043091\n",
      "Epoch300, train loss 2.683996961414814\n",
      "Epoch300, valid loss 3.7332494354248045\n",
      "MLP5 - model Results\n",
      "r2 -200.1695778118277\n",
      "mse 2.7672162618821106\n",
      "mae 1.258869911522715\n",
      "mape 634.0888031340198\n",
      "Modelo 6\n",
      "Epoch10, train loss 2.724998554289341\n",
      "Epoch10, valid loss 2.9873253870010377\n",
      "Epoch20, train loss 2.7170424833893776\n",
      "Epoch20, valid loss 3.0395236349105836\n",
      "Epoch30, train loss 2.713519186973572\n",
      "Epoch30, valid loss 3.081471575498581\n",
      "Epoch40, train loss 2.7104822811484337\n",
      "Epoch40, valid loss 3.1288421607017516\n",
      "Epoch50, train loss 2.708313811123371\n",
      "Epoch50, valid loss 3.164126513004303\n",
      "Epoch60, train loss 2.7062782314419747\n",
      "Epoch60, valid loss 3.195278887748718\n",
      "Epoch70, train loss 2.7049670082330706\n",
      "Epoch70, valid loss 3.2186200070381163\n",
      "Epoch80, train loss 2.703520601093769\n",
      "Epoch80, valid loss 3.247039589881897\n",
      "Epoch90, train loss 2.7021417379379273\n",
      "Epoch90, valid loss 3.274176516532898\n",
      "Epoch100, train loss 2.700622942447662\n",
      "Epoch100, valid loss 3.2989923429489134\n",
      "Epoch110, train loss 2.699526609480381\n",
      "Epoch110, valid loss 3.3269172310829163\n",
      "Epoch120, train loss 2.6980768981575967\n",
      "Epoch120, valid loss 3.3432499098777773\n",
      "Epoch130, train loss 2.6969809809327128\n",
      "Epoch130, valid loss 3.3623322319984434\n",
      "Epoch140, train loss 2.696014012992382\n",
      "Epoch140, valid loss 3.3831010341644285\n",
      "Epoch150, train loss 2.6950156617164613\n",
      "Epoch150, valid loss 3.4068034267425538\n",
      "Epoch160, train loss 2.693984772861004\n",
      "Epoch160, valid loss 3.423717520236969\n",
      "Epoch170, train loss 2.693456633687019\n",
      "Epoch170, valid loss 3.4408524227142334\n",
      "Epoch180, train loss 2.692697604596615\n",
      "Epoch180, valid loss 3.4605732464790346\n",
      "Epoch190, train loss 2.6915011021494863\n",
      "Epoch190, valid loss 3.4913629603385927\n",
      "Epoch200, train loss 2.690945580303669\n",
      "Epoch200, valid loss 3.4997011971473695\n",
      "Epoch210, train loss 2.690385200381279\n",
      "Epoch210, valid loss 3.5175087523460387\n",
      "Epoch220, train loss 2.6893445482850074\n",
      "Epoch220, valid loss 3.542322075366974\n",
      "Epoch230, train loss 2.689340108036995\n",
      "Epoch230, valid loss 3.5363556241989134\n",
      "Epoch240, train loss 2.6885848686099054\n",
      "Epoch240, valid loss 3.5647119760513304\n",
      "Epoch250, train loss 2.6878131851553917\n",
      "Epoch250, valid loss 3.594254493713379\n",
      "Epoch260, train loss 2.6876888489723205\n",
      "Epoch260, valid loss 3.5954571342468262\n",
      "Epoch270, train loss 2.6871413451433184\n",
      "Epoch270, valid loss 3.6080174160003664\n",
      "Epoch280, train loss 2.6865006428956986\n",
      "Epoch280, valid loss 3.620908088684082\n",
      "Epoch290, train loss 2.686214186549187\n",
      "Epoch290, valid loss 3.632995295524597\n",
      "Epoch300, train loss 2.6851649698615074\n",
      "Epoch300, valid loss 3.664505109786987\n",
      "MLP6 - model Results\n",
      "r2 -184.71456085423935\n",
      "mse 2.769272732769078\n",
      "mae 1.260872101087338\n",
      "mape 56.86100537415392\n",
      "Modelo 7\n",
      "Epoch10, train loss 2.72036226272583\n",
      "Epoch10, valid loss 3.0222384262084963\n",
      "Epoch20, train loss 2.7147547283768656\n",
      "Epoch20, valid loss 3.078465141057968\n",
      "Epoch30, train loss 2.711184112131596\n",
      "Epoch30, valid loss 3.12209933757782\n",
      "Epoch40, train loss 2.708128882944584\n",
      "Epoch40, valid loss 3.161990296840668\n",
      "Epoch50, train loss 2.7054250288009642\n",
      "Epoch50, valid loss 3.1972288060188294\n",
      "Epoch60, train loss 2.702984298169613\n",
      "Epoch60, valid loss 3.2351031827926637\n",
      "Epoch70, train loss 2.7009408581256866\n",
      "Epoch70, valid loss 3.274135959148407\n",
      "Epoch80, train loss 2.6996377044916153\n",
      "Epoch80, valid loss 3.2986578249931338\n",
      "Epoch90, train loss 2.698358626961708\n",
      "Epoch90, valid loss 3.31996958732605\n",
      "Epoch100, train loss 2.6969389539957045\n",
      "Epoch100, valid loss 3.350955183506012\n",
      "Epoch110, train loss 2.695625808238983\n",
      "Epoch110, valid loss 3.376345064640045\n",
      "Epoch120, train loss 2.6943664848804474\n",
      "Epoch120, valid loss 3.403500490188599\n",
      "Epoch130, train loss 2.693700552880764\n",
      "Epoch130, valid loss 3.4213136529922483\n",
      "Epoch140, train loss 2.692338071465492\n",
      "Epoch140, valid loss 3.4603354644775393\n",
      "Epoch150, train loss 2.691849715411663\n",
      "Epoch150, valid loss 3.4747846007347105\n",
      "Epoch160, train loss 2.690580460727215\n",
      "Epoch160, valid loss 3.505246660709381\n",
      "Epoch170, train loss 2.6894389986991882\n",
      "Epoch170, valid loss 3.528055613040924\n",
      "Epoch180, train loss 2.6892400044202804\n",
      "Epoch180, valid loss 3.528707070350647\n",
      "Epoch190, train loss 2.688916120529175\n",
      "Epoch190, valid loss 3.5526812148094176\n",
      "Epoch200, train loss 2.687510085999966\n",
      "Epoch200, valid loss 3.584199774265289\n",
      "Epoch210, train loss 2.68683975815773\n",
      "Epoch210, valid loss 3.594674391746521\n",
      "Epoch220, train loss 2.686437081992626\n",
      "Epoch220, valid loss 3.6207830333709716\n",
      "Epoch230, train loss 2.685496402680874\n",
      "Epoch230, valid loss 3.6520232486724855\n",
      "Epoch240, train loss 2.6848920050263403\n",
      "Epoch240, valid loss 3.6562571811676023\n",
      "Epoch250, train loss 2.6843690249323844\n",
      "Epoch250, valid loss 3.6737292861938475\n",
      "Epoch260, train loss 2.683716689050198\n",
      "Epoch260, valid loss 3.699292054176331\n",
      "Epoch270, train loss 2.6842621409893037\n",
      "Epoch270, valid loss 3.684290552139282\n",
      "Epoch280, train loss 2.6831598365306855\n",
      "Epoch280, valid loss 3.7158805179595946\n",
      "Epoch290, train loss 2.682701022028923\n",
      "Epoch290, valid loss 3.731700553894043\n",
      "Epoch300, train loss 2.6820884373784066\n",
      "Epoch300, valid loss 3.7662548065185546\n",
      "MLP7 - model Results\n",
      "r2 -224.06683247017702\n",
      "mse 2.752320716144157\n",
      "mae 1.2563694292755387\n",
      "mape 37.42607590141271\n",
      "Modelo 8\n",
      "Epoch10, train loss 2.723875175714493\n",
      "Epoch10, valid loss 3.001182259321213\n",
      "Epoch20, train loss 2.716400354206562\n",
      "Epoch20, valid loss 3.0504984605312346\n",
      "Epoch30, train loss 2.7115198704600334\n",
      "Epoch30, valid loss 3.0993676805496215\n",
      "Epoch40, train loss 2.7074995189905167\n",
      "Epoch40, valid loss 3.1517336320877076\n",
      "Epoch50, train loss 2.7042701935768125\n",
      "Epoch50, valid loss 3.205158395767212\n",
      "Epoch60, train loss 2.701737352907658\n",
      "Epoch60, valid loss 3.25496830701828\n",
      "Epoch70, train loss 2.6995575481653216\n",
      "Epoch70, valid loss 3.306905834674835\n",
      "Epoch80, train loss 2.697556876540184\n",
      "Epoch80, valid loss 3.3474797105789182\n",
      "Epoch90, train loss 2.6955929538607597\n",
      "Epoch90, valid loss 3.397643659114838\n",
      "Epoch100, train loss 2.693717517256737\n",
      "Epoch100, valid loss 3.4442259001731874\n",
      "Epoch110, train loss 2.6921817192435267\n",
      "Epoch110, valid loss 3.4812277293205263\n",
      "Epoch120, train loss 2.690887671709061\n",
      "Epoch120, valid loss 3.513044905662537\n",
      "Epoch130, train loss 2.689729556441307\n",
      "Epoch130, valid loss 3.557783761024475\n",
      "Epoch140, train loss 2.6887215480208395\n",
      "Epoch140, valid loss 3.5937453222274782\n",
      "Epoch150, train loss 2.6879746475815773\n",
      "Epoch150, valid loss 3.6138766241073608\n",
      "Epoch160, train loss 2.686963303387165\n",
      "Epoch160, valid loss 3.6413700771331787\n",
      "Epoch170, train loss 2.6861159723997114\n",
      "Epoch170, valid loss 3.6780868196487426\n",
      "Epoch180, train loss 2.685396759212017\n",
      "Epoch180, valid loss 3.692807674407959\n",
      "Epoch190, train loss 2.684933643043041\n",
      "Epoch190, valid loss 3.6991270685195925\n",
      "Epoch200, train loss 2.6843591064214705\n",
      "Epoch200, valid loss 3.73445161819458\n",
      "Epoch210, train loss 2.6836470860242843\n",
      "Epoch210, valid loss 3.771916470527649\n",
      "Epoch220, train loss 2.683251093029976\n",
      "Epoch220, valid loss 3.766072254180908\n",
      "Epoch230, train loss 2.6827178904414177\n",
      "Epoch230, valid loss 3.8019069719314573\n",
      "Epoch240, train loss 2.682288438975811\n",
      "Epoch240, valid loss 3.8273806762695313\n",
      "Epoch250, train loss 2.6820574167370794\n",
      "Epoch250, valid loss 3.843061900138855\n",
      "Epoch260, train loss 2.6811749792099\n",
      "Epoch260, valid loss 3.8611942100524903\n",
      "Epoch270, train loss 2.680968599319458\n",
      "Epoch270, valid loss 3.8488252353668213\n",
      "Epoch280, train loss 2.680743253827095\n",
      "Epoch280, valid loss 3.8633508348464964\n",
      "Epoch290, train loss 2.679893086850643\n",
      "Epoch290, valid loss 3.893499984741211\n",
      "Epoch300, train loss 2.679855755865574\n",
      "Epoch300, valid loss 3.891999053955078\n",
      "MLP8 - model Results\n",
      "r2 -189.97981168315715\n",
      "mse 2.749288407431234\n",
      "mae 1.2555136957315844\n",
      "mape 310.7583252780401\n",
      "Modelo 9\n",
      "Epoch10, train loss 2.725906279981136\n",
      "Epoch10, valid loss 2.989701519012451\n",
      "Epoch20, train loss 2.7197070243954657\n",
      "Epoch20, valid loss 3.024855262041092\n",
      "Epoch30, train loss 2.715348044633865\n",
      "Epoch30, valid loss 3.0638017308712007\n",
      "Epoch40, train loss 2.7117054706811903\n",
      "Epoch40, valid loss 3.106863031387329\n",
      "Epoch50, train loss 2.7090004682540894\n",
      "Epoch50, valid loss 3.150235984325409\n",
      "Epoch60, train loss 2.7064351317286492\n",
      "Epoch60, valid loss 3.1879392647743225\n",
      "Epoch70, train loss 2.7045848178863525\n",
      "Epoch70, valid loss 3.222136137485504\n",
      "Epoch80, train loss 2.7027329105138778\n",
      "Epoch80, valid loss 3.26104373216629\n",
      "Epoch90, train loss 2.701105451285839\n",
      "Epoch90, valid loss 3.2887126111984255\n",
      "Epoch100, train loss 2.6996518370509146\n",
      "Epoch100, valid loss 3.3203341221809386\n",
      "Epoch110, train loss 2.6982158744335174\n",
      "Epoch110, valid loss 3.3526238799095154\n",
      "Epoch120, train loss 2.6969745349884033\n",
      "Epoch120, valid loss 3.3754042959213257\n",
      "Epoch130, train loss 2.69590911000967\n",
      "Epoch130, valid loss 3.400952980518341\n",
      "Epoch140, train loss 2.6947296664118765\n",
      "Epoch140, valid loss 3.4281897854804995\n",
      "Epoch150, train loss 2.6940106749534607\n",
      "Epoch150, valid loss 3.4496911215782164\n",
      "Epoch160, train loss 2.692751567363739\n",
      "Epoch160, valid loss 3.4754809665679933\n",
      "Epoch170, train loss 2.6922168868780134\n",
      "Epoch170, valid loss 3.5155004477500915\n",
      "Epoch180, train loss 2.691011363863945\n",
      "Epoch180, valid loss 3.5428829646110533\n",
      "Epoch190, train loss 2.6902085652947427\n",
      "Epoch190, valid loss 3.5710821843147276\n",
      "Epoch200, train loss 2.6893558126688\n",
      "Epoch200, valid loss 3.583842854499817\n",
      "Epoch210, train loss 2.6881845608353614\n",
      "Epoch210, valid loss 3.599946641921997\n",
      "Epoch220, train loss 2.687508747279644\n",
      "Epoch220, valid loss 3.6241841602325437\n",
      "Epoch230, train loss 2.687297642827034\n",
      "Epoch230, valid loss 3.640100271701813\n",
      "Epoch240, train loss 2.6859511631727218\n",
      "Epoch240, valid loss 3.6817828464508056\n",
      "Epoch250, train loss 2.6852999559044837\n",
      "Epoch250, valid loss 3.703442068099976\n",
      "Epoch260, train loss 2.6844798547029494\n",
      "Epoch260, valid loss 3.7145687627792356\n",
      "Epoch270, train loss 2.684115878343582\n",
      "Epoch270, valid loss 3.765853290557861\n",
      "Epoch280, train loss 2.6836252346634866\n",
      "Epoch280, valid loss 3.771110863685608\n",
      "Epoch290, train loss 2.683229075074196\n",
      "Epoch290, valid loss 3.7889554500579834\n",
      "Epoch300, train loss 2.6822461915016174\n",
      "Epoch300, valid loss 3.8105893516540528\n",
      "MLP9 - model Results\n",
      "r2 -188.50513994821017\n",
      "mse 2.7620637536393433\n",
      "mae 1.2574752432135843\n",
      "mape 71.45726463323798\n"
     ]
    }
   ],
   "source": [
    "mlp_models_d1, results_metrics_MLP_d1 = generate_models(train_dataloader_d1, valid_dataloader_d1, y_test_d1, test_dataloader_d1)"
   ]
  },
  {
   "cell_type": "code",
   "execution_count": 146,
   "metadata": {},
   "outputs": [
    {
     "data": {
      "text/html": [
       "<div>\n",
       "<style scoped>\n",
       "    .dataframe tbody tr th:only-of-type {\n",
       "        vertical-align: middle;\n",
       "    }\n",
       "\n",
       "    .dataframe tbody tr th {\n",
       "        vertical-align: top;\n",
       "    }\n",
       "\n",
       "    .dataframe thead th {\n",
       "        text-align: right;\n",
       "    }\n",
       "</style>\n",
       "<table border=\"1\" class=\"dataframe\">\n",
       "  <thead>\n",
       "    <tr style=\"text-align: right;\">\n",
       "      <th></th>\n",
       "      <th>MLP0</th>\n",
       "      <th>MLP1</th>\n",
       "      <th>MLP2</th>\n",
       "      <th>MLP3</th>\n",
       "      <th>MLP4</th>\n",
       "      <th>MLP5</th>\n",
       "      <th>MLP6</th>\n",
       "      <th>MLP7</th>\n",
       "      <th>MLP8</th>\n",
       "      <th>MLP9</th>\n",
       "    </tr>\n",
       "  </thead>\n",
       "  <tbody>\n",
       "    <tr>\n",
       "      <th>r2</th>\n",
       "      <td>-186.621951</td>\n",
       "      <td>-192.586556</td>\n",
       "      <td>-195.286579</td>\n",
       "      <td>-199.729252</td>\n",
       "      <td>-181.019080</td>\n",
       "      <td>-200.169578</td>\n",
       "      <td>-184.714561</td>\n",
       "      <td>-224.066832</td>\n",
       "      <td>-189.979812</td>\n",
       "      <td>-188.505140</td>\n",
       "    </tr>\n",
       "    <tr>\n",
       "      <th>mse</th>\n",
       "      <td>2.750227</td>\n",
       "      <td>2.757111</td>\n",
       "      <td>2.759130</td>\n",
       "      <td>2.757396</td>\n",
       "      <td>2.768479</td>\n",
       "      <td>2.767216</td>\n",
       "      <td>2.769273</td>\n",
       "      <td>2.752321</td>\n",
       "      <td>2.749288</td>\n",
       "      <td>2.762064</td>\n",
       "    </tr>\n",
       "    <tr>\n",
       "      <th>mae</th>\n",
       "      <td>1.255934</td>\n",
       "      <td>1.256027</td>\n",
       "      <td>1.257226</td>\n",
       "      <td>1.256406</td>\n",
       "      <td>1.259007</td>\n",
       "      <td>1.258870</td>\n",
       "      <td>1.260872</td>\n",
       "      <td>1.256369</td>\n",
       "      <td>1.255514</td>\n",
       "      <td>1.257475</td>\n",
       "    </tr>\n",
       "    <tr>\n",
       "      <th>mape</th>\n",
       "      <td>235.762932</td>\n",
       "      <td>72.630538</td>\n",
       "      <td>117.234109</td>\n",
       "      <td>90.374786</td>\n",
       "      <td>122.323018</td>\n",
       "      <td>634.088803</td>\n",
       "      <td>56.861005</td>\n",
       "      <td>37.426076</td>\n",
       "      <td>310.758325</td>\n",
       "      <td>71.457265</td>\n",
       "    </tr>\n",
       "  </tbody>\n",
       "</table>\n",
       "</div>"
      ],
      "text/plain": [
       "            MLP0        MLP1        MLP2        MLP3        MLP4        MLP5  \\\n",
       "r2   -186.621951 -192.586556 -195.286579 -199.729252 -181.019080 -200.169578   \n",
       "mse     2.750227    2.757111    2.759130    2.757396    2.768479    2.767216   \n",
       "mae     1.255934    1.256027    1.257226    1.256406    1.259007    1.258870   \n",
       "mape  235.762932   72.630538  117.234109   90.374786  122.323018  634.088803   \n",
       "\n",
       "            MLP6        MLP7        MLP8        MLP9  \n",
       "r2   -184.714561 -224.066832 -189.979812 -188.505140  \n",
       "mse     2.769273    2.752321    2.749288    2.762064  \n",
       "mae     1.260872    1.256369    1.255514    1.257475  \n",
       "mape   56.861005   37.426076  310.758325   71.457265  "
      ]
     },
     "execution_count": 146,
     "metadata": {},
     "output_type": "execute_result"
    }
   ],
   "source": [
    "pd.DataFrame(results_metrics_MLP_d1)"
   ]
  },
  {
   "cell_type": "markdown",
   "metadata": {},
   "source": [
    "Resultados do melhor modelo"
   ]
  },
  {
   "cell_type": "code",
   "execution_count": 154,
   "metadata": {},
   "outputs": [],
   "source": [
    "best_MLP_d1 = get_best_model(\"mse\", results_metrics_MLP_d1, mlp_models_d1)\n",
    "pred_best_MLP_d1 = predict_mlp(best_MLP_d1, test_dataloader_d1)"
   ]
  },
  {
   "cell_type": "code",
   "execution_count": 155,
   "metadata": {},
   "outputs": [
    {
     "name": "stdout",
     "output_type": "stream",
     "text": [
      "MLP-d1 - model Results\n",
      "r2 -189.97981168315715\n",
      "mse 2.749288407431234\n",
      "mae 1.2555136957315844\n",
      "mape 310.7583252780401\n"
     ]
    },
    {
     "data": {
      "text/plain": [
       "{'r2': -189.97981168315715,\n",
       " 'mse': 2.749288407431234,\n",
       " 'mae': 1.2555136957315844,\n",
       " 'mape': 310.7583252780401}"
      ]
     },
     "execution_count": 155,
     "metadata": {},
     "output_type": "execute_result"
    }
   ],
   "source": [
    "show_metrics(y_test_d1,pred_best_MLP_d1, results, 'MLP-d1')"
   ]
  },
  {
   "cell_type": "code",
   "execution_count": 156,
   "metadata": {},
   "outputs": [
    {
     "data": {
      "text/plain": [
       "<AxesSubplot:>"
      ]
     },
     "execution_count": 156,
     "metadata": {},
     "output_type": "execute_result"
    },
    {
     "data": {
      "image/png": "[encoded data removed]",
      "text/plain": [
       "<Figure size 432x288 with 1 Axes>"
      ]
     },
     "metadata": {
      "needs_background": "light"
     },
     "output_type": "display_data"
    }
   ],
   "source": [
    "pd.concat([pd.Series(pred_best_MLP_d1, name='pred'), y_test_d1.reset_index(drop=True)],axis=1).plot()"
   ]
  },
  {
   "cell_type": "markdown",
   "metadata": {},
   "source": [
    "Analise do resíduo"
   ]
  },
  {
   "cell_type": "code",
   "execution_count": 157,
   "metadata": {},
   "outputs": [
    {
     "data": {
      "text/plain": [
       "<AxesSubplot:>"
      ]
     },
     "execution_count": 157,
     "metadata": {},
     "output_type": "execute_result"
    },
    {
     "data": {
      "image/png": "[encoded data removed]",
      "text/plain": [
       "<Figure size 432x288 with 1 Axes>"
      ]
     },
     "metadata": {
      "needs_background": "light"
     },
     "output_type": "display_data"
    }
   ],
   "source": [
    "residuos = pred_best_MLP_d1 - y_test_d1.reset_index(drop=True).values.flatten()\n",
    "pd.Series(residuos).plot()"
   ]
  },
  {
   "cell_type": "code",
   "execution_count": 158,
   "metadata": {},
   "outputs": [
    {
     "data": {
      "text/plain": [
       "<AxesSubplot:ylabel='Density'>"
      ]
     },
     "execution_count": 158,
     "metadata": {},
     "output_type": "execute_result"
    },
    {
     "data": {
      "image/png": "[encoded data removed]",
      "text/plain": [
       "<Figure size 432x288 with 1 Axes>"
      ]
     },
     "metadata": {
      "needs_background": "light"
     },
     "output_type": "display_data"
    }
   ],
   "source": [
    "pd.Series(residuos).plot.kde()"
   ]
  },
  {
   "cell_type": "code",
   "execution_count": 159,
   "metadata": {},
   "outputs": [
    {
     "data": {
      "image/png": "[encoded data removed]",
      "text/plain": [
       "<Figure size 432x288 with 1 Axes>"
      ]
     },
     "execution_count": 159,
     "metadata": {},
     "output_type": "execute_result"
    },
    {
     "data": {
      "image/png": "[encoded data removed]",
      "text/plain": [
       "<Figure size 432x288 with 1 Axes>"
      ]
     },
     "metadata": {
      "needs_background": "light"
     },
     "output_type": "display_data"
    }
   ],
   "source": [
    "plot_acf(residuos)"
   ]
  },
  {
   "cell_type": "markdown",
   "metadata": {},
   "source": [
    "## Resultado dos Modelos"
   ]
  },
  {
   "cell_type": "code",
   "execution_count": 125,
   "metadata": {},
   "outputs": [
    {
     "data": {
      "text/html": [
       "<div>\n",
       "<style scoped>\n",
       "    .dataframe tbody tr th:only-of-type {\n",
       "        vertical-align: middle;\n",
       "    }\n",
       "\n",
       "    .dataframe tbody tr th {\n",
       "        vertical-align: top;\n",
       "    }\n",
       "\n",
       "    .dataframe thead th {\n",
       "        text-align: right;\n",
       "    }\n",
       "</style>\n",
       "<table border=\"1\" class=\"dataframe\">\n",
       "  <thead>\n",
       "    <tr style=\"text-align: right;\">\n",
       "      <th></th>\n",
       "      <th>MLP</th>\n",
       "      <th>MLP-d1</th>\n",
       "    </tr>\n",
       "  </thead>\n",
       "  <tbody>\n",
       "    <tr>\n",
       "      <th>r2</th>\n",
       "      <td>0.510567</td>\n",
       "      <td>-1.007073</td>\n",
       "    </tr>\n",
       "    <tr>\n",
       "      <th>mse</th>\n",
       "      <td>37.858623</td>\n",
       "      <td>1452.118525</td>\n",
       "    </tr>\n",
       "    <tr>\n",
       "      <th>mae</th>\n",
       "      <td>5.068069</td>\n",
       "      <td>29.918793</td>\n",
       "    </tr>\n",
       "    <tr>\n",
       "      <th>mape</th>\n",
       "      <td>0.277837</td>\n",
       "      <td>1.394796</td>\n",
       "    </tr>\n",
       "  </tbody>\n",
       "</table>\n",
       "</div>"
      ],
      "text/plain": [
       "            MLP       MLP-d1\n",
       "r2     0.510567    -1.007073\n",
       "mse   37.858623  1452.118525\n",
       "mae    5.068069    29.918793\n",
       "mape   0.277837     1.394796"
      ]
     },
     "execution_count": 125,
     "metadata": {},
     "output_type": "execute_result"
    }
   ],
   "source": [
    "pd.DataFrame(results)"
   ]
  },
  {
   "cell_type": "code",
   "execution_count": null,
   "metadata": {},
   "outputs": [],
   "source": [
    "# graf_ajuste(pd.Series(pred_best_MLP).cumsum(), y_test_d1.reset_index(drop=True).cumsum(), 'Delhi Temperatue - MLP')"
   ]
  },
  {
   "cell_type": "code",
   "execution_count": null,
   "metadata": {},
   "outputs": [],
   "source": [
    "# pred_one = y_test.shift(1).reset_index(drop=True).add(pd.Series(pred_best_MLP, name='temperature'),axis=0)\n",
    "# graf_ajuste(pred_one, y_test.reset_index(drop=True), 'Delhi Temperature - KNN')"
   ]
  },
  {
   "cell_type": "code",
   "execution_count": null,
   "metadata": {},
   "outputs": [],
   "source": [
    "# pred_one = pred_one.fillna(method='bfill')\n",
    "# show_metrics(y_test[:-1],pred_one[:-1] , results, 'MLP pred_one')"
   ]
  }
 ],
 "metadata": {
  "interpreter": {
   "hash": "578d23e9265697bad3ff07bcff4c72684a1087c3ecac6cf42decc0cb53b76ed7"
  },
  "kernelspec": {
   "display_name": "Python 3.9.7 ('data_science')",
   "language": "python",
   "name": "python3"
  },
  "language_info": {
   "codemirror_mode": {
    "name": "ipython",
    "version": 3
   },
   "file_extension": ".py",
   "mimetype": "text/x-python",
   "name": "python",
   "nbconvert_exporter": "python",
   "pygments_lexer": "ipython3",
   "version": "3.9.7"
  },
  "orig_nbformat": 4
 },
 "nbformat": 4,
 "nbformat_minor": 2
}
